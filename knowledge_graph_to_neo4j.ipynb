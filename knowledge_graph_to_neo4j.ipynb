{
 "cells": [
  {
   "cell_type": "code",
   "execution_count": null,
   "metadata": {},
   "outputs": [],
   "source": [
    "import pandas as pd\n",
    "import numpy as np\n",
    "import re\n",
    "from tqdm.notebook import tqdm\n",
    "import neo4j\n",
    "from neo4j import GraphDatabase\n",
    "import os\n",
    "from neo4j_graphrag.experimental.components.embedder import TextChunkEmbedder\n",
    "from neo4j_graphrag.embeddings.openai import OpenAIEmbeddings\n",
    "from neo4j_graphrag.embeddings.ollama import OllamaEmbeddings\n",
    "from neo4j_graphrag.experimental.components.types import TextChunks, TextChunk\n"
   ]
  },
  {
   "cell_type": "markdown",
   "metadata": {},
   "source": [
    "## Original code to load the graph data"
   ]
  },
  {
   "cell_type": "code",
   "execution_count": 2,
   "metadata": {},
   "outputs": [],
   "source": [
    "df=pd.read_csv(\"Data/ADV_GRAPH_20240119.csv\")\n",
    "ls_text=[]\n",
    "ls_index=[]\n",
    "ls_graph=[]\n",
    "# (start_node, edge, end_node)\n",
    "ls_start_node=[]\n",
    "ls_edge=[]\n",
    "ls_end_node=[]\n",
    "ls_len=[]\n",
    "for index, row in df.iterrows():\n",
    "    # Original string\n",
    "    s = row[\"Graph\"]\n",
    "    if s.startswith(\"ERROR:\"):\n",
    "        continue \n",
    "    # Use regex to find all phrases in parentheses\n",
    "    matches = re.findall(r'\\((.*?)\\)', s)\n",
    "    # Format each match by removing commas and stripping whitespace\n",
    "    ls_index+=[index for match in matches]\n",
    "    ls_text+=[' '.join(match.split(',')) for match in matches]\n",
    "    ls_graph+=matches\n",
    "    ls_len+=[len(match.split(',')) for match in matches]\n",
    "    for match in matches:\n",
    "        temp=match.split(',')\n",
    "        if len(temp)==3:\n",
    "            ls_start_node.append(temp[0])\n",
    "            ls_edge.append(temp[1])\n",
    "            ls_end_node.append(temp[2])\n",
    "        else:\n",
    "            ls_start_node.append(\"\")\n",
    "            ls_edge.append(\"\")\n",
    "            ls_end_node.append(\"\")"
   ]
  },
  {
   "cell_type": "code",
   "execution_count": 3,
   "metadata": {},
   "outputs": [],
   "source": [
    "df_map=pd.DataFrame({\n",
    "    \"original_index\":ls_index,\n",
    "    \"graph\":ls_graph,\n",
    "    \"text\":ls_text,\n",
    "    \"len\":ls_len,\n",
    "    \"start_node\":ls_start_node,\n",
    "    \"edge\":ls_edge,\n",
    "    \"end_node\":ls_end_node\n",
    "})\n",
    "df_map=df_map[df_map.len==3].drop(columns=\"len\")"
   ]
  },
  {
   "cell_type": "code",
   "execution_count": 4,
   "metadata": {},
   "outputs": [],
   "source": [
    "df_map[\"start_node\"]=df_map[\"start_node\"].apply(lambda x: ' '.join(str(x. lower()).split()) if isinstance(x, str) else x)\n",
    "df_map[\"edge\"]=df_map[\"edge\"].apply(lambda x: ' '.join(str(x. lower()).split()) if isinstance(x, str) else x)\n",
    "df_map[\"end_node\"]=df_map[\"end_node\"].apply(lambda x: ' '.join(str(x. lower()).split()) if isinstance(x, str) else x)\n",
    "df_map[\"text\"]=df_map[\"text\"].apply(lambda x: ' '.join(str(x).split()) if isinstance(x, str) else x)\n"
   ]
  },
  {
   "cell_type": "code",
   "execution_count": 5,
   "metadata": {},
   "outputs": [
    {
     "data": {
      "application/vnd.jupyter.widget-view+json": {
       "model_id": "6134d37be70d4eb4bc146cc2da1971e6",
       "version_major": 2,
       "version_minor": 0
      },
      "text/plain": [
       "  0%|          | 0/3015 [00:00<?, ?it/s]"
      ]
     },
     "metadata": {},
     "output_type": "display_data"
    }
   ],
   "source": [
    "minorities=df_map[\"start_node\"].unique()\n",
    "adj_nodes={minority: \n",
    "            set(df_map[(df_map[\"start_node\"]==minority) & (df_map[\"end_node\"].isin(minorities))][\"end_node\"]) \n",
    "            | \n",
    "            set(df_map[(df_map[\"end_node\"]==minority) & (df_map[\"start_node\"].isin(minorities))][\"start_node\"])\n",
    "            for minority in tqdm(minorities)}"
   ]
  },
  {
   "cell_type": "code",
   "execution_count": 6,
   "metadata": {},
   "outputs": [
    {
     "data": {
      "text/html": [
       "<div>\n",
       "<style scoped>\n",
       "    .dataframe tbody tr th:only-of-type {\n",
       "        vertical-align: middle;\n",
       "    }\n",
       "\n",
       "    .dataframe tbody tr th {\n",
       "        vertical-align: top;\n",
       "    }\n",
       "\n",
       "    .dataframe thead th {\n",
       "        text-align: right;\n",
       "    }\n",
       "</style>\n",
       "<table border=\"1\" class=\"dataframe\">\n",
       "  <thead>\n",
       "    <tr style=\"text-align: right;\">\n",
       "      <th></th>\n",
       "      <th>original_index</th>\n",
       "      <th>graph</th>\n",
       "      <th>text</th>\n",
       "      <th>start_node</th>\n",
       "      <th>edge</th>\n",
       "      <th>end_node</th>\n",
       "    </tr>\n",
       "  </thead>\n",
       "  <tbody>\n",
       "    <tr>\n",
       "      <th>0</th>\n",
       "      <td>0</td>\n",
       "      <td>black folks, are, well endowed</td>\n",
       "      <td>black folks are well endowed</td>\n",
       "      <td>black folks</td>\n",
       "      <td>are</td>\n",
       "      <td>well endowed</td>\n",
       "    </tr>\n",
       "    <tr>\n",
       "      <th>1</th>\n",
       "      <td>1</td>\n",
       "      <td>good blacks, belong to, black people</td>\n",
       "      <td>good blacks belong to black people</td>\n",
       "      <td>good blacks</td>\n",
       "      <td>belong to</td>\n",
       "      <td>black people</td>\n",
       "    </tr>\n",
       "  </tbody>\n",
       "</table>\n",
       "</div>"
      ],
      "text/plain": [
       "   original_index                                 graph  \\\n",
       "0               0        black folks, are, well endowed   \n",
       "1               1  good blacks, belong to, black people   \n",
       "\n",
       "                                 text   start_node       edge      end_node  \n",
       "0        black folks are well endowed  black folks        are  well endowed  \n",
       "1  good blacks belong to black people  good blacks  belong to  black people  "
      ]
     },
     "execution_count": 6,
     "metadata": {},
     "output_type": "execute_result"
    }
   ],
   "source": [
    "df_map.head(2)"
   ]
  },
  {
   "cell_type": "code",
   "execution_count": 37,
   "metadata": {},
   "outputs": [
    {
     "data": {
      "text/html": [
       "<div>\n",
       "<style scoped>\n",
       "    .dataframe tbody tr th:only-of-type {\n",
       "        vertical-align: middle;\n",
       "    }\n",
       "\n",
       "    .dataframe tbody tr th {\n",
       "        vertical-align: top;\n",
       "    }\n",
       "\n",
       "    .dataframe thead th {\n",
       "        text-align: right;\n",
       "    }\n",
       "</style>\n",
       "<table border=\"1\" class=\"dataframe\">\n",
       "  <thead>\n",
       "    <tr style=\"text-align: right;\">\n",
       "      <th></th>\n",
       "      <th>original_index</th>\n",
       "      <th>graph</th>\n",
       "      <th>text</th>\n",
       "      <th>start_node</th>\n",
       "      <th>edge</th>\n",
       "      <th>end_node</th>\n",
       "    </tr>\n",
       "  </thead>\n",
       "  <tbody>\n",
       "    <tr>\n",
       "      <th>161</th>\n",
       "      <td>101</td>\n",
       "      <td>black people, overreact,</td>\n",
       "      <td>black people overreact</td>\n",
       "      <td>black people</td>\n",
       "      <td>overreact</td>\n",
       "      <td></td>\n",
       "    </tr>\n",
       "    <tr>\n",
       "      <th>208</th>\n",
       "      <td>135</td>\n",
       "      <td>black folks, don't fit in,</td>\n",
       "      <td>black folks don't fit in</td>\n",
       "      <td>black folks</td>\n",
       "      <td>don't fit in</td>\n",
       "      <td></td>\n",
       "    </tr>\n",
       "    <tr>\n",
       "      <th>592</th>\n",
       "      <td>401</td>\n",
       "      <td>black folks, haven't evolved fully,</td>\n",
       "      <td>black folks haven't evolved fully</td>\n",
       "      <td>black folks</td>\n",
       "      <td>haven't evolved fully</td>\n",
       "      <td></td>\n",
       "    </tr>\n",
       "    <tr>\n",
       "      <th>963</th>\n",
       "      <td>651</td>\n",
       "      <td>black folks, sleep around,</td>\n",
       "      <td>black folks sleep around</td>\n",
       "      <td>black folks</td>\n",
       "      <td>sleep around</td>\n",
       "      <td></td>\n",
       "    </tr>\n",
       "    <tr>\n",
       "      <th>1003</th>\n",
       "      <td>679</td>\n",
       "      <td>black people, shoot,</td>\n",
       "      <td>black people shoot</td>\n",
       "      <td>black people</td>\n",
       "      <td>shoot</td>\n",
       "      <td></td>\n",
       "    </tr>\n",
       "    <tr>\n",
       "      <th>...</th>\n",
       "      <td>...</td>\n",
       "      <td>...</td>\n",
       "      <td>...</td>\n",
       "      <td>...</td>\n",
       "      <td>...</td>\n",
       "      <td>...</td>\n",
       "    </tr>\n",
       "    <tr>\n",
       "      <th>48506</th>\n",
       "      <td>24495</td>\n",
       "      <td>Nigerian folks, don't live long,</td>\n",
       "      <td>Nigerian folks don't live long</td>\n",
       "      <td>nigerian folks</td>\n",
       "      <td>don't live long</td>\n",
       "      <td></td>\n",
       "    </tr>\n",
       "    <tr>\n",
       "      <th>48856</th>\n",
       "      <td>24658</td>\n",
       "      <td>emo kids, cry,</td>\n",
       "      <td>emo kids cry</td>\n",
       "      <td>emo kids</td>\n",
       "      <td>cry</td>\n",
       "      <td></td>\n",
       "    </tr>\n",
       "    <tr>\n",
       "      <th>49588</th>\n",
       "      <td>24955</td>\n",
       "      <td>bisexual women, don't exist,</td>\n",
       "      <td>bisexual women don't exist</td>\n",
       "      <td>bisexual women</td>\n",
       "      <td>don't exist</td>\n",
       "      <td></td>\n",
       "    </tr>\n",
       "    <tr>\n",
       "      <th>49591</th>\n",
       "      <td>24955</td>\n",
       "      <td>bisexual men, don't exist,</td>\n",
       "      <td>bisexual men don't exist</td>\n",
       "      <td>bisexual men</td>\n",
       "      <td>don't exist</td>\n",
       "      <td></td>\n",
       "    </tr>\n",
       "    <tr>\n",
       "      <th>50969</th>\n",
       "      <td>25442</td>\n",
       "      <td>europeans, won't listen,</td>\n",
       "      <td>europeans won't listen</td>\n",
       "      <td>europeans</td>\n",
       "      <td>won't listen</td>\n",
       "      <td></td>\n",
       "    </tr>\n",
       "  </tbody>\n",
       "</table>\n",
       "<p>109 rows × 6 columns</p>\n",
       "</div>"
      ],
      "text/plain": [
       "       original_index                                graph  \\\n",
       "161               101            black people, overreact,    \n",
       "208               135          black folks, don't fit in,    \n",
       "592               401  black folks, haven't evolved fully,   \n",
       "963               651          black folks, sleep around,    \n",
       "1003              679                 black people, shoot,   \n",
       "...               ...                                  ...   \n",
       "48506           24495    Nigerian folks, don't live long,    \n",
       "48856           24658                      emo kids, cry,    \n",
       "49588           24955         bisexual women, don't exist,   \n",
       "49591           24955           bisexual men, don't exist,   \n",
       "50969           25442            europeans, won't listen,    \n",
       "\n",
       "                                    text      start_node  \\\n",
       "161               black people overreact    black people   \n",
       "208             black folks don't fit in     black folks   \n",
       "592    black folks haven't evolved fully     black folks   \n",
       "963             black folks sleep around     black folks   \n",
       "1003                  black people shoot    black people   \n",
       "...                                  ...             ...   \n",
       "48506     Nigerian folks don't live long  nigerian folks   \n",
       "48856                       emo kids cry        emo kids   \n",
       "49588         bisexual women don't exist  bisexual women   \n",
       "49591           bisexual men don't exist    bisexual men   \n",
       "50969             europeans won't listen       europeans   \n",
       "\n",
       "                        edge end_node  \n",
       "161                overreact           \n",
       "208             don't fit in           \n",
       "592    haven't evolved fully           \n",
       "963             sleep around           \n",
       "1003                   shoot           \n",
       "...                      ...      ...  \n",
       "48506        don't live long           \n",
       "48856                    cry           \n",
       "49588            don't exist           \n",
       "49591            don't exist           \n",
       "50969           won't listen           \n",
       "\n",
       "[109 rows x 6 columns]"
      ]
     },
     "execution_count": 37,
     "metadata": {},
     "output_type": "execute_result"
    }
   ],
   "source": [
    "# find empty nodes\n",
    "df_map[(df_map[\"start_node\"]==\"\") | (df_map[\"edge\"]==\"\") | (df_map[\"end_node\"]==\"\")]"
   ]
  },
  {
   "cell_type": "code",
   "execution_count": 38,
   "metadata": {},
   "outputs": [],
   "source": [
    "def get_embeddings(start_node, end_node, edge):\n",
    "    ollama_embedder = OllamaEmbeddings(model=\"nomic-embed-text\")\n",
    "    \n",
    "    start_embedding = ollama_embedder.embed_query(start_node)\n",
    "    if end_node == \"\":\n",
    "        end_embedding = np.zeros(len(start_embedding))\n",
    "    else:\n",
    "        end_embedding = ollama_embedder.embed_query(end_node)\n",
    "    edge_embedding = ollama_embedder.embed_query(edge)\n",
    "\n",
    "    return start_embedding, end_embedding, edge_embedding"
   ]
  },
  {
   "cell_type": "code",
   "execution_count": null,
   "metadata": {},
   "outputs": [],
   "source": [
    "# vector_index = Neo4jVector.from_existing_graph(\n",
    "#     OpenAIEmbeddings(),\n",
    "#     search_type=\"hybrid\",\n",
    "#     node_label=\"Document\",\n",
    "#     text_node_properties=[\"text\"],\n",
    "#     embedding_node_property=\"embedding\"\n",
    "# )\n"
   ]
  },
  {
   "cell_type": "markdown",
   "metadata": {},
   "source": [
    "## Upload to Neo4j"
   ]
  },
  {
   "cell_type": "code",
   "execution_count": 13,
   "metadata": {},
   "outputs": [],
   "source": [
    "# neo4j_uri = os.getenv(\"NEO4J_URI\")\n",
    "# neo4j_user = os.getenv(\"NEO4J_USER\")\n",
    "# neo4j_password = os.getenv(\"NEO4J_PASSWORD\")\n",
    "neo4j_uri = \"bolt://localhost:7687\"\n",
    "neo4j_user= \"neo4j\"\n",
    "neo4j_password = \"biasgraph\""
   ]
  },
  {
   "cell_type": "code",
   "execution_count": 14,
   "metadata": {},
   "outputs": [],
   "source": [
    "def run_query(driver, query, parameters=None):\n",
    "        \"\"\"\n",
    "        Executes a Cypher query against the Neo4j database.\n",
    "\n",
    "        Args:\n",
    "            query (str): The Cypher query to execute.\n",
    "\n",
    "        Returns:\n",
    "            list: A list of query results, where each result is a dictionary.\n",
    "        \"\"\"\n",
    "        with driver.session() as session:\n",
    "            result = session.run(query, parameters)\n",
    "            return [record.data() for record in result]"
   ]
  },
  {
   "cell_type": "code",
   "execution_count": 39,
   "metadata": {},
   "outputs": [
    {
     "name": "stdout",
     "output_type": "stream",
     "text": [
      "0\n",
      "100\n",
      "200\n",
      "300\n"
     ]
    },
    {
     "ename": "KeyboardInterrupt",
     "evalue": "",
     "output_type": "error",
     "traceback": [
      "\u001b[31m---------------------------------------------------------------------------\u001b[39m",
      "\u001b[31mKeyboardInterrupt\u001b[39m                         Traceback (most recent call last)",
      "\u001b[36mCell\u001b[39m\u001b[36m \u001b[39m\u001b[32mIn[39]\u001b[39m\u001b[32m, line 10\u001b[39m\n\u001b[32m      8\u001b[39m end_node=row[\u001b[32m1\u001b[39m][\u001b[33m\"\u001b[39m\u001b[33mend_node\u001b[39m\u001b[33m\"\u001b[39m]\n\u001b[32m      9\u001b[39m edge=row[\u001b[32m1\u001b[39m][\u001b[33m\"\u001b[39m\u001b[33medge\u001b[39m\u001b[33m\"\u001b[39m]\n\u001b[32m---> \u001b[39m\u001b[32m10\u001b[39m start_embedding, end_embedding, edge_embedding = \u001b[43mget_embeddings\u001b[49m\u001b[43m(\u001b[49m\u001b[43mstart_node\u001b[49m\u001b[43m,\u001b[49m\u001b[43m \u001b[49m\u001b[43mend_node\u001b[49m\u001b[43m,\u001b[49m\u001b[43m \u001b[49m\u001b[43medge\u001b[49m\u001b[43m)\u001b[49m\n\u001b[32m     11\u001b[39m query=\u001b[33m\"\"\"\u001b[39m\u001b[33mMERGE (s:StartNode \u001b[39m\u001b[33m{\u001b[39m\u001b[33mtext: $start_node})\u001b[39m\n\u001b[32m     12\u001b[39m \u001b[33m            MERGE (e:EndNode \u001b[39m\u001b[33m{\u001b[39m\u001b[33mtext: $end_node}) \u001b[39m\n\u001b[32m     13\u001b[39m \u001b[33m            MERGE (s)-[r:RELATIONSHIP \u001b[39m\u001b[33m{\u001b[39m\u001b[33mtext: $edge}]->(e)\u001b[39m\n\u001b[32m     14\u001b[39m \u001b[33m            SET s.embedding = $start_embedding, e.embedding = $end_embedding, r.embedding = $edge_embedding\u001b[39m\n\u001b[32m     15\u001b[39m \u001b[33m            RETURN s, e, r\u001b[39m\n\u001b[32m     16\u001b[39m \u001b[33m    \u001b[39m\u001b[33m\"\"\"\u001b[39m\n\u001b[32m     17\u001b[39m parameters = {\u001b[33m\"\u001b[39m\u001b[33mstart_node\u001b[39m\u001b[33m\"\u001b[39m: start_node,\n\u001b[32m     18\u001b[39m             \u001b[33m\"\u001b[39m\u001b[33mend_node\u001b[39m\u001b[33m\"\u001b[39m: end_node,\n\u001b[32m     19\u001b[39m             \u001b[33m\"\u001b[39m\u001b[33medge\u001b[39m\u001b[33m\"\u001b[39m: edge,\n\u001b[32m     20\u001b[39m             \u001b[33m\"\u001b[39m\u001b[33mstart_embedding\u001b[39m\u001b[33m\"\u001b[39m: start_embedding,\n\u001b[32m     21\u001b[39m             \u001b[33m\"\u001b[39m\u001b[33mend_embedding\u001b[39m\u001b[33m\"\u001b[39m: end_embedding,\n\u001b[32m     22\u001b[39m             \u001b[33m\"\u001b[39m\u001b[33medge_embedding\u001b[39m\u001b[33m\"\u001b[39m: edge_embedding}\n",
      "\u001b[36mCell\u001b[39m\u001b[36m \u001b[39m\u001b[32mIn[38]\u001b[39m\u001b[32m, line 8\u001b[39m, in \u001b[36mget_embeddings\u001b[39m\u001b[34m(start_node, end_node, edge)\u001b[39m\n\u001b[32m      6\u001b[39m     end_embedding = np.zeros(\u001b[38;5;28mlen\u001b[39m(start_embedding))\n\u001b[32m      7\u001b[39m \u001b[38;5;28;01melse\u001b[39;00m:\n\u001b[32m----> \u001b[39m\u001b[32m8\u001b[39m     end_embedding = \u001b[43mollama_embedder\u001b[49m\u001b[43m.\u001b[49m\u001b[43membed_query\u001b[49m\u001b[43m(\u001b[49m\u001b[43mend_node\u001b[49m\u001b[43m)\u001b[49m\n\u001b[32m      9\u001b[39m edge_embedding = ollama_embedder.embed_query(edge)\n\u001b[32m     11\u001b[39m \u001b[38;5;28;01mreturn\u001b[39;00m start_embedding, end_embedding, edge_embedding\n",
      "\u001b[36mFile \u001b[39m\u001b[32mc:\\Users\\LisaP\\OneDrive - Info Support B.V\\Thesis\\biaskg\\env\\Lib\\site-packages\\neo4j_graphrag\\embeddings\\ollama.py:52\u001b[39m, in \u001b[36mOllamaEmbeddings.embed_query\u001b[39m\u001b[34m(self, text, **kwargs)\u001b[39m\n\u001b[32m     44\u001b[39m \u001b[38;5;28;01mdef\u001b[39;00m\u001b[38;5;250m \u001b[39m\u001b[34membed_query\u001b[39m(\u001b[38;5;28mself\u001b[39m, text: \u001b[38;5;28mstr\u001b[39m, **kwargs: Any) -> \u001b[38;5;28mlist\u001b[39m[\u001b[38;5;28mfloat\u001b[39m]:\n\u001b[32m     45\u001b[39m \u001b[38;5;250m    \u001b[39m\u001b[33;03m\"\"\"\u001b[39;00m\n\u001b[32m     46\u001b[39m \u001b[33;03m    Generate embeddings for a given query using an Ollama text embedding model.\u001b[39;00m\n\u001b[32m     47\u001b[39m \n\u001b[32m   (...)\u001b[39m\u001b[32m     50\u001b[39m \u001b[33;03m        **kwargs (Any): Additional keyword arguments to pass to the Ollama client.\u001b[39;00m\n\u001b[32m     51\u001b[39m \u001b[33;03m    \"\"\"\u001b[39;00m\n\u001b[32m---> \u001b[39m\u001b[32m52\u001b[39m     embeddings_response = \u001b[38;5;28;43mself\u001b[39;49m\u001b[43m.\u001b[49m\u001b[43mclient\u001b[49m\u001b[43m.\u001b[49m\u001b[43membed\u001b[49m\u001b[43m(\u001b[49m\n\u001b[32m     53\u001b[39m \u001b[43m        \u001b[49m\u001b[43mmodel\u001b[49m\u001b[43m=\u001b[49m\u001b[38;5;28;43mself\u001b[39;49m\u001b[43m.\u001b[49m\u001b[43mmodel\u001b[49m\u001b[43m,\u001b[49m\n\u001b[32m     54\u001b[39m \u001b[43m        \u001b[49m\u001b[38;5;28;43minput\u001b[39;49m\u001b[43m=\u001b[49m\u001b[43mtext\u001b[49m\u001b[43m,\u001b[49m\n\u001b[32m     55\u001b[39m \u001b[43m        \u001b[49m\u001b[43m*\u001b[49m\u001b[43m*\u001b[49m\u001b[43mkwargs\u001b[49m\u001b[43m,\u001b[49m\n\u001b[32m     56\u001b[39m \u001b[43m    \u001b[49m\u001b[43m)\u001b[49m\n\u001b[32m     58\u001b[39m     \u001b[38;5;28;01mif\u001b[39;00m embeddings_response \u001b[38;5;129;01mis\u001b[39;00m \u001b[38;5;28;01mNone\u001b[39;00m \u001b[38;5;129;01mor\u001b[39;00m \u001b[38;5;129;01mnot\u001b[39;00m embeddings_response.embeddings:\n\u001b[32m     59\u001b[39m         \u001b[38;5;28;01mraise\u001b[39;00m EmbeddingsGenerationError(\u001b[33m\"\u001b[39m\u001b[33mFailed to retrieve embeddings.\u001b[39m\u001b[33m\"\u001b[39m)\n",
      "\u001b[36mFile \u001b[39m\u001b[32mc:\\Users\\LisaP\\OneDrive - Info Support B.V\\Thesis\\biaskg\\env\\Lib\\site-packages\\ollama\\_client.py:357\u001b[39m, in \u001b[36mClient.embed\u001b[39m\u001b[34m(self, model, input, truncate, options, keep_alive)\u001b[39m\n\u001b[32m    349\u001b[39m \u001b[38;5;28;01mdef\u001b[39;00m\u001b[38;5;250m \u001b[39m\u001b[34membed\u001b[39m(\n\u001b[32m    350\u001b[39m   \u001b[38;5;28mself\u001b[39m,\n\u001b[32m    351\u001b[39m   model: \u001b[38;5;28mstr\u001b[39m = \u001b[33m'\u001b[39m\u001b[33m'\u001b[39m,\n\u001b[32m   (...)\u001b[39m\u001b[32m    355\u001b[39m   keep_alive: Optional[Union[\u001b[38;5;28mfloat\u001b[39m, \u001b[38;5;28mstr\u001b[39m]] = \u001b[38;5;28;01mNone\u001b[39;00m,\n\u001b[32m    356\u001b[39m ) -> EmbedResponse:\n\u001b[32m--> \u001b[39m\u001b[32m357\u001b[39m   \u001b[38;5;28;01mreturn\u001b[39;00m \u001b[38;5;28;43mself\u001b[39;49m\u001b[43m.\u001b[49m\u001b[43m_request\u001b[49m\u001b[43m(\u001b[49m\n\u001b[32m    358\u001b[39m \u001b[43m    \u001b[49m\u001b[43mEmbedResponse\u001b[49m\u001b[43m,\u001b[49m\n\u001b[32m    359\u001b[39m \u001b[43m    \u001b[49m\u001b[33;43m'\u001b[39;49m\u001b[33;43mPOST\u001b[39;49m\u001b[33;43m'\u001b[39;49m\u001b[43m,\u001b[49m\n\u001b[32m    360\u001b[39m \u001b[43m    \u001b[49m\u001b[33;43m'\u001b[39;49m\u001b[33;43m/api/embed\u001b[39;49m\u001b[33;43m'\u001b[39;49m\u001b[43m,\u001b[49m\n\u001b[32m    361\u001b[39m \u001b[43m    \u001b[49m\u001b[43mjson\u001b[49m\u001b[43m=\u001b[49m\u001b[43mEmbedRequest\u001b[49m\u001b[43m(\u001b[49m\n\u001b[32m    362\u001b[39m \u001b[43m      \u001b[49m\u001b[43mmodel\u001b[49m\u001b[43m=\u001b[49m\u001b[43mmodel\u001b[49m\u001b[43m,\u001b[49m\n\u001b[32m    363\u001b[39m \u001b[43m      \u001b[49m\u001b[38;5;28;43minput\u001b[39;49m\u001b[43m=\u001b[49m\u001b[38;5;28;43minput\u001b[39;49m\u001b[43m,\u001b[49m\n\u001b[32m    364\u001b[39m \u001b[43m      \u001b[49m\u001b[43mtruncate\u001b[49m\u001b[43m=\u001b[49m\u001b[43mtruncate\u001b[49m\u001b[43m,\u001b[49m\n\u001b[32m    365\u001b[39m \u001b[43m      \u001b[49m\u001b[43moptions\u001b[49m\u001b[43m=\u001b[49m\u001b[43moptions\u001b[49m\u001b[43m,\u001b[49m\n\u001b[32m    366\u001b[39m \u001b[43m      \u001b[49m\u001b[43mkeep_alive\u001b[49m\u001b[43m=\u001b[49m\u001b[43mkeep_alive\u001b[49m\u001b[43m,\u001b[49m\n\u001b[32m    367\u001b[39m \u001b[43m    \u001b[49m\u001b[43m)\u001b[49m\u001b[43m.\u001b[49m\u001b[43mmodel_dump\u001b[49m\u001b[43m(\u001b[49m\u001b[43mexclude_none\u001b[49m\u001b[43m=\u001b[49m\u001b[38;5;28;43;01mTrue\u001b[39;49;00m\u001b[43m)\u001b[49m\u001b[43m,\u001b[49m\n\u001b[32m    368\u001b[39m \u001b[43m  \u001b[49m\u001b[43m)\u001b[49m\n",
      "\u001b[36mFile \u001b[39m\u001b[32mc:\\Users\\LisaP\\OneDrive - Info Support B.V\\Thesis\\biaskg\\env\\Lib\\site-packages\\ollama\\_client.py:178\u001b[39m, in \u001b[36mClient._request\u001b[39m\u001b[34m(self, cls, stream, *args, **kwargs)\u001b[39m\n\u001b[32m    174\u001b[39m         \u001b[38;5;28;01myield\u001b[39;00m \u001b[38;5;28mcls\u001b[39m(**part)\n\u001b[32m    176\u001b[39m   \u001b[38;5;28;01mreturn\u001b[39;00m inner()\n\u001b[32m--> \u001b[39m\u001b[32m178\u001b[39m \u001b[38;5;28;01mreturn\u001b[39;00m \u001b[38;5;28mcls\u001b[39m(**\u001b[38;5;28;43mself\u001b[39;49m\u001b[43m.\u001b[49m\u001b[43m_request_raw\u001b[49m\u001b[43m(\u001b[49m\u001b[43m*\u001b[49m\u001b[43margs\u001b[49m\u001b[43m,\u001b[49m\u001b[43m \u001b[49m\u001b[43m*\u001b[49m\u001b[43m*\u001b[49m\u001b[43mkwargs\u001b[49m\u001b[43m)\u001b[49m.json())\n",
      "\u001b[36mFile \u001b[39m\u001b[32mc:\\Users\\LisaP\\OneDrive - Info Support B.V\\Thesis\\biaskg\\env\\Lib\\site-packages\\ollama\\_client.py:118\u001b[39m, in \u001b[36mClient._request_raw\u001b[39m\u001b[34m(self, *args, **kwargs)\u001b[39m\n\u001b[32m    116\u001b[39m \u001b[38;5;28;01mdef\u001b[39;00m\u001b[38;5;250m \u001b[39m\u001b[34m_request_raw\u001b[39m(\u001b[38;5;28mself\u001b[39m, *args, **kwargs):\n\u001b[32m    117\u001b[39m   \u001b[38;5;28;01mtry\u001b[39;00m:\n\u001b[32m--> \u001b[39m\u001b[32m118\u001b[39m     r = \u001b[38;5;28;43mself\u001b[39;49m\u001b[43m.\u001b[49m\u001b[43m_client\u001b[49m\u001b[43m.\u001b[49m\u001b[43mrequest\u001b[49m\u001b[43m(\u001b[49m\u001b[43m*\u001b[49m\u001b[43margs\u001b[49m\u001b[43m,\u001b[49m\u001b[43m \u001b[49m\u001b[43m*\u001b[49m\u001b[43m*\u001b[49m\u001b[43mkwargs\u001b[49m\u001b[43m)\u001b[49m\n\u001b[32m    119\u001b[39m     r.raise_for_status()\n\u001b[32m    120\u001b[39m     \u001b[38;5;28;01mreturn\u001b[39;00m r\n",
      "\u001b[36mFile \u001b[39m\u001b[32mc:\\Users\\LisaP\\OneDrive - Info Support B.V\\Thesis\\biaskg\\env\\Lib\\site-packages\\httpx\\_client.py:825\u001b[39m, in \u001b[36mClient.request\u001b[39m\u001b[34m(self, method, url, content, data, files, json, params, headers, cookies, auth, follow_redirects, timeout, extensions)\u001b[39m\n\u001b[32m    810\u001b[39m     warnings.warn(message, \u001b[38;5;167;01mDeprecationWarning\u001b[39;00m, stacklevel=\u001b[32m2\u001b[39m)\n\u001b[32m    812\u001b[39m request = \u001b[38;5;28mself\u001b[39m.build_request(\n\u001b[32m    813\u001b[39m     method=method,\n\u001b[32m    814\u001b[39m     url=url,\n\u001b[32m   (...)\u001b[39m\u001b[32m    823\u001b[39m     extensions=extensions,\n\u001b[32m    824\u001b[39m )\n\u001b[32m--> \u001b[39m\u001b[32m825\u001b[39m \u001b[38;5;28;01mreturn\u001b[39;00m \u001b[38;5;28;43mself\u001b[39;49m\u001b[43m.\u001b[49m\u001b[43msend\u001b[49m\u001b[43m(\u001b[49m\u001b[43mrequest\u001b[49m\u001b[43m,\u001b[49m\u001b[43m \u001b[49m\u001b[43mauth\u001b[49m\u001b[43m=\u001b[49m\u001b[43mauth\u001b[49m\u001b[43m,\u001b[49m\u001b[43m \u001b[49m\u001b[43mfollow_redirects\u001b[49m\u001b[43m=\u001b[49m\u001b[43mfollow_redirects\u001b[49m\u001b[43m)\u001b[49m\n",
      "\u001b[36mFile \u001b[39m\u001b[32mc:\\Users\\LisaP\\OneDrive - Info Support B.V\\Thesis\\biaskg\\env\\Lib\\site-packages\\httpx\\_client.py:914\u001b[39m, in \u001b[36mClient.send\u001b[39m\u001b[34m(self, request, stream, auth, follow_redirects)\u001b[39m\n\u001b[32m    910\u001b[39m \u001b[38;5;28mself\u001b[39m._set_timeout(request)\n\u001b[32m    912\u001b[39m auth = \u001b[38;5;28mself\u001b[39m._build_request_auth(request, auth)\n\u001b[32m--> \u001b[39m\u001b[32m914\u001b[39m response = \u001b[38;5;28;43mself\u001b[39;49m\u001b[43m.\u001b[49m\u001b[43m_send_handling_auth\u001b[49m\u001b[43m(\u001b[49m\n\u001b[32m    915\u001b[39m \u001b[43m    \u001b[49m\u001b[43mrequest\u001b[49m\u001b[43m,\u001b[49m\n\u001b[32m    916\u001b[39m \u001b[43m    \u001b[49m\u001b[43mauth\u001b[49m\u001b[43m=\u001b[49m\u001b[43mauth\u001b[49m\u001b[43m,\u001b[49m\n\u001b[32m    917\u001b[39m \u001b[43m    \u001b[49m\u001b[43mfollow_redirects\u001b[49m\u001b[43m=\u001b[49m\u001b[43mfollow_redirects\u001b[49m\u001b[43m,\u001b[49m\n\u001b[32m    918\u001b[39m \u001b[43m    \u001b[49m\u001b[43mhistory\u001b[49m\u001b[43m=\u001b[49m\u001b[43m[\u001b[49m\u001b[43m]\u001b[49m\u001b[43m,\u001b[49m\n\u001b[32m    919\u001b[39m \u001b[43m\u001b[49m\u001b[43m)\u001b[49m\n\u001b[32m    920\u001b[39m \u001b[38;5;28;01mtry\u001b[39;00m:\n\u001b[32m    921\u001b[39m     \u001b[38;5;28;01mif\u001b[39;00m \u001b[38;5;129;01mnot\u001b[39;00m stream:\n",
      "\u001b[36mFile \u001b[39m\u001b[32mc:\\Users\\LisaP\\OneDrive - Info Support B.V\\Thesis\\biaskg\\env\\Lib\\site-packages\\httpx\\_client.py:942\u001b[39m, in \u001b[36mClient._send_handling_auth\u001b[39m\u001b[34m(self, request, auth, follow_redirects, history)\u001b[39m\n\u001b[32m    939\u001b[39m request = \u001b[38;5;28mnext\u001b[39m(auth_flow)\n\u001b[32m    941\u001b[39m \u001b[38;5;28;01mwhile\u001b[39;00m \u001b[38;5;28;01mTrue\u001b[39;00m:\n\u001b[32m--> \u001b[39m\u001b[32m942\u001b[39m     response = \u001b[38;5;28;43mself\u001b[39;49m\u001b[43m.\u001b[49m\u001b[43m_send_handling_redirects\u001b[49m\u001b[43m(\u001b[49m\n\u001b[32m    943\u001b[39m \u001b[43m        \u001b[49m\u001b[43mrequest\u001b[49m\u001b[43m,\u001b[49m\n\u001b[32m    944\u001b[39m \u001b[43m        \u001b[49m\u001b[43mfollow_redirects\u001b[49m\u001b[43m=\u001b[49m\u001b[43mfollow_redirects\u001b[49m\u001b[43m,\u001b[49m\n\u001b[32m    945\u001b[39m \u001b[43m        \u001b[49m\u001b[43mhistory\u001b[49m\u001b[43m=\u001b[49m\u001b[43mhistory\u001b[49m\u001b[43m,\u001b[49m\n\u001b[32m    946\u001b[39m \u001b[43m    \u001b[49m\u001b[43m)\u001b[49m\n\u001b[32m    947\u001b[39m     \u001b[38;5;28;01mtry\u001b[39;00m:\n\u001b[32m    948\u001b[39m         \u001b[38;5;28;01mtry\u001b[39;00m:\n",
      "\u001b[36mFile \u001b[39m\u001b[32mc:\\Users\\LisaP\\OneDrive - Info Support B.V\\Thesis\\biaskg\\env\\Lib\\site-packages\\httpx\\_client.py:979\u001b[39m, in \u001b[36mClient._send_handling_redirects\u001b[39m\u001b[34m(self, request, follow_redirects, history)\u001b[39m\n\u001b[32m    976\u001b[39m \u001b[38;5;28;01mfor\u001b[39;00m hook \u001b[38;5;129;01min\u001b[39;00m \u001b[38;5;28mself\u001b[39m._event_hooks[\u001b[33m\"\u001b[39m\u001b[33mrequest\u001b[39m\u001b[33m\"\u001b[39m]:\n\u001b[32m    977\u001b[39m     hook(request)\n\u001b[32m--> \u001b[39m\u001b[32m979\u001b[39m response = \u001b[38;5;28;43mself\u001b[39;49m\u001b[43m.\u001b[49m\u001b[43m_send_single_request\u001b[49m\u001b[43m(\u001b[49m\u001b[43mrequest\u001b[49m\u001b[43m)\u001b[49m\n\u001b[32m    980\u001b[39m \u001b[38;5;28;01mtry\u001b[39;00m:\n\u001b[32m    981\u001b[39m     \u001b[38;5;28;01mfor\u001b[39;00m hook \u001b[38;5;129;01min\u001b[39;00m \u001b[38;5;28mself\u001b[39m._event_hooks[\u001b[33m\"\u001b[39m\u001b[33mresponse\u001b[39m\u001b[33m\"\u001b[39m]:\n",
      "\u001b[36mFile \u001b[39m\u001b[32mc:\\Users\\LisaP\\OneDrive - Info Support B.V\\Thesis\\biaskg\\env\\Lib\\site-packages\\httpx\\_client.py:1014\u001b[39m, in \u001b[36mClient._send_single_request\u001b[39m\u001b[34m(self, request)\u001b[39m\n\u001b[32m   1009\u001b[39m     \u001b[38;5;28;01mraise\u001b[39;00m \u001b[38;5;167;01mRuntimeError\u001b[39;00m(\n\u001b[32m   1010\u001b[39m         \u001b[33m\"\u001b[39m\u001b[33mAttempted to send an async request with a sync Client instance.\u001b[39m\u001b[33m\"\u001b[39m\n\u001b[32m   1011\u001b[39m     )\n\u001b[32m   1013\u001b[39m \u001b[38;5;28;01mwith\u001b[39;00m request_context(request=request):\n\u001b[32m-> \u001b[39m\u001b[32m1014\u001b[39m     response = \u001b[43mtransport\u001b[49m\u001b[43m.\u001b[49m\u001b[43mhandle_request\u001b[49m\u001b[43m(\u001b[49m\u001b[43mrequest\u001b[49m\u001b[43m)\u001b[49m\n\u001b[32m   1016\u001b[39m \u001b[38;5;28;01massert\u001b[39;00m \u001b[38;5;28misinstance\u001b[39m(response.stream, SyncByteStream)\n\u001b[32m   1018\u001b[39m response.request = request\n",
      "\u001b[36mFile \u001b[39m\u001b[32mc:\\Users\\LisaP\\OneDrive - Info Support B.V\\Thesis\\biaskg\\env\\Lib\\site-packages\\httpx\\_transports\\default.py:250\u001b[39m, in \u001b[36mHTTPTransport.handle_request\u001b[39m\u001b[34m(self, request)\u001b[39m\n\u001b[32m    237\u001b[39m req = httpcore.Request(\n\u001b[32m    238\u001b[39m     method=request.method,\n\u001b[32m    239\u001b[39m     url=httpcore.URL(\n\u001b[32m   (...)\u001b[39m\u001b[32m    247\u001b[39m     extensions=request.extensions,\n\u001b[32m    248\u001b[39m )\n\u001b[32m    249\u001b[39m \u001b[38;5;28;01mwith\u001b[39;00m map_httpcore_exceptions():\n\u001b[32m--> \u001b[39m\u001b[32m250\u001b[39m     resp = \u001b[38;5;28;43mself\u001b[39;49m\u001b[43m.\u001b[49m\u001b[43m_pool\u001b[49m\u001b[43m.\u001b[49m\u001b[43mhandle_request\u001b[49m\u001b[43m(\u001b[49m\u001b[43mreq\u001b[49m\u001b[43m)\u001b[49m\n\u001b[32m    252\u001b[39m \u001b[38;5;28;01massert\u001b[39;00m \u001b[38;5;28misinstance\u001b[39m(resp.stream, typing.Iterable)\n\u001b[32m    254\u001b[39m \u001b[38;5;28;01mreturn\u001b[39;00m Response(\n\u001b[32m    255\u001b[39m     status_code=resp.status,\n\u001b[32m    256\u001b[39m     headers=resp.headers,\n\u001b[32m    257\u001b[39m     stream=ResponseStream(resp.stream),\n\u001b[32m    258\u001b[39m     extensions=resp.extensions,\n\u001b[32m    259\u001b[39m )\n",
      "\u001b[36mFile \u001b[39m\u001b[32mc:\\Users\\LisaP\\OneDrive - Info Support B.V\\Thesis\\biaskg\\env\\Lib\\site-packages\\httpcore\\_sync\\connection_pool.py:256\u001b[39m, in \u001b[36mConnectionPool.handle_request\u001b[39m\u001b[34m(self, request)\u001b[39m\n\u001b[32m    253\u001b[39m         closing = \u001b[38;5;28mself\u001b[39m._assign_requests_to_connections()\n\u001b[32m    255\u001b[39m     \u001b[38;5;28mself\u001b[39m._close_connections(closing)\n\u001b[32m--> \u001b[39m\u001b[32m256\u001b[39m     \u001b[38;5;28;01mraise\u001b[39;00m exc \u001b[38;5;28;01mfrom\u001b[39;00m\u001b[38;5;250m \u001b[39m\u001b[38;5;28;01mNone\u001b[39;00m\n\u001b[32m    258\u001b[39m \u001b[38;5;66;03m# Return the response. Note that in this case we still have to manage\u001b[39;00m\n\u001b[32m    259\u001b[39m \u001b[38;5;66;03m# the point at which the response is closed.\u001b[39;00m\n\u001b[32m    260\u001b[39m \u001b[38;5;28;01massert\u001b[39;00m \u001b[38;5;28misinstance\u001b[39m(response.stream, typing.Iterable)\n",
      "\u001b[36mFile \u001b[39m\u001b[32mc:\\Users\\LisaP\\OneDrive - Info Support B.V\\Thesis\\biaskg\\env\\Lib\\site-packages\\httpcore\\_sync\\connection_pool.py:236\u001b[39m, in \u001b[36mConnectionPool.handle_request\u001b[39m\u001b[34m(self, request)\u001b[39m\n\u001b[32m    232\u001b[39m connection = pool_request.wait_for_connection(timeout=timeout)\n\u001b[32m    234\u001b[39m \u001b[38;5;28;01mtry\u001b[39;00m:\n\u001b[32m    235\u001b[39m     \u001b[38;5;66;03m# Send the request on the assigned connection.\u001b[39;00m\n\u001b[32m--> \u001b[39m\u001b[32m236\u001b[39m     response = \u001b[43mconnection\u001b[49m\u001b[43m.\u001b[49m\u001b[43mhandle_request\u001b[49m\u001b[43m(\u001b[49m\n\u001b[32m    237\u001b[39m \u001b[43m        \u001b[49m\u001b[43mpool_request\u001b[49m\u001b[43m.\u001b[49m\u001b[43mrequest\u001b[49m\n\u001b[32m    238\u001b[39m \u001b[43m    \u001b[49m\u001b[43m)\u001b[49m\n\u001b[32m    239\u001b[39m \u001b[38;5;28;01mexcept\u001b[39;00m ConnectionNotAvailable:\n\u001b[32m    240\u001b[39m     \u001b[38;5;66;03m# In some cases a connection may initially be available to\u001b[39;00m\n\u001b[32m    241\u001b[39m     \u001b[38;5;66;03m# handle a request, but then become unavailable.\u001b[39;00m\n\u001b[32m    242\u001b[39m     \u001b[38;5;66;03m#\u001b[39;00m\n\u001b[32m    243\u001b[39m     \u001b[38;5;66;03m# In this case we clear the connection and try again.\u001b[39;00m\n\u001b[32m    244\u001b[39m     pool_request.clear_connection()\n",
      "\u001b[36mFile \u001b[39m\u001b[32mc:\\Users\\LisaP\\OneDrive - Info Support B.V\\Thesis\\biaskg\\env\\Lib\\site-packages\\httpcore\\_sync\\connection.py:103\u001b[39m, in \u001b[36mHTTPConnection.handle_request\u001b[39m\u001b[34m(self, request)\u001b[39m\n\u001b[32m    100\u001b[39m     \u001b[38;5;28mself\u001b[39m._connect_failed = \u001b[38;5;28;01mTrue\u001b[39;00m\n\u001b[32m    101\u001b[39m     \u001b[38;5;28;01mraise\u001b[39;00m exc\n\u001b[32m--> \u001b[39m\u001b[32m103\u001b[39m \u001b[38;5;28;01mreturn\u001b[39;00m \u001b[38;5;28;43mself\u001b[39;49m\u001b[43m.\u001b[49m\u001b[43m_connection\u001b[49m\u001b[43m.\u001b[49m\u001b[43mhandle_request\u001b[49m\u001b[43m(\u001b[49m\u001b[43mrequest\u001b[49m\u001b[43m)\u001b[49m\n",
      "\u001b[36mFile \u001b[39m\u001b[32mc:\\Users\\LisaP\\OneDrive - Info Support B.V\\Thesis\\biaskg\\env\\Lib\\site-packages\\httpcore\\_sync\\http11.py:136\u001b[39m, in \u001b[36mHTTP11Connection.handle_request\u001b[39m\u001b[34m(self, request)\u001b[39m\n\u001b[32m    134\u001b[39m     \u001b[38;5;28;01mwith\u001b[39;00m Trace(\u001b[33m\"\u001b[39m\u001b[33mresponse_closed\u001b[39m\u001b[33m\"\u001b[39m, logger, request) \u001b[38;5;28;01mas\u001b[39;00m trace:\n\u001b[32m    135\u001b[39m         \u001b[38;5;28mself\u001b[39m._response_closed()\n\u001b[32m--> \u001b[39m\u001b[32m136\u001b[39m \u001b[38;5;28;01mraise\u001b[39;00m exc\n",
      "\u001b[36mFile \u001b[39m\u001b[32mc:\\Users\\LisaP\\OneDrive - Info Support B.V\\Thesis\\biaskg\\env\\Lib\\site-packages\\httpcore\\_sync\\http11.py:86\u001b[39m, in \u001b[36mHTTP11Connection.handle_request\u001b[39m\u001b[34m(self, request)\u001b[39m\n\u001b[32m     82\u001b[39m \u001b[38;5;28;01mtry\u001b[39;00m:\n\u001b[32m     83\u001b[39m     \u001b[38;5;28;01mwith\u001b[39;00m Trace(\n\u001b[32m     84\u001b[39m         \u001b[33m\"\u001b[39m\u001b[33msend_request_headers\u001b[39m\u001b[33m\"\u001b[39m, logger, request, kwargs\n\u001b[32m     85\u001b[39m     ) \u001b[38;5;28;01mas\u001b[39;00m trace:\n\u001b[32m---> \u001b[39m\u001b[32m86\u001b[39m         \u001b[38;5;28;43mself\u001b[39;49m\u001b[43m.\u001b[49m\u001b[43m_send_request_headers\u001b[49m\u001b[43m(\u001b[49m\u001b[43m*\u001b[49m\u001b[43m*\u001b[49m\u001b[43mkwargs\u001b[49m\u001b[43m)\u001b[49m\n\u001b[32m     87\u001b[39m     \u001b[38;5;28;01mwith\u001b[39;00m Trace(\u001b[33m\"\u001b[39m\u001b[33msend_request_body\u001b[39m\u001b[33m\"\u001b[39m, logger, request, kwargs) \u001b[38;5;28;01mas\u001b[39;00m trace:\n\u001b[32m     88\u001b[39m         \u001b[38;5;28mself\u001b[39m._send_request_body(**kwargs)\n",
      "\u001b[36mFile \u001b[39m\u001b[32mc:\\Users\\LisaP\\OneDrive - Info Support B.V\\Thesis\\biaskg\\env\\Lib\\site-packages\\httpcore\\_sync\\http11.py:150\u001b[39m, in \u001b[36mHTTP11Connection._send_request_headers\u001b[39m\u001b[34m(self, request)\u001b[39m\n\u001b[32m    144\u001b[39m \u001b[38;5;28;01mwith\u001b[39;00m map_exceptions({h11.LocalProtocolError: LocalProtocolError}):\n\u001b[32m    145\u001b[39m     event = h11.Request(\n\u001b[32m    146\u001b[39m         method=request.method,\n\u001b[32m    147\u001b[39m         target=request.url.target,\n\u001b[32m    148\u001b[39m         headers=request.headers,\n\u001b[32m    149\u001b[39m     )\n\u001b[32m--> \u001b[39m\u001b[32m150\u001b[39m \u001b[38;5;28;43mself\u001b[39;49m\u001b[43m.\u001b[49m\u001b[43m_send_event\u001b[49m\u001b[43m(\u001b[49m\u001b[43mevent\u001b[49m\u001b[43m,\u001b[49m\u001b[43m \u001b[49m\u001b[43mtimeout\u001b[49m\u001b[43m=\u001b[49m\u001b[43mtimeout\u001b[49m\u001b[43m)\u001b[49m\n",
      "\u001b[36mFile \u001b[39m\u001b[32mc:\\Users\\LisaP\\OneDrive - Info Support B.V\\Thesis\\biaskg\\env\\Lib\\site-packages\\httpcore\\_sync\\http11.py:166\u001b[39m, in \u001b[36mHTTP11Connection._send_event\u001b[39m\u001b[34m(self, event, timeout)\u001b[39m\n\u001b[32m    164\u001b[39m bytes_to_send = \u001b[38;5;28mself\u001b[39m._h11_state.send(event)\n\u001b[32m    165\u001b[39m \u001b[38;5;28;01mif\u001b[39;00m bytes_to_send \u001b[38;5;129;01mis\u001b[39;00m \u001b[38;5;129;01mnot\u001b[39;00m \u001b[38;5;28;01mNone\u001b[39;00m:\n\u001b[32m--> \u001b[39m\u001b[32m166\u001b[39m     \u001b[38;5;28;43mself\u001b[39;49m\u001b[43m.\u001b[49m\u001b[43m_network_stream\u001b[49m\u001b[43m.\u001b[49m\u001b[43mwrite\u001b[49m\u001b[43m(\u001b[49m\u001b[43mbytes_to_send\u001b[49m\u001b[43m,\u001b[49m\u001b[43m \u001b[49m\u001b[43mtimeout\u001b[49m\u001b[43m=\u001b[49m\u001b[43mtimeout\u001b[49m\u001b[43m)\u001b[49m\n",
      "\u001b[36mFile \u001b[39m\u001b[32mc:\\Users\\LisaP\\OneDrive - Info Support B.V\\Thesis\\biaskg\\env\\Lib\\site-packages\\httpcore\\_backends\\sync.py:138\u001b[39m, in \u001b[36mSyncStream.write\u001b[39m\u001b[34m(self, buffer, timeout)\u001b[39m\n\u001b[32m    136\u001b[39m \u001b[38;5;28;01mwhile\u001b[39;00m buffer:\n\u001b[32m    137\u001b[39m     \u001b[38;5;28mself\u001b[39m._sock.settimeout(timeout)\n\u001b[32m--> \u001b[39m\u001b[32m138\u001b[39m     n = \u001b[38;5;28;43mself\u001b[39;49m\u001b[43m.\u001b[49m\u001b[43m_sock\u001b[49m\u001b[43m.\u001b[49m\u001b[43msend\u001b[49m\u001b[43m(\u001b[49m\u001b[43mbuffer\u001b[49m\u001b[43m)\u001b[49m\n\u001b[32m    139\u001b[39m     buffer = buffer[n:]\n",
      "\u001b[31mKeyboardInterrupt\u001b[39m: "
     ]
    }
   ],
   "source": [
    "neo4j_driver = GraphDatabase.driver(neo4j_uri, auth=(neo4j_user, neo4j_password))\n",
    "\n",
    "for row in df_map.iterrows():\n",
    "    #print every 1000 rows\n",
    "    if row[0] % 100 == 0:\n",
    "        print(row[0])\n",
    "    start_node=row[1][\"start_node\"]\n",
    "    end_node=row[1][\"end_node\"]\n",
    "    edge=row[1][\"edge\"]\n",
    "    start_embedding, end_embedding, edge_embedding = get_embeddings(start_node, end_node, edge)\n",
    "    query=\"\"\"MERGE (s:StartNode {text: $start_node})\n",
    "                MERGE (e:EndNode {text: $end_node}) \n",
    "                MERGE (s)-[r:RELATIONSHIP {text: $edge}]->(e)\n",
    "                SET s.embedding = $start_embedding, e.embedding = $end_embedding, r.embedding = $edge_embedding\n",
    "                RETURN s, e, r\n",
    "        \"\"\"\n",
    "    parameters = {\"start_node\": start_node,\n",
    "                \"end_node\": end_node,\n",
    "                \"edge\": edge,\n",
    "                \"start_embedding\": start_embedding,\n",
    "                \"end_embedding\": end_embedding,\n",
    "                \"edge_embedding\": edge_embedding}\n",
    "    # Run the query\n",
    "    run_query(neo4j_driver, query, parameters)\n",
    "\n",
    "query_start_index = \"\"\"\n",
    "        CREATE VECTOR INDEX startIndex IF NOT EXISTS FOR (s:StartNode) ON s.embedding OPTIONS {indexConfig: {`vector.similarity_function`: 'cosine'} }\n",
    "        \"\"\"\n",
    "query_end_index = \"\"\"\n",
    "        CREATE VECTOR INDEX endIndex IF NOT EXISTS FOR (e:EndNode) ON e.embedding OPTIONS {indexConfig: {`vector.similarity_function`: 'cosine'} } \n",
    "        \"\"\"\n",
    "query_edge_index = \"\"\"\n",
    "        CREATE VECTOR INDEX edgeIndex IF NOT EXISTS FOR (r:RELATIONSHIP) ON r.embedding OPTIONS {indexConfig: {`vector.similarity_function`: 'cosine'} }\n",
    "        \"\"\"\n",
    "# Run the queries\n",
    "run_query(neo4j_driver, query_start_index)\n",
    "run_query(neo4j_driver, query_end_index)\n",
    "run_query(neo4j_driver, query_edge_index)\n",
    "\n",
    "neo4j_driver.close()"
   ]
  },
  {
   "cell_type": "code",
   "execution_count": 53,
   "metadata": {},
   "outputs": [
    {
     "name": "stdout",
     "output_type": "stream",
     "text": [
      "good blacks black people belong to\n"
     ]
    }
   ],
   "source": [
    "start_node=df_map.iloc[1][\"start_node\"]\n",
    "end_node=df_map.iloc[1][\"end_node\"]\n",
    "edge=df_map.iloc[1][\"edge\"]\n",
    "print(start_node, end_node, edge)"
   ]
  },
  {
   "cell_type": "code",
   "execution_count": 54,
   "metadata": {},
   "outputs": [
    {
     "name": "stdout",
     "output_type": "stream",
     "text": [
      "[{'s': {'text': 'good blacks'}, 'e': {'text': 'black people'}, 'rel': ({'text': 'good blacks'}, 'belong to', {'text': 'black people'})}]\n"
     ]
    }
   ],
   "source": [
    "neo4j_driver = GraphDatabase.driver(neo4j_uri, auth=(neo4j_user, neo4j_password))\n",
    "query = \"\"\"MERGE (s:StartNode {text: $start_node})\n",
    "            MERGE (e:Endnode {text: $end_node}) \n",
    "            WITH s, e\n",
    "            CALL apoc.create.relationship(s, $edge, {}, e) YIELD rel\n",
    "            RETURN s, e, rel\"\"\"\n",
    "parameters = {\"start_node\": start_node,\n",
    "                \"end_node\": end_node,\n",
    "                \"edge\": edge}\n",
    "results = run_query(neo4j_driver, query, parameters)\n",
    "print(results)"
   ]
  }
 ],
 "metadata": {
  "kernelspec": {
   "display_name": "env",
   "language": "python",
   "name": "python3"
  },
  "language_info": {
   "codemirror_mode": {
    "name": "ipython",
    "version": 3
   },
   "file_extension": ".py",
   "mimetype": "text/x-python",
   "name": "python",
   "nbconvert_exporter": "python",
   "pygments_lexer": "ipython3",
   "version": "3.12.9"
  }
 },
 "nbformat": 4,
 "nbformat_minor": 2
}
