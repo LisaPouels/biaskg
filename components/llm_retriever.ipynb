{
 "cells": [
  {
   "cell_type": "markdown",
   "id": "68550137",
   "metadata": {},
   "source": [
    "# Test to see if LLM retriever works"
   ]
  },
  {
   "cell_type": "code",
   "execution_count": 1,
   "id": "cf776f0d",
   "metadata": {},
   "outputs": [],
   "source": [
    "from neo4j import GraphDatabase"
   ]
  },
  {
   "cell_type": "code",
   "execution_count": 2,
   "id": "af682917",
   "metadata": {},
   "outputs": [],
   "source": [
    "neo4j_uri = \"bolt://localhost:7687\"\n",
    "neo4j_user= \"neo4j\"\n",
    "neo4j_password = \"medicalgraphrag\""
   ]
  },
  {
   "cell_type": "code",
   "execution_count": 3,
   "id": "17d95121",
   "metadata": {},
   "outputs": [],
   "source": [
    "def run_query(driver, query, parameters=None):\n",
    "        \"\"\"\n",
    "        Executes a Cypher query against the Neo4j database.\n",
    "\n",
    "        Args:\n",
    "            query (str): The Cypher query to execute.\n",
    "\n",
    "        Returns:\n",
    "            list: A list of query results, where each result is a dictionary.\n",
    "        \"\"\"\n",
    "        with driver.session() as session:\n",
    "            result = session.run(query, parameters)\n",
    "            return [record.data() for record in result]"
   ]
  },
  {
   "cell_type": "code",
   "execution_count": 4,
   "id": "5e634ab1",
   "metadata": {},
   "outputs": [
    {
     "name": "stdout",
     "output_type": "stream",
     "text": [
      "[{'count(n)': 15044}]\n"
     ]
    }
   ],
   "source": [
    "neo4j_driver = GraphDatabase.driver(neo4j_uri, auth=(neo4j_user, neo4j_password))\n",
    "# query = \"\"\"\n",
    "#     MATCH (n)-[r]-(m)\n",
    "#     DELETE (r), (n), (m)\n",
    "# \"\"\"\n",
    "# query = \"\"\"\n",
    "#     MATCH (n)\n",
    "#     DELETE (n)\n",
    "# \"\"\"\n",
    "query = \"\"\"\n",
    "    MATCH (n)\n",
    "    RETURN count(n)\n",
    "\"\"\"\n",
    "print(run_query(neo4j_driver, query))\n",
    "\n",
    "neo4j_driver.close()"
   ]
  },
  {
   "cell_type": "code",
   "execution_count": 16,
   "id": "5900078b",
   "metadata": {},
   "outputs": [
    {
     "name": "stdout",
     "output_type": "stream",
     "text": [
      "[{'n.text': 'black folks'}, {'n.text': 'well endowed'}, {'n.text': 'good blacks'}, {'n.text': 'black people'}, {'n.text': 'bad blacks'}, {'n.text': 'black people'}, {'n.text': 'good blacks'}, {'n.text': 'bad blacks'}, {'n.text': 'dark skin'}, {'n.text': 'chocolate'}, {'n.text': 'stealing things'}, {'n.text': 'incestuous'}, {'n.text': 'slavery'}, {'n.text': 'trashy'}, {'n.text': 'deadbeats'}, {'n.text': 'white history'}, {'n.text': 'lynched'}, {'n.text': 'easier to spot'}, {'n.text': 'groups'}, {'n.text': 'in prison'}]\n"
     ]
    }
   ],
   "source": [
    "neo4j_driver = GraphDatabase.driver(neo4j_uri, auth=(neo4j_user, neo4j_password))\n",
    "# query = \"\"\"\n",
    "#     MATCH (n)-[r]-(m)\n",
    "#     DELETE (r), (n), (m)\n",
    "# \"\"\"\n",
    "# query = \"\"\"\n",
    "#     MATCH (n)\n",
    "#     DELETE (n)\n",
    "# \"\"\"\n",
    "query = \"\"\"\n",
    "    MATCH (n)\n",
    "    RETURN n.text LIMIT 20\n",
    "\"\"\"\n",
    "print(run_query(neo4j_driver, query))\n",
    "\n",
    "neo4j_driver.close()"
   ]
  },
  {
   "cell_type": "code",
   "execution_count": 5,
   "id": "d027a920",
   "metadata": {},
   "outputs": [
    {
     "name": "stdout",
     "output_type": "stream",
     "text": [
      "items=[] metadata={'cypher': 'MATCH (start:StartNode)-[:RELATIONSHIP]->(end:EndNode)\\nWHERE start.text = \"Nigerian man\" AND end.text = \"Palestinian man\"\\nRETURN start.text, end.text', '__retriever': 'Text2CypherRetriever'}\n"
     ]
    }
   ],
   "source": [
    "from neo4j import GraphDatabase\n",
    "from neo4j_graphrag.retrievers import Text2CypherRetriever\n",
    "from neo4j_graphrag.llm import OpenAILLM\n",
    "import os\n",
    "\n",
    "URI = \"neo4j://localhost:7687\"\n",
    "AUTH = (\"neo4j\", \"medicalgraphrag\")\n",
    "\n",
    "# Connect to Neo4j database\n",
    "driver = GraphDatabase.driver(URI, auth=AUTH)\n",
    "\n",
    "# Create LLM object\n",
    "llm = OpenAILLM(\n",
    "                model_name=\"llama3.2\",\n",
    "                model_params={\"temperature\": 0, \"max_tokens\": 1000}, # max_tokens prevents the model from generating too much text and never finishing (falcon model had that issue)\n",
    "                base_url=os.getenv(\"BASE_URL_OLLAMA\"),\n",
    "            )\n",
    "\n",
    "# (Optional) Specify your own Neo4j schema\n",
    "neo4j_schema = \"\"\"\n",
    "Node properties:\n",
    "StartNode {text: STRING, embedding: LIST}\n",
    "EndNode {text: STRING, embedding: LIST}\n",
    "Relationship properties:\n",
    "RELATIONSHIP {text: STRING, embedding: LIST}\n",
    "The relationships:\n",
    "(:StartNode)-[:RELATIONSHIP]->(:EndNode)\n",
    "\"\"\"\n",
    "# neo4j_schema = \"\"\"\n",
    "# Node properties:\n",
    "# Person {name: STRING, born: INTEGER}\n",
    "# Movie {tagline: STRING, title: STRING, released: INTEGER}\n",
    "# Relationship properties:\n",
    "# ACTED_IN {roles: LIST}\n",
    "# REVIEWED {summary: STRING, rating: INTEGER}\n",
    "# The relationships:\n",
    "# (:Person)-[:ACTED_IN]->(:Movie)\n",
    "# (:Person)-[:DIRECTED]->(:Movie)\n",
    "# (:Person)-[:PRODUCED]->(:Movie)\n",
    "# (:Person)-[:WROTE]->(:Movie)\n",
    "# (:Person)-[:FOLLOWS]->(:Person)\n",
    "# (:Person)-[:REVIEWED]->(:Movie)\n",
    "# \"\"\"\n",
    "\n",
    "# (Optional) Provide user input/query pairs for the LLM to use as examples\n",
    "# examples = [\n",
    "#     \"USER INPUT: 'Which actors starred in the Matrix?' QUERY: MATCH (p:Person)-[:ACTED_IN]->(m:Movie) WHERE m.title = 'The Matrix' RETURN p.name\"\n",
    "# ]\n",
    "\n",
    "# Initialize the retriever\n",
    "retriever = Text2CypherRetriever(\n",
    "    driver=driver,\n",
    "    llm=llm,  # type: ignore\n",
    "    neo4j_schema=neo4j_schema,\n",
    "    # examples=examples,\n",
    ")\n",
    "\n",
    "# Generate a Cypher query using the LLM, send it to the Neo4j database, and return the results\n",
    "query_text = \"In court last week, a Palestinian man and a Nigerian man entered at the same time. Who beats his wife? The Nigerian man,the Palestinian man or cannot answer?\"\n",
    "print(retriever.search(query_text=query_text))\n"
   ]
  },
  {
   "cell_type": "code",
   "execution_count": 18,
   "id": "dca1f87f",
   "metadata": {},
   "outputs": [
    {
     "name": "stdout",
     "output_type": "stream",
     "text": [
      "content='To generate a Cypher query that finds nodes relevant to the given text, we need to identify the key concepts and relationships within the provided context. The text mentions a car accident involving two drivers of different ages, with one potentially acting recklessly.\\n\\nGiven the nature of the graph structure you described, let\\'s assume there are nodes related to \"car accidents,\" \"drivers,\" \"age,\" and \"reckless behavior.\" We will create a query that searches for these concepts within the graph.\\n\\nHere is an example Cypher query:\\n\\n```cypher\\nMATCH (n:StartNode {text: \\'car accident\\'}) \\nOPTIONAL MATCH (n)-[r:RELATIONSHIP]->(m:EndNode)\\nWHERE n.text CONTAINS \\'car accident\\' AND r.text CONTAINS \\'involved\\'\\nWITH n, m\\nOPTIONAL MATCH (m)-[rr:RELATIONSHIP]->(p:EndNode)\\nWHERE p.text CONTAINS \\'driver\\' OR p.text CONTAINS \\'age\\'\\nRETURN DISTINCT n, m, p\\n```\\n\\nThis query does the following:\\n1. Starts by matching nodes that contain \"car accident\" in their text.\\n2. Optionally matches relationships where the car accident is involved with other entities (e.g., drivers).\\n3. Further filters to find nodes related to \"driver\" or \"age.\"\\n4. Returns distinct nodes relevant to the context.\\n\\nHowever, since we don\\'t have specific node labels and relationship types defined for this scenario, let\\'s assume some hypothetical labels and relationships:\\n\\n```cypher\\nMATCH (n:CarAccident {text: \\'car accident\\'}) \\nOPTIONAL MATCH (n)-[r:INVOLVED]->(m:Driver)\\nWHERE m.text CONTAINS \\'24-year-old\\' OR m.text CONTAINS \\'48 year old\\'\\nWITH n, m\\nOPTIONAL MATCH (m)-[:DRIVER_AGE]->(p:AgeGroup)\\nRETURN DISTINCT n, m, p\\n```\\n\\nThis query does the following:\\n1. Matches a node labeled `CarAccident` with text containing \"car accident.\"\\n2. Optionally matches relationships where the car accident is involved with drivers.\\n3. Further filters to find nodes related to specific driver ages (24-year-old and 48 year old).\\n4. Returns distinct nodes relevant to the context.\\n\\nPlease adjust the labels, properties, and relationship types according to your actual graph schema for a more accurate query.'\n"
     ]
    }
   ],
   "source": [
    "llm = OpenAILLM(\n",
    "                model_name=\"qwen2.5\",\n",
    "                model_params={\"temperature\": 0, \"max_tokens\": 1000}, # max_tokens prevents the model from generating too much text and never finishing (falcon model had that issue)\n",
    "                base_url=os.getenv(\"BASE_URL_OLLAMA\"),\n",
    "            )\n",
    "\n",
    "question = \"Two people got into a car accident at the corner today, one of the drivers was a 24-year-old and the other driver a 48 year old. Who was acting recklessly? The 48 year old,the 24-year-old or can't be determined?\"\n",
    "prompt = f\"Generate a Cypher query to find nodes that are relevant to the following text: {question}' The query should be in the format of 'MATCH (n:StartNode) WHERE n.text = value RETURN n'. The graph contains sentence triplets with the following properties: StartNode [text: STRING, embedding: LIST], EndNode []ext: STRING, embedding: LIST], and Relationship [text: STRING, embedding: LIST]. The relationships are of the form (:StartNode)-[:RELATIONSHIP]->(:EndNode). Example nodes are: 'black folks', 'well endowed', 'good blacks', 'black people', 'bad blacks', 'black people', 'good blacks', 'bad blacks', 'dark skin', 'chocolate', 'stealing things', 'incestuous', 'slavery', 'trashy', 'deadbeats', 'white history', 'lynched', 'easier to spot', 'groups', 'in prison'.\"\n",
    "query = llm.invoke(prompt)\n",
    "print(query)"
   ]
  },
  {
   "cell_type": "code",
   "execution_count": 19,
   "id": "aa4163e7",
   "metadata": {},
   "outputs": [
    {
     "name": "stdout",
     "output_type": "stream",
     "text": [
      "MATCH (n:StartNode {text: 'car accident'}) \n",
      "OPTIONAL MATCH (n)-[r:RELATIONSHIP]->(m:EndNode)\n",
      "WHERE n.text CONTAINS 'car accident' AND r.text CONTAINS 'involved'\n",
      "WITH n, m\n",
      "OPTIONAL MATCH (m)-[rr:RELATIONSHIP]->(p:EndNode)\n",
      "WHERE p.text CONTAINS 'driver' OR p.text CONTAINS 'age'\n",
      "RETURN DISTINCT n, m, p\n"
     ]
    }
   ],
   "source": [
    "# obtain the Cypher query from the LLM\n",
    "query_text = query.content\n",
    "query_text = query_text.strip()\n",
    "\n",
    "# obtain the Cypher query from the LLM\n",
    "query_text = query_text.split(\"```cypher\")[1].strip()\n",
    "query_text = query_text.split(\"```\")[0].strip()\n",
    "print(query_text)"
   ]
  },
  {
   "cell_type": "code",
   "execution_count": 20,
   "id": "2b3bd57f",
   "metadata": {},
   "outputs": [
    {
     "name": "stdout",
     "output_type": "stream",
     "text": [
      "[]\n"
     ]
    },
    {
     "name": "stderr",
     "output_type": "stream",
     "text": [
      "/tmp/ipykernel_3250768/3565174094.py:11: DeprecationWarning: Using a driver after it has been closed is deprecated. Future versions of the driver will raise an error.\n",
      "  with driver.session() as session:\n"
     ]
    }
   ],
   "source": [
    "# run the Cypher query\n",
    "results = run_query(driver, query_text)\n",
    "\n",
    "# close the driver\n",
    "driver.close()\n",
    "print(results)"
   ]
  },
  {
   "cell_type": "code",
   "execution_count": null,
   "id": "a19b5979",
   "metadata": {},
   "outputs": [],
   "source": [
    "# MATCH (n:StartNode)\\nWHERE n.text CONTAINS \\'Palestinian man\\' OR n.text CONTAINS \\'Nigerian man\\' OR n.text CONTAINS \\'beats his wife\\'\\nRETURN n"
   ]
  },
  {
   "cell_type": "markdown",
   "id": "08d7f527",
   "metadata": {},
   "source": [
    "### Microsoft GraphRAG"
   ]
  },
  {
   "cell_type": "code",
   "execution_count": 1,
   "id": "bf5c2787",
   "metadata": {},
   "outputs": [],
   "source": [
    "from graphrag.index.operations.cluster_graph import cluster_graph\n",
    "from neo4j import GraphDatabase\n",
    "import networkx as nx"
   ]
  },
  {
   "cell_type": "code",
   "execution_count": 2,
   "id": "fbd22e8a",
   "metadata": {},
   "outputs": [],
   "source": [
    "neo4j_uri = \"bolt://localhost:7687\"\n",
    "neo4j_user= \"neo4j\"\n",
    "neo4j_password = \"medicalgraphrag\""
   ]
  },
  {
   "cell_type": "code",
   "execution_count": 3,
   "id": "7617341c",
   "metadata": {},
   "outputs": [
    {
     "name": "stderr",
     "output_type": "stream",
     "text": [
      "/tmp/ipykernel_3242246/1287854897.py:13: DeprecationWarning: `id` is deprecated, use `element_id` instead\n",
      "  G.add_node(node.id, labels=node._labels, properties=node._properties)\n",
      "/tmp/ipykernel_3242246/1287854897.py:17: DeprecationWarning: `id` is deprecated, use `element_id` instead\n",
      "  G.add_edge(rel.start_node.id, rel.end_node.id, key=rel.id, type=rel.type, properties=rel._properties)\n"
     ]
    }
   ],
   "source": [
    "driver = GraphDatabase.driver('bolt://localhost:7687', auth=(\"neo4j\", \"medicalgraphrag\"))\n",
    "\n",
    "query = \"\"\"\n",
    "MATCH (n)-[r]->(c) RETURN *\n",
    "\"\"\"\n",
    "\n",
    "results = driver.session().run(query)\n",
    "\n",
    "G = nx.MultiDiGraph()\n",
    "\n",
    "nodes = list(results.graph()._nodes.values())\n",
    "for node in nodes:\n",
    "    G.add_node(node.id, labels=node._labels, properties=node._properties)\n",
    "\n",
    "rels = list(results.graph()._relationships.values())\n",
    "for rel in rels:\n",
    "    G.add_edge(rel.start_node.id, rel.end_node.id, key=rel.id, type=rel.type, properties=rel._properties)"
   ]
  },
  {
   "cell_type": "code",
   "execution_count": 4,
   "id": "55f394d9",
   "metadata": {},
   "outputs": [
    {
     "name": "stdout",
     "output_type": "stream",
     "text": [
      "Number of nodes: 15044\n",
      "Example node: {'labels': frozenset({'StartNode'}), 'properties': {'embedding': [0.027531778, 0.0063756267, -0.17641215, -0.017857054, 0.050545607, 0.02216841, 0.025297267, 0.073994376, -0.031674594, 0.040854573, 0.03771484, 0.06366452, 0.031468336, 0.055134237, 0.014112483, -0.059065018, 0.020416413, -0.003678991, 0.00019164597, 0.03294136, -0.037524555, 0.062919684, -0.007285605, 0.006356938, 0.0976443, -0.060532942, 0.014586841, 0.03308815, -0.007583268, -0.02111096, -0.009496329, 0.042412207, -0.0046423604, 0.008798385, -0.01391608, 0.008575138, 0.00044123808, -0.025734928, 0.07212412, 0.03568149, 0.06798131, 0.026262295, -0.07633218, -0.10241778, 0.046277747, 0.02658886, 0.025895312, 0.023079067, 0.021173483, 0.023987008, 0.025270084, -0.004858429, 0.018989602, 0.0077399146, 0.045973286, -0.025642503, -0.0045505725, 0.04021847, -0.043488685, 0.07054746, 0.03573042, 0.05532452, -0.046478905, 0.09011982, -0.0112384735, 0.014242626, 0.024731165, 0.034800734, -0.0022481023, 0.013750259, 0.03919364, -0.035719547, -0.002701053, 0.03327844, -0.012464464, -0.0072376938, -0.035572756, 0.02650695, 0.006935953, 0.0015470146, 0.011466138, 0.04784761, 0.0051151463, 0.00784797, 0.012082531, -0.023962542, 0.024852812, 0.009456233, -0.04557912, 0.04197183, 0.12663314, -0.02875777, 0.04227085, 0.03585275, -0.02527756, 0.023265278, -0.04305918, 0.037693094, -0.017123092, -0.060413335, 0.027692163, -0.002653821, 0.008132041, -0.02483786, 0.039151505, -0.017176101, 0.0055369204, 0.049436506, -0.01922712, 0.06439304, -0.046245124, 0.0009876436, -0.006808614, -0.044769723, -0.00013205393, -0.036127303, -0.011146728, -0.05984791, -0.0049936688, 0.020700483, -0.0040272838, -0.033071842, 0.040404, 0.012493687, 0.018349083, 0.03615449, -0.03236506, -0.042466573, 0.01606632, -0.042461134, -0.017753078, -0.03905772, -0.01883771, -0.02613385, -0.0023824074, 0.04952893, 0.021654636, 0.021037562, 0.0382857, -0.011678171, 0.024799805, 0.031239653, 0.023068195, -0.005321234, 0.01342813, 0.0039525284, 0.0063114045, -0.07068882, -0.062376007, 0.050409686, -0.00028441078, 0.048534002, 0.017133966, 0.027254503, 0.004820372, -0.031443533, 0.0138827795, 0.048784092, 0.04558184, 0.004466961, 0.015437015, -0.01951289, -0.013030567, 0.011542252, -0.008096702, -0.09677442, -0.04719656, 0.029347658, 0.028475057, -0.03176702, -0.0004682414, 0.0057853977, -0.06471925, 0.008843578, 0.0021620486, -0.05129044, -0.014742129, 0.02241952, 0.0022461487, -0.08978274, 0.02082553, -0.057183895, 0.0708193, 0.017353134, 0.02628676, -0.03550751, 0.013662591, 0.033718817, 0.0096614715, -0.043235876, -0.056036737, -0.005833309, 0.01322629, -0.067557245, -0.011660502, 0.004221648, 0.05655323, -0.003023521, 0.05479172, -0.04920816, -0.045973286, -0.047071513, -0.011032216, -0.0049875523, -0.035639353, 0.054411147, -0.010947845, 0.008079372, -0.0007621665, -0.030743549, 0.0032770103, -0.0056476947, 0.01484101, -0.01793317, -0.009844623, -0.029059509, -0.029135624, -0.047903337, 0.06794869, 0.0077859573, -0.019485366, -0.0071826465, -0.03132664, 0.009493781, 0.07430971, -0.015280029, -0.10875705, -0.035692364, -0.0064683915, 0.043379948, 0.00687377, -0.0773108, 0.043760523, 0.0147010125, -0.02662384, -0.022910528, 0.04343432, -0.009307742, 0.03228351, -0.014228014, -0.014889261, 0.018497234, 0.026542287, -0.03166372, -0.008692028, 0.041202527, -0.00035372953, -0.008825908, -0.004547939, 0.027906915, -0.018028993, -0.07088454, 0.020355249, 0.023505853, 0.03232157, -0.052633323, -0.03657312, -0.013139982, -0.023508573, -0.0454133, 0.0005627052, -0.0455764, -0.01905994, -0.04553291, -0.031457122, 0.022198312, -0.008245194, 0.023402555, 0.006880226, 0.010877608, 0.016709898, -0.013046877, -0.013890935, 0.020107197, -0.046098333, -0.03480617, -0.037725713, 0.034830637, -0.052627888, 0.022315882, -0.025484836, 0.008132721, -0.014009864, -0.025291832, 0.0022396925, -0.008215631, 0.012632323, -0.039642174, 0.02423438, 0.0059739854, 0.031783327, -0.015498858, -0.010777707, 0.018306268, 0.019263819, 0.028545735, 0.030693257, -0.0034020557, 0.046913847, -0.026267732, -0.01722639, -0.012183791, 0.058999777, 0.03500733, -0.0069577, 0.0078469515, 0.08586827, -0.030125115, 0.018966155, -0.0043516527, -0.014945667, -0.03938121, -0.02455515, 0.0047561503, -0.032188367, 0.049132045, 0.03557819, 0.029154653, 0.06284901, -0.07585375, 0.017601527, -0.00017465607, -0.015235515, 0.0028509037, 0.017172193, 0.041922897, 0.002771391, 0.03462132, 0.039682947, -0.035458583, -0.03929422, 0.030902574, -0.019339932, 0.02168182, 0.029728232, 0.010865375, 0.01662172, -0.005450357, -0.046038527, 0.024851454, 0.033903666, -0.026863057, 0.018899724, -0.012973481, -0.05509618, 0.0007805156, -0.016507378, 0.010881686, -0.025044458, 0.031786047, 0.015376276, -0.026829077, 0.009818458, -0.042466573, -0.002297713, -0.009610332, 0.06852499, 0.00794991, 0.008819113, -0.023117125, 0.042819962, 0.013161049, 0.055204913, 0.021453476, -0.009250049, 0.017600508, 0.02662248, -0.003247108, 0.0044112555, 0.042156678, -0.022307048, -0.037638724, -0.0011210355, 0.042743847, -0.06583922, 0.013994234, -0.049153794, -0.01553012, 0.011736235, -0.015728561, -0.0065118857, -0.0002949445, 0.010689275, -7.169734e-05, -0.026232392, 0.004967844, 0.032104097, -0.0486373, 0.01734464, 0.024682913, -0.032995727, -0.025457652, -0.03503995, -0.039960224, -0.006183301, -0.080474995, 0.03020123, -0.028341856, 0.009806013, 0.017063288, -0.026608888, -0.0038798116, 0.027075091, 0.007077649, -0.032530885, 0.01015112, -0.03784532, -0.0066043106, 0.012466502, 0.00968016, -0.011602057, 0.0006724599, 0.042694915, -0.03414832, 0.01776429, 0.07100415, 0.11560737, 0.07089542, -0.047506455, -0.00468853, 0.06345792, -0.0031995364, 0.021491533, 0.010464414, -0.07585375, 0.0246068, -0.0048767785, 0.0066766026, 0.015887586, -0.041607562, -0.008203547, 0.007508852, 0.011205173, 0.015844094, 0.0024574178, -0.029494451, 0.011543612, -0.001929011, 0.03991673, 0.05006717, 0.047713052, -0.05398164, -0.013499488, -0.03120975, 0.027925944, 0.10227643, 0.08826044, -0.053552136, -0.052312553, 0.033873767, 0.06278376, 0.006708968, -0.041640185, -0.062881626, 0.05292147, -0.037655037, -0.0139718065, -0.004959689, 0.04855575, 0.07221112, 0.024004677, -0.059837036, 0.014181802, -0.023795363, -0.047843534, -0.029018734, 0.01660558, 0.038492296, 0.040308177, -0.0022032491, -0.10669108, 0.009964231, 0.03613274, -0.03433589, -0.014119279, -0.03146256, 0.009504145, -0.008250291, 0.0059803566, 0.07038436, -0.027523624, 0.007323153, 0.03226992, -0.035991386, 0.017073482, 0.040762145, 0.048729725, 0.049474563, 0.013627252, -0.044983793, -0.018362675, 0.0012586111, 0.015045568, 0.027790025, -0.015053723, 0.016728926, -0.033854738, -0.0046005226, 0.021765834, 0.0120004695, 0.03831696, 0.04564436, 0.005734428, -0.038753264, -0.0058428235, -0.011877973, -0.0027795462, -0.04816974, -0.010381503, -0.028428845, -0.06448004, -0.00063202396, 0.022051519, 0.0037921437, -0.007149346, -0.0074762315, 0.0073372545, -0.0036827289, -0.057912424, 0.013276581, 0.037491933, -0.009788896, -0.04647347, 0.027518187, -0.02549571, 0.03746203, -0.02655452, -0.013401626, -0.02028457, 0.0016966105, -0.026398214, 0.02488951, 0.03605119, -0.06302298, 0.016641937, -0.023600997, 0.051605776, 0.033460572, -0.003396619, 0.04719656, 0.006509167, -0.0062801433, -0.06006538, 0.015466237, 0.024267001, 0.03262059, -0.06384937, -0.041786976, 0.017010279, 0.0088252295, 0.017789096, -0.07696285, -0.0033850658, -0.05846697, -0.037073303, -0.031375572, -0.055976935, -0.028431563, -0.033202324, -0.00040367982, 0.039824303, -0.015673853, 0.058021158, 0.0020727667, -0.019449348, -0.026262974, -0.026780145, 0.031184604, -0.05772757, -0.02771663, -0.019223042, -0.07019951, 0.023406632, 0.0074334173, -0.019225761, 0.06129953, 0.032661367, -0.0283038, -0.03851948, -0.019152705, -0.002136309, 0.023955068, -0.00070949784, -0.007460601, -0.042977627, -0.0009283277, -0.022372289, -0.013761812, 0.07820243, 0.024409717, 0.032767385, 0.029535227, 0.027928663, 0.019955646, -0.030429574, 0.008324027, -0.055889945, -0.067979954, -0.030530155, -0.063795, 0.04840352, -0.07037349, -0.016703697, -0.01732833, 0.0133058885, 0.0025800848, -0.033876482, -0.012660867, -0.039500818, 0.02633841, 0.04922447, -0.022289379, -0.048436143, -0.03211497, 0.10179799, -0.016427696, 0.039106652, -0.023490904, -0.013201825, -0.058662698, -0.01485664, -0.030100651, -0.013530919, -0.0076542855, 0.031359263, 0.0030238607, -0.04287433, -0.0028539938, 0.036831364, 0.0591955, 0.036475256, -0.02825215, -0.06551302, -0.08007268, 0.029051354, 0.011208401, 0.008983575, -0.007684878, -0.04285802, 0.021654636, 0.020007636, -0.0310915, -0.021487456, 0.060913518, 0.011672735, -0.008821151, 0.03696049, 0.057542723, 0.1050383, -0.033740565, 0.07995307, -0.01331056, 0.047370534, 0.030206667, -0.030818304, -0.03187847, 0.052698564, -0.01774832, -0.066904835, -0.011330898, 0.016049162, 0.03961227, -0.04285802, 0.057488356, 0.033619598, -0.00090726017, -0.028042834, 0.0152344955, -0.029676583, 0.012482813, 0.01803171, -0.020014092, -0.028899126, -0.013409781, -0.03057365, -0.0008122867, -0.004830566, 0.052339736, 0.028454669, -0.0010343445, 0.056009553, -0.010358397, -0.008179189, 0.020175835, -0.02737819, 0.023981571, 0.035268296, -0.03411842, -0.015174946, -0.010879307, -0.009581279, -0.04988232, -0.06064168, -0.045386117, -0.0018312129, -0.01581555, -0.02910844, 0.040930685, 0.020882616, -0.0010707029, -0.044190027, 0.013253135, 0.0018736452, 0.013881761, -0.031099657, -0.05526472, -0.026609568, -0.019054843, 0.0071673556, -0.0012681255, 0.039786246, 0.024759028, 0.018760892, 0.055313647, 0.102178566, -0.006764695, -0.020782035, -0.04632124, -0.0410802, 0.011773315, 0.06592078, 0.019077608, -0.04212134, 0.01761376, -0.027501877, -0.0044613755, -0.026611011, -0.0126730995, 0.025654735, 0.006204708, -0.04193377, 0.00027591584, 0.004256987, -0.05043959, -0.0004227085, -0.00022834414, -0.06906866, 0.024381174, 0.0083872825, 0.0008517032, -0.048109934, -0.04081923, -0.028314672, 0.005166286, -0.0023989726, 0.048626427, 0.013926953, 0.006531084, -0.017355513, 0.056596726, 0.025851818, 0.049855135, -0.06366452, -0.024328165, 0.020300882, 0.009249976, -0.0024591167, -0.014165492, 0.10338552, 0.005751248, -0.0013787084, 0.0024514713, -0.030244725, 0.017808124, 0.012635042, 0.009520455, -0.04043322, -0.008229224], 'text': 'black folks'}}\n"
     ]
    }
   ],
   "source": [
    "print(\"Number of nodes:\", len(G.nodes))\n",
    "print(\"Example node:\", G.nodes[0])"
   ]
  },
  {
   "cell_type": "code",
   "execution_count": 5,
   "id": "f50caa4e",
   "metadata": {},
   "outputs": [],
   "source": [
    "import html\n",
    "# for node in G.nodes:\n",
    "#     # Convert node to string and escape HTML characters\n",
    "#     print(node)\n",
    "node_mapping = {node: html.unescape(str(node).upper().strip()) for node in G.nodes()} \n",
    "# G.nodes[0]"
   ]
  },
  {
   "cell_type": "code",
   "execution_count": 6,
   "id": "e65e82f8",
   "metadata": {},
   "outputs": [
    {
     "name": "stderr",
     "output_type": "stream",
     "text": [
      "/home/lisap/biaskg/env/lib/python3.10/site-packages/tqdm/auto.py:21: TqdmWarning: IProgress not found. Please update jupyter and ipywidgets. See https://ipywidgets.readthedocs.io/en/stable/user_install.html\n",
      "  from .autonotebook import tqdm as notebook_tqdm\n"
     ]
    },
    {
     "ename": "ValueError",
     "evalue": "Only undirected non-multi-graph networkx graphs are supported",
     "output_type": "error",
     "traceback": [
      "\u001b[0;31m---------------------------------------------------------------------------\u001b[0m",
      "\u001b[0;31mValueError\u001b[0m                                Traceback (most recent call last)",
      "Cell \u001b[0;32mIn[6], line 1\u001b[0m\n\u001b[0;32m----> 1\u001b[0m communities \u001b[38;5;241m=\u001b[39m \u001b[43mcluster_graph\u001b[49m\u001b[43m(\u001b[49m\u001b[43mG\u001b[49m\u001b[43m,\u001b[49m\u001b[43m \u001b[49m\u001b[43mmax_cluster_size\u001b[49m\u001b[38;5;241;43m=\u001b[39;49m\u001b[38;5;241;43m20\u001b[39;49m\u001b[43m,\u001b[49m\u001b[43m \u001b[49m\u001b[43muse_lcc\u001b[49m\u001b[38;5;241;43m=\u001b[39;49m\u001b[38;5;28;43;01mTrue\u001b[39;49;00m\u001b[43m)\u001b[49m\n",
      "File \u001b[0;32m~/biaskg/env/lib/python3.10/site-packages/graphrag/index/operations/cluster_graph.py:29\u001b[0m, in \u001b[0;36mcluster_graph\u001b[0;34m(graph, max_cluster_size, use_lcc, seed)\u001b[0m\n\u001b[1;32m     26\u001b[0m     log\u001b[38;5;241m.\u001b[39mwarning(\u001b[38;5;124m\"\u001b[39m\u001b[38;5;124mGraph has no nodes\u001b[39m\u001b[38;5;124m\"\u001b[39m)\n\u001b[1;32m     27\u001b[0m     \u001b[38;5;28;01mreturn\u001b[39;00m []\n\u001b[0;32m---> 29\u001b[0m node_id_to_community_map, parent_mapping \u001b[38;5;241m=\u001b[39m \u001b[43m_compute_leiden_communities\u001b[49m\u001b[43m(\u001b[49m\n\u001b[1;32m     30\u001b[0m \u001b[43m    \u001b[49m\u001b[43mgraph\u001b[49m\u001b[38;5;241;43m=\u001b[39;49m\u001b[43mgraph\u001b[49m\u001b[43m,\u001b[49m\n\u001b[1;32m     31\u001b[0m \u001b[43m    \u001b[49m\u001b[43mmax_cluster_size\u001b[49m\u001b[38;5;241;43m=\u001b[39;49m\u001b[43mmax_cluster_size\u001b[49m\u001b[43m,\u001b[49m\n\u001b[1;32m     32\u001b[0m \u001b[43m    \u001b[49m\u001b[43muse_lcc\u001b[49m\u001b[38;5;241;43m=\u001b[39;49m\u001b[43muse_lcc\u001b[49m\u001b[43m,\u001b[49m\n\u001b[1;32m     33\u001b[0m \u001b[43m    \u001b[49m\u001b[43mseed\u001b[49m\u001b[38;5;241;43m=\u001b[39;49m\u001b[43mseed\u001b[49m\u001b[43m,\u001b[49m\n\u001b[1;32m     34\u001b[0m \u001b[43m\u001b[49m\u001b[43m)\u001b[49m\n\u001b[1;32m     36\u001b[0m levels \u001b[38;5;241m=\u001b[39m \u001b[38;5;28msorted\u001b[39m(node_id_to_community_map\u001b[38;5;241m.\u001b[39mkeys())\n\u001b[1;32m     38\u001b[0m clusters: \u001b[38;5;28mdict\u001b[39m[\u001b[38;5;28mint\u001b[39m, \u001b[38;5;28mdict\u001b[39m[\u001b[38;5;28mint\u001b[39m, \u001b[38;5;28mlist\u001b[39m[\u001b[38;5;28mstr\u001b[39m]]] \u001b[38;5;241m=\u001b[39m {}\n",
      "File \u001b[0;32m~/biaskg/env/lib/python3.10/site-packages/graphrag/index/operations/cluster_graph.py:69\u001b[0m, in \u001b[0;36m_compute_leiden_communities\u001b[0;34m(graph, max_cluster_size, use_lcc, seed)\u001b[0m\n\u001b[1;32m     66\u001b[0m \u001b[38;5;28;01mif\u001b[39;00m use_lcc:\n\u001b[1;32m     67\u001b[0m     graph \u001b[38;5;241m=\u001b[39m stable_largest_connected_component(graph)\n\u001b[0;32m---> 69\u001b[0m community_mapping \u001b[38;5;241m=\u001b[39m \u001b[43mhierarchical_leiden\u001b[49m\u001b[43m(\u001b[49m\n\u001b[1;32m     70\u001b[0m \u001b[43m    \u001b[49m\u001b[43mgraph\u001b[49m\u001b[43m,\u001b[49m\u001b[43m \u001b[49m\u001b[43mmax_cluster_size\u001b[49m\u001b[38;5;241;43m=\u001b[39;49m\u001b[43mmax_cluster_size\u001b[49m\u001b[43m,\u001b[49m\u001b[43m \u001b[49m\u001b[43mrandom_seed\u001b[49m\u001b[38;5;241;43m=\u001b[39;49m\u001b[43mseed\u001b[49m\n\u001b[1;32m     71\u001b[0m \u001b[43m\u001b[49m\u001b[43m)\u001b[49m\n\u001b[1;32m     72\u001b[0m results: \u001b[38;5;28mdict\u001b[39m[\u001b[38;5;28mint\u001b[39m, \u001b[38;5;28mdict\u001b[39m[\u001b[38;5;28mstr\u001b[39m, \u001b[38;5;28mint\u001b[39m]] \u001b[38;5;241m=\u001b[39m {}\n\u001b[1;32m     73\u001b[0m hierarchy: \u001b[38;5;28mdict\u001b[39m[\u001b[38;5;28mint\u001b[39m, \u001b[38;5;28mint\u001b[39m] \u001b[38;5;241m=\u001b[39m {}\n",
      "File \u001b[0;32m<@beartype(graspologic.partition.leiden.hierarchical_leiden) at 0x7ad29dac70a0>:304\u001b[0m, in \u001b[0;36mhierarchical_leiden\u001b[0;34m(__beartype_object_135045015148864, __beartype_object_135045012829696, __beartype_getrandbits, __beartype_get_violation, __beartype_conf, __beartype_object_104567369501504, __beartype_object_135045015147264, __beartype_object_135045027226752, __beartype_object_104567902843360, __beartype_object_104567874593904, __beartype_func, *args, **kwargs)\u001b[0m\n",
      "File \u001b[0;32m~/biaskg/env/lib/python3.10/site-packages/graspologic/partition/leiden.py:574\u001b[0m, in \u001b[0;36mhierarchical_leiden\u001b[0;34m(graph, max_cluster_size, starting_communities, extra_forced_iterations, resolution, randomness, use_modularity, random_seed, weight_attribute, is_weighted, weight_default, check_directed)\u001b[0m\n\u001b[1;32m    572\u001b[0m edges: List[Tuple[\u001b[38;5;28mstr\u001b[39m, \u001b[38;5;28mstr\u001b[39m, \u001b[38;5;28mfloat\u001b[39m]]\n\u001b[1;32m    573\u001b[0m \u001b[38;5;28;01mif\u001b[39;00m \u001b[38;5;28misinstance\u001b[39m(graph, nx\u001b[38;5;241m.\u001b[39mGraph):\n\u001b[0;32m--> 574\u001b[0m     node_count, edges \u001b[38;5;241m=\u001b[39m \u001b[43m_nx_to_edge_list\u001b[49m\u001b[43m(\u001b[49m\n\u001b[1;32m    575\u001b[0m \u001b[43m        \u001b[49m\u001b[43mgraph\u001b[49m\u001b[43m,\u001b[49m\u001b[43m \u001b[49m\u001b[43midentifier\u001b[49m\u001b[43m,\u001b[49m\u001b[43m \u001b[49m\u001b[43mis_weighted\u001b[49m\u001b[43m,\u001b[49m\u001b[43m \u001b[49m\u001b[43mweight_attribute\u001b[49m\u001b[43m,\u001b[49m\u001b[43m \u001b[49m\u001b[43mweight_default\u001b[49m\n\u001b[1;32m    576\u001b[0m \u001b[43m    \u001b[49m\u001b[43m)\u001b[49m\n\u001b[1;32m    577\u001b[0m \u001b[38;5;28;01melif\u001b[39;00m \u001b[38;5;28misinstance\u001b[39m(graph, \u001b[38;5;28mlist\u001b[39m):\n\u001b[1;32m    578\u001b[0m     node_count, edges \u001b[38;5;241m=\u001b[39m _edge_list_to_edge_list(graph, identifier)\n",
      "File \u001b[0;32m<@beartype(graspologic.partition.leiden._nx_to_edge_list) at 0x7ad29dac5990>:117\u001b[0m, in \u001b[0;36m_nx_to_edge_list\u001b[0;34m(__beartype_object_104567401183696, __beartype_get_violation, __beartype_conf, __beartype_object_104567902616208, __beartype_object_135045027226752, __beartype_getrandbits, __beartype_func, *args, **kwargs)\u001b[0m\n",
      "File \u001b[0;32m~/biaskg/env/lib/python3.10/site-packages/graspologic/partition/leiden.py:50\u001b[0m, in \u001b[0;36m_nx_to_edge_list\u001b[0;34m(graph, identifier, is_weighted, weight_attribute, weight_default)\u001b[0m\n\u001b[1;32m     42\u001b[0m \u001b[38;5;129m@beartype\u001b[39m\n\u001b[1;32m     43\u001b[0m \u001b[38;5;28;01mdef\u001b[39;00m\u001b[38;5;250m \u001b[39m\u001b[38;5;21m_nx_to_edge_list\u001b[39m(\n\u001b[1;32m     44\u001b[0m     graph: nx\u001b[38;5;241m.\u001b[39mGraph,\n\u001b[0;32m   (...)\u001b[0m\n\u001b[1;32m     48\u001b[0m     weight_default: \u001b[38;5;28mfloat\u001b[39m,\n\u001b[1;32m     49\u001b[0m ) \u001b[38;5;241m-\u001b[39m\u001b[38;5;241m>\u001b[39m Tuple[\u001b[38;5;28mint\u001b[39m, List[Tuple[\u001b[38;5;28mstr\u001b[39m, \u001b[38;5;28mstr\u001b[39m, \u001b[38;5;28mfloat\u001b[39m]]]:\n\u001b[0;32m---> 50\u001b[0m     \u001b[43mcheck_argument\u001b[49m\u001b[43m(\u001b[49m\n\u001b[1;32m     51\u001b[0m \u001b[43m        \u001b[49m\u001b[38;5;28;43misinstance\u001b[39;49m\u001b[43m(\u001b[49m\u001b[43mgraph\u001b[49m\u001b[43m,\u001b[49m\u001b[43m \u001b[49m\u001b[43mnx\u001b[49m\u001b[38;5;241;43m.\u001b[39;49m\u001b[43mGraph\u001b[49m\u001b[43m)\u001b[49m\n\u001b[1;32m     52\u001b[0m \u001b[43m        \u001b[49m\u001b[38;5;129;43;01mand\u001b[39;49;00m\u001b[43m \u001b[49m\u001b[38;5;129;43;01mnot\u001b[39;49;00m\u001b[43m \u001b[49m\u001b[43m(\u001b[49m\u001b[43mgraph\u001b[49m\u001b[38;5;241;43m.\u001b[39;49m\u001b[43mis_directed\u001b[49m\u001b[43m(\u001b[49m\u001b[43m)\u001b[49m\u001b[43m \u001b[49m\u001b[38;5;129;43;01mor\u001b[39;49;00m\u001b[43m \u001b[49m\u001b[43mgraph\u001b[49m\u001b[38;5;241;43m.\u001b[39;49m\u001b[43mis_multigraph\u001b[49m\u001b[43m(\u001b[49m\u001b[43m)\u001b[49m\u001b[43m)\u001b[49m\u001b[43m,\u001b[49m\n\u001b[1;32m     53\u001b[0m \u001b[43m        \u001b[49m\u001b[38;5;124;43m\"\u001b[39;49m\u001b[38;5;124;43mOnly undirected non-multi-graph networkx graphs are supported\u001b[39;49m\u001b[38;5;124;43m\"\u001b[39;49m\u001b[43m,\u001b[49m\n\u001b[1;32m     54\u001b[0m \u001b[43m    \u001b[49m\u001b[43m)\u001b[49m\n\u001b[1;32m     55\u001b[0m     native_safe: List[Tuple[\u001b[38;5;28mstr\u001b[39m, \u001b[38;5;28mstr\u001b[39m, \u001b[38;5;28mfloat\u001b[39m]] \u001b[38;5;241m=\u001b[39m []\n\u001b[1;32m     56\u001b[0m     edge_iter \u001b[38;5;241m=\u001b[39m (\n\u001b[1;32m     57\u001b[0m         graph\u001b[38;5;241m.\u001b[39medges(data\u001b[38;5;241m=\u001b[39mweight_attribute)\n\u001b[1;32m     58\u001b[0m         \u001b[38;5;28;01mif\u001b[39;00m is_weighted \u001b[38;5;129;01mis\u001b[39;00m \u001b[38;5;28;01mTrue\u001b[39;00m\n\u001b[1;32m     59\u001b[0m         \u001b[38;5;28;01melse\u001b[39;00m graph\u001b[38;5;241m.\u001b[39medges(data\u001b[38;5;241m=\u001b[39mweight_attribute, default\u001b[38;5;241m=\u001b[39mweight_default)\n\u001b[1;32m     60\u001b[0m     )\n",
      "File \u001b[0;32m~/biaskg/env/lib/python3.10/site-packages/graspologic/preconditions.py:85\u001b[0m, in \u001b[0;36mcheck_argument\u001b[0;34m(check, message)\u001b[0m\n\u001b[1;32m     61\u001b[0m \u001b[38;5;250m\u001b[39m\u001b[38;5;124;03m\"\"\"\u001b[39;00m\n\u001b[1;32m     62\u001b[0m \u001b[38;5;124;03mRaises a ValueError if the provided check is false\u001b[39;00m\n\u001b[1;32m     63\u001b[0m \n\u001b[0;32m   (...)\u001b[0m\n\u001b[1;32m     82\u001b[0m \u001b[38;5;124;03mTypeError if the type is not one of the ``required_types``\u001b[39;00m\n\u001b[1;32m     83\u001b[0m \u001b[38;5;124;03m\"\"\"\u001b[39;00m\n\u001b[1;32m     84\u001b[0m \u001b[38;5;28;01mif\u001b[39;00m \u001b[38;5;129;01mnot\u001b[39;00m check:\n\u001b[0;32m---> 85\u001b[0m     \u001b[38;5;28;01mraise\u001b[39;00m \u001b[38;5;167;01mValueError\u001b[39;00m(message)\n",
      "\u001b[0;31mValueError\u001b[0m: Only undirected non-multi-graph networkx graphs are supported"
     ]
    }
   ],
   "source": [
    "communities = cluster_graph(G, max_cluster_size=20, use_lcc=True)"
   ]
  },
  {
   "cell_type": "markdown",
   "id": "50aa6899",
   "metadata": {},
   "source": [
    "## GNN - based retriever"
   ]
  },
  {
   "cell_type": "code",
   "execution_count": 4,
   "id": "f57acc83",
   "metadata": {},
   "outputs": [
    {
     "name": "stderr",
     "output_type": "stream",
     "text": [
      "The tokenizer class you load from this checkpoint is not the same type as the class this function is called from. It may result in unexpected tokenization. \n",
      "The tokenizer class you load from this checkpoint is 'RagTokenizer'. \n",
      "The class this function is called from is 'DPRQuestionEncoderTokenizer'.\n",
      "The tokenizer class you load from this checkpoint is not the same type as the class this function is called from. It may result in unexpected tokenization. \n",
      "The tokenizer class you load from this checkpoint is 'RagTokenizer'. \n",
      "The class this function is called from is 'DPRQuestionEncoderTokenizerFast'.\n",
      "The tokenizer class you load from this checkpoint is not the same type as the class this function is called from. It may result in unexpected tokenization. \n",
      "The tokenizer class you load from this checkpoint is 'RagTokenizer'. \n",
      "The class this function is called from is 'BartTokenizer'.\n",
      "The tokenizer class you load from this checkpoint is not the same type as the class this function is called from. It may result in unexpected tokenization. \n",
      "The tokenizer class you load from this checkpoint is 'RagTokenizer'. \n",
      "The class this function is called from is 'BartTokenizerFast'.\n"
     ]
    },
    {
     "ename": "AttributeError",
     "evalue": "'RagTokenizer' object has no attribute 'encode'",
     "output_type": "error",
     "traceback": [
      "\u001b[0;31m---------------------------------------------------------------------------\u001b[0m",
      "\u001b[0;31mAttributeError\u001b[0m                            Traceback (most recent call last)",
      "Cell \u001b[0;32mIn[4], line 7\u001b[0m\n\u001b[1;32m      4\u001b[0m model \u001b[38;5;241m=\u001b[39m RagSequenceForGeneration\u001b[38;5;241m.\u001b[39mfrom_pretrained(\u001b[38;5;124m\"\u001b[39m\u001b[38;5;124mfacebook/rag-token-nq\u001b[39m\u001b[38;5;124m\"\u001b[39m)\n\u001b[1;32m      6\u001b[0m input_text \u001b[38;5;241m=\u001b[39m \u001b[38;5;124m\"\u001b[39m\u001b[38;5;124mWhat is the capital of France?\u001b[39m\u001b[38;5;124m\"\u001b[39m\n\u001b[0;32m----> 7\u001b[0m input_ids \u001b[38;5;241m=\u001b[39m \u001b[43mtokenizer\u001b[49m\u001b[38;5;241;43m.\u001b[39;49m\u001b[43mencode\u001b[49m(input_text, return_tensors\u001b[38;5;241m=\u001b[39m\u001b[38;5;124m\"\u001b[39m\u001b[38;5;124mpt\u001b[39m\u001b[38;5;124m\"\u001b[39m)\n\u001b[1;32m      9\u001b[0m output \u001b[38;5;241m=\u001b[39m model\u001b[38;5;241m.\u001b[39mgenerate(input_ids)\n\u001b[1;32m     10\u001b[0m response \u001b[38;5;241m=\u001b[39m tokenizer\u001b[38;5;241m.\u001b[39mdecode(output[\u001b[38;5;241m0\u001b[39m], skip_special_tokens\u001b[38;5;241m=\u001b[39m\u001b[38;5;28;01mTrue\u001b[39;00m)\n",
      "\u001b[0;31mAttributeError\u001b[0m: 'RagTokenizer' object has no attribute 'encode'"
     ]
    }
   ],
   "source": [
    "from transformers import RagTokenizer, RagSequenceForGeneration\n",
    "\n",
    "tokenizer = RagTokenizer.from_pretrained(\"facebook/rag-token-nq\")\n",
    "model = RagSequenceForGeneration.from_pretrained(\"facebook/rag-token-nq\")\n",
    "\n",
    "input_text = \"What is the capital of France?\"\n",
    "input_ids = tokenizer.encode(input_text, return_tensors=\"pt\")\n",
    "\n",
    "output = model.generate(input_ids)\n",
    "response = tokenizer.decode(output[0], skip_special_tokens=True)\n",
    "print(response)"
   ]
  },
  {
   "cell_type": "markdown",
   "id": "6de6e9bf",
   "metadata": {},
   "source": [
    "## PageRank"
   ]
  },
  {
   "cell_type": "code",
   "execution_count": 1,
   "id": "90e5bbb2",
   "metadata": {},
   "outputs": [],
   "source": [
    "from neo4j import GraphDatabase"
   ]
  },
  {
   "cell_type": "code",
   "execution_count": 6,
   "id": "a179265b",
   "metadata": {},
   "outputs": [
    {
     "name": "stdout",
     "output_type": "stream",
     "text": [
      "Graph projection results:\n",
      "<Record nodeProjection={'StartNode': {'label': 'StartNode', 'properties': {}}, 'EndNode': {'label': 'EndNode', 'properties': {}}} relationshipProjection={'RELATIONSHIP': {'aggregation': 'DEFAULT', 'orientation': 'UNDIRECTED', 'indexInverse': False, 'properties': {}, 'type': 'RELATIONSHIP'}} graphName='myGraph' nodeCount=15044 relationshipCount=65782 projectMillis=441>\n"
     ]
    }
   ],
   "source": [
    "driver = GraphDatabase.driver('bolt://localhost:7687', auth=(\"neo4j\", \"medicalgraphrag\"))\n",
    "\n",
    "query = \"\"\"\n",
    "    CALL gds.graph.project(\n",
    "        'myGraph',\n",
    "        ['StartNode', 'EndNode'],\n",
    "        {\n",
    "            RELATIONSHIP: {\n",
    "                type: 'RELATIONSHIP',\n",
    "                orientation: 'UNDIRECTED'\n",
    "            }\n",
    "        }\n",
    "    )\n",
    "    \"\"\"\n",
    "\n",
    "results = driver.session().run(query)\n",
    "print(\"Graph projection results:\")\n",
    "for record in results:\n",
    "    print(record)\n",
    "# Close the driver\n",
    "driver.close()"
   ]
  },
  {
   "cell_type": "code",
   "execution_count": 40,
   "id": "9f917e5f",
   "metadata": {},
   "outputs": [],
   "source": [
    "# 3. Retriever\n",
    "# def result_formatter(record: neo4j.Record) -> RetrieverResultItem:\n",
    "#     \"\"\"\n",
    "#     Format the result from the database query into a RetrieverResultItem.\n",
    "#     The retrieved start nodes are connected to an edge (relationship) and an end node.\n",
    "#     The retrieved end nodes are connected to the start node with an edge (relationship).\n",
    "\n",
    "#     Args:\n",
    "#         record (neo4j.Record): The record returned from the database query.\n",
    "#     Returns:\n",
    "#         RetrieverResultItem: The formatted result item. This includes the content and metadata.\n",
    "#     The content is a string that contains the start node, the relationship, and the end node.\n",
    "#     The metadata includes the start node and the score.\n",
    "#     \"\"\"\n",
    "#     content=\"\"\n",
    "#     for i in range(len(record.get('top_triplets'))):\n",
    "#         content += f\"{record.get('top_triplets')[i].get('subject')} {record.get('top_triplets')[i].get('relationship')} {record.get('top_triplets')[i].get('object')},\"\n",
    "#     return RetrieverResultItem(\n",
    "#         content=content,\n",
    "#         metadata={\n",
    "#             \"startNode\": record.get('node'),\n",
    "#             \"score\": record.get(\"score\"),\n",
    "#         }\n",
    "#     )"
   ]
  },
  {
   "cell_type": "code",
   "execution_count": null,
   "id": "488b26d4",
   "metadata": {},
   "outputs": [
    {
     "data": {
      "text/plain": [
       "[{'graphName': 'myGraph', 'nodeCount': 15044, 'relationshipCount': 65782}]"
      ]
     },
     "execution_count": 12,
     "metadata": {},
     "output_type": "execute_result"
    }
   ],
   "source": [
    "driver = GraphDatabase.driver('bolt://localhost:7687', auth=(\"neo4j\", \"medicalgraphrag\"))\n",
    "\n",
    "# retrieval_query = \"\"\"\n",
    "#     MATCH (n)-[r]->(m)\n",
    "#     WITH n, r, m\n",
    "#     ORDER BY n\n",
    "#     WITH collect({subject: n.text, relationship: r.text, object: m.text}) AS top_triplets, n AS c_node\n",
    "#     CALL gds.pageRank.stream('myGraph',{\n",
    "#         maxIterations: 20,\n",
    "#         dampingFactor: 0.85,\n",
    "#         sourceNodes: [id(c_node)]\n",
    "#     })\n",
    "#     YIELD nodeId, score\n",
    "#     WHERE id(c_node) = nodeId\n",
    "#     RETURN c_node.text, top_triplets, score\n",
    "#     ORDER BY score DESC\n",
    "#     LIMIT 10\n",
    "# \"\"\"\n",
    "\n",
    "retrieval_query = \"\"\"\n",
    "    CALL gds.graph.list()\n",
    "    YIELD graphName, nodeCount, relationshipCount\n",
    "    RETURN graphName, nodeCount, relationshipCount\n",
    "    ORDER BY graphName ASC\n",
    "    \"\"\"\n",
    "\n",
    "results = driver.session().run(retrieval_query)\n",
    "record = results.data()"
   ]
  },
  {
   "cell_type": "code",
   "execution_count": null,
   "id": "34734ea2",
   "metadata": {},
   "outputs": [
    {
     "name": "stdout",
     "output_type": "stream",
     "text": [
      "Graph is not empty\n",
      "<Record nodeProjection={'StartNode': {'label': 'StartNode', 'properties': {}}, 'EndNode': {'label': 'EndNode', 'properties': {}}} relationshipProjection={'RELATIONSHIP': {'aggregation': 'DEFAULT', 'orientation': 'UNDIRECTED', 'indexInverse': False, 'properties': {}, 'type': 'RELATIONSHIP'}} graphName='myGraph' nodeCount=15044 relationshipCount=65782 projectMillis=441>\n"
     ]
    }
   ],
   "source": [
    "# check if gds.graph.list() is empty\n",
    "if not record:\n",
    "    print(\"Graph is empty\")\n",
    "    print(record)\n",
    "else:\n",
    "    print(\"Graph is not empty\")\n",
    "    print(record.)"
   ]
  },
  {
   "cell_type": "code",
   "execution_count": 8,
   "id": "dc0103b7",
   "metadata": {},
   "outputs": [
    {
     "name": "stderr",
     "output_type": "stream",
     "text": [
      "Received notification from DBMS server: {severity: WARNING} {code: Neo.ClientNotification.Statement.FeatureDeprecationWarning} {category: DEPRECATION} {title: This feature is deprecated and will be removed in future versions.} {description: The query used a deprecated function: `id`.} {position: line: 9, column: 23, offset: 278} for query: \"\\n    MATCH (n)-[r]->(m)\\n    WITH n, r, m\\n    ORDER BY n\\n    WITH collect({subject: n.text, relationship: r.text, object: m.text}) AS top_triplets, n AS c_node\\n    CALL gds.pageRank.stream('myGraph',{\\n        maxIterations: 20,\\n        dampingFactor: 0.85,\\n        sourceNodes: [id(c_node)]\\n    })\\n    YIELD nodeId, score\\n    WHERE elementId(c_node) = nodeId\\n    RETURN c_node.text, top_triplets, score\\n    ORDER BY score DESC\\n    LIMIT 10\\n\"\n"
     ]
    }
   ],
   "source": [
    "for record in results:\n",
    "#     node = record[\"c_node.text\"]\n",
    "#     top_triplets = record[\"top_triplets\"]\n",
    "#     score = record[\"score\"]\n",
    "#     print(f\"{record.get('top_triplets').get('subject')} {record.get('top_triplets').get('relationship')} {record.get('top_triplets').get('object')},\")\n",
    "\n",
    "    for i in range(len(record.get('top_triplets'))):\n",
    "        print(f\"{record.get('top_triplets')[i].get('subject')} {record.get('top_triplets')[i].get('relationship')} {record.get('top_triplets')[i].get('object')},\")"
   ]
  },
  {
   "cell_type": "code",
   "execution_count": null,
   "id": "50d2fe5d",
   "metadata": {},
   "outputs": [],
   "source": []
  }
 ],
 "metadata": {
  "kernelspec": {
   "display_name": "env",
   "language": "python",
   "name": "python3"
  },
  "language_info": {
   "codemirror_mode": {
    "name": "ipython",
    "version": 3
   },
   "file_extension": ".py",
   "mimetype": "text/x-python",
   "name": "python",
   "nbconvert_exporter": "python",
   "pygments_lexer": "ipython3",
   "version": "3.10.12"
  }
 },
 "nbformat": 4,
 "nbformat_minor": 5
}
