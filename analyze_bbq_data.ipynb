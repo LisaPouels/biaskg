{
 "cells": [
  {
   "cell_type": "code",
   "execution_count": 1,
   "metadata": {},
   "outputs": [],
   "source": [
    "import pandas as pd"
   ]
  },
  {
   "cell_type": "code",
   "execution_count": null,
   "metadata": {},
   "outputs": [],
   "source": [
    "df_bbq_age = pd.read_json('Data/Age.jsonl', lines=True)\n",
    "df_bbq_age = df_bbq_age.sample(n=100, random_state=42)\n",
    "\n",
    "df_bbq_disability = pd.read_json('Data/Disability_status.jsonl', lines=True)\n",
    "df_bbq_disability = df_bbq_disability.sample(n=100, random_state=42)\n",
    "\n",
    "df_bbq_nat = pd.read_json('Data/Nationality.jsonl', lines=True)\n",
    "df_bbq_nat = df_bbq_nat.sample(n=100, random_state=42)\n",
    "\n",
    "df_bbq_rel = pd.read_json('Data/Religion.jsonl', lines=True)\n",
    "df_bbq_rel = df_bbq_rel.sample(n=100, random_state=42)\n",
    "\n",
    "df_bbq_race = pd.read_json('Data/Race_ethnicity.jsonl', lines=True)\n",
    "df_bbq_race = df_bbq_race.sample(n=100, random_state=42)\n",
    "\n",
    "df_bbq_gender = pd.read_json('Data/Gender_identity.jsonl', lines=True)\n",
    "df_bbq_gender = df_bbq_gender.sample(n=100, random_state=42)\n",
    "df_bbq=pd.concat([df_bbq_age,df_bbq_disability,df_bbq_nat,df_bbq_rel, df_bbq_race, df_bbq_gender]).reset_index()"
   ]
  },
  {
   "cell_type": "code",
   "execution_count": 6,
   "metadata": {},
   "outputs": [
    {
     "data": {
      "text/plain": [
       "index                                                               3861\n",
       "example_id                                                          3861\n",
       "question_index                                                        41\n",
       "question_polarity                                                    neg\n",
       "context_condition                                               disambig\n",
       "category                                                 Gender_identity\n",
       "answer_info            {'ans0': ['Carol', 'F'], 'ans1': ['Kenneth', '...\n",
       "additional_metadata    {'subcategory': 'None', 'stereotyped_groups': ...\n",
       "context                Kenneth and Carol both work at the biology bui...\n",
       "question                                Who is not involved in research?\n",
       "ans0                                                               Carol\n",
       "ans1                                                             Kenneth\n",
       "ans2                                                      Not answerable\n",
       "label                                                                  0\n",
       "Name: 590, dtype: object"
      ]
     },
     "execution_count": 6,
     "metadata": {},
     "output_type": "execute_result"
    }
   ],
   "source": [
    "df_bbq.iloc[-10]"
   ]
  },
  {
   "cell_type": "code",
   "execution_count": 7,
   "metadata": {},
   "outputs": [],
   "source": [
    "# save the dataframe to a csv file\n",
    "df_bbq.to_csv('Data/bbq_sample.csv', index=False)"
   ]
  }
 ],
 "metadata": {
  "kernelspec": {
   "display_name": "Python 3",
   "language": "python",
   "name": "python3"
  },
  "language_info": {
   "codemirror_mode": {
    "name": "ipython",
    "version": 3
   },
   "file_extension": ".py",
   "mimetype": "text/x-python",
   "name": "python",
   "nbconvert_exporter": "python",
   "pygments_lexer": "ipython3",
   "version": "3.10.12"
  }
 },
 "nbformat": 4,
 "nbformat_minor": 2
}
