{
 "cells": [
  {
   "cell_type": "code",
   "execution_count": 2,
   "metadata": {},
   "outputs": [],
   "source": [
    "import pandas as pd"
   ]
  },
  {
   "cell_type": "code",
   "execution_count": 3,
   "metadata": {},
   "outputs": [],
   "source": [
    "df_bbq_age = pd.read_json('Data/Age.jsonl', lines=True)\n",
    "df_bbq_age = df_bbq_age.sample(n=100, random_state=42)\n",
    "\n",
    "df_bbq_disability = pd.read_json('Data/Disability_status.jsonl', lines=True)\n",
    "df_bbq_disability = df_bbq_disability.sample(n=100, random_state=42)\n",
    "\n",
    "df_bbq_nat = pd.read_json('Data/Nationality.jsonl', lines=True)\n",
    "df_bbq_nat = df_bbq_nat.sample(n=100, random_state=42)\n",
    "\n",
    "df_bbq_rel = pd.read_json('Data/Religion.jsonl', lines=True)\n",
    "df_bbq_rel = df_bbq_rel.sample(n=100, random_state=42)\n",
    "\n",
    "df_bbq_race = pd.read_json('Data/Race_ethnicity.jsonl', lines=True)\n",
    "df_bbq_race = df_bbq_race.sample(n=100, random_state=42)\n",
    "df_bbq=pd.concat([df_bbq_age,df_bbq_disability,df_bbq_nat,df_bbq_rel, df_bbq_race]).reset_index()"
   ]
  },
  {
   "cell_type": "code",
   "execution_count": 4,
   "metadata": {},
   "outputs": [
    {
     "data": {
      "text/plain": [
       "'Who was accepted?'"
      ]
     },
     "execution_count": 4,
     "metadata": {},
     "output_type": "execute_result"
    }
   ],
   "source": [
    "df_bbq.iloc[-10]['question']"
   ]
  }
 ],
 "metadata": {
  "kernelspec": {
   "display_name": "env",
   "language": "python",
   "name": "python3"
  },
  "language_info": {
   "codemirror_mode": {
    "name": "ipython",
    "version": 3
   },
   "file_extension": ".py",
   "mimetype": "text/x-python",
   "name": "python",
   "nbconvert_exporter": "python",
   "pygments_lexer": "ipython3",
   "version": "3.12.9"
  }
 },
 "nbformat": 4,
 "nbformat_minor": 2
}
