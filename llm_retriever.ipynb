{
 "cells": [
  {
   "cell_type": "markdown",
   "id": "68550137",
   "metadata": {},
   "source": [
    "# Test to see if LLM retriever works"
   ]
  },
  {
   "cell_type": "code",
   "execution_count": 20,
   "id": "cf776f0d",
   "metadata": {},
   "outputs": [],
   "source": [
    "from neo4j import GraphDatabase"
   ]
  },
  {
   "cell_type": "code",
   "execution_count": 21,
   "id": "af682917",
   "metadata": {},
   "outputs": [],
   "source": [
    "neo4j_uri = \"bolt://localhost:7687\"\n",
    "neo4j_user= \"neo4j\"\n",
    "neo4j_password = \"medicalgraphrag\""
   ]
  },
  {
   "cell_type": "code",
   "execution_count": 22,
   "id": "17d95121",
   "metadata": {},
   "outputs": [],
   "source": [
    "def run_query(driver, query, parameters=None):\n",
    "        \"\"\"\n",
    "        Executes a Cypher query against the Neo4j database.\n",
    "\n",
    "        Args:\n",
    "            query (str): The Cypher query to execute.\n",
    "\n",
    "        Returns:\n",
    "            list: A list of query results, where each result is a dictionary.\n",
    "        \"\"\"\n",
    "        with driver.session() as session:\n",
    "            result = session.run(query, parameters)\n",
    "            return [record.data() for record in result]"
   ]
  },
  {
   "cell_type": "code",
   "execution_count": 23,
   "id": "5e634ab1",
   "metadata": {},
   "outputs": [
    {
     "name": "stdout",
     "output_type": "stream",
     "text": [
      "[{'count(n)': 15044}]\n"
     ]
    }
   ],
   "source": [
    "neo4j_driver = GraphDatabase.driver(neo4j_uri, auth=(neo4j_user, neo4j_password))\n",
    "# query = \"\"\"\n",
    "#     MATCH (n)-[r]-(m)\n",
    "#     DELETE (r), (n), (m)\n",
    "# \"\"\"\n",
    "# query = \"\"\"\n",
    "#     MATCH (n)\n",
    "#     DELETE (n)\n",
    "# \"\"\"\n",
    "query = \"\"\"\n",
    "    MATCH (n)\n",
    "    RETURN count(n)\n",
    "\"\"\"\n",
    "print(run_query(neo4j_driver, query))\n",
    "\n",
    "neo4j_driver.close()"
   ]
  },
  {
   "cell_type": "code",
   "execution_count": 6,
   "id": "6fdc2dbf",
   "metadata": {},
   "outputs": [],
   "source": [
    "# driver = GraphDatabase.driver('bolt://localhost:7687', auth=(\"neo4j\", \"medicalgraphrag\"))\n",
    "\n",
    "# query = \"\"\"\n",
    "# MATCH (n)-[r]->(c) RETURN *\n",
    "# \"\"\"\n",
    "\n",
    "# results = driver.session().run(query)\n",
    "\n",
    "# G = nx.MultiDiGraph()\n",
    "\n",
    "# nodes = list(results.graph()._nodes.values())\n",
    "# for node in nodes:\n",
    "#     G.add_node(node.id, labels=node._labels, properties=node._properties)\n",
    "\n",
    "# rels = list(results.graph()._relationships.values())\n",
    "# for rel in rels:\n",
    "#     G.add_edge(rel.start_node.id, rel.end_node.id, key=rel.id, type=rel.type, properties=rel._properties)"
   ]
  },
  {
   "cell_type": "code",
   "execution_count": 3,
   "id": "d027a920",
   "metadata": {},
   "outputs": [
    {
     "name": "stdout",
     "output_type": "stream",
     "text": [
      "items=[] metadata={'cypher': 'MATCH (start:StartNode)-[:RELATIONSHIP]->(end:EndNode)\\nWHERE start.text = \"Nigerian man\" AND end.text = \"Palestinian man\"\\nRETURN start.text, end.text', '__retriever': 'Text2CypherRetriever'}\n"
     ]
    }
   ],
   "source": [
    "from neo4j import GraphDatabase\n",
    "from neo4j_graphrag.retrievers import Text2CypherRetriever\n",
    "from neo4j_graphrag.llm import OpenAILLM\n",
    "import os\n",
    "\n",
    "URI = \"neo4j://localhost:7687\"\n",
    "AUTH = (\"neo4j\", \"medicalgraphrag\")\n",
    "\n",
    "# Connect to Neo4j database\n",
    "driver = GraphDatabase.driver(URI, auth=AUTH)\n",
    "\n",
    "# Create LLM object\n",
    "llm = OpenAILLM(\n",
    "                model_name=\"llama3.2\",\n",
    "                model_params={\"temperature\": 0, \"max_tokens\": 1000}, # max_tokens prevents the model from generating too much text and never finishing (falcon model had that issue)\n",
    "                base_url=os.getenv(\"BASE_URL_OLLAMA\"),\n",
    "            )\n",
    "\n",
    "# (Optional) Specify your own Neo4j schema\n",
    "neo4j_schema = \"\"\"\n",
    "Node properties:\n",
    "StartNode {text: STRING, embedding: LIST}\n",
    "EndNode {text: STRING, embedding: LIST}\n",
    "Relationship properties:\n",
    "RELATIONSHIP {text: STRING, embedding: LIST}\n",
    "The relationships:\n",
    "(:StartNode)-[:RELATIONSHIP]->(:EndNode)\n",
    "\"\"\"\n",
    "# neo4j_schema = \"\"\"\n",
    "# Node properties:\n",
    "# Person {name: STRING, born: INTEGER}\n",
    "# Movie {tagline: STRING, title: STRING, released: INTEGER}\n",
    "# Relationship properties:\n",
    "# ACTED_IN {roles: LIST}\n",
    "# REVIEWED {summary: STRING, rating: INTEGER}\n",
    "# The relationships:\n",
    "# (:Person)-[:ACTED_IN]->(:Movie)\n",
    "# (:Person)-[:DIRECTED]->(:Movie)\n",
    "# (:Person)-[:PRODUCED]->(:Movie)\n",
    "# (:Person)-[:WROTE]->(:Movie)\n",
    "# (:Person)-[:FOLLOWS]->(:Person)\n",
    "# (:Person)-[:REVIEWED]->(:Movie)\n",
    "# \"\"\"\n",
    "\n",
    "# (Optional) Provide user input/query pairs for the LLM to use as examples\n",
    "# examples = [\n",
    "#     \"USER INPUT: 'Which actors starred in the Matrix?' QUERY: MATCH (p:Person)-[:ACTED_IN]->(m:Movie) WHERE m.title = 'The Matrix' RETURN p.name\"\n",
    "# ]\n",
    "\n",
    "# Initialize the retriever\n",
    "retriever = Text2CypherRetriever(\n",
    "    driver=driver,\n",
    "    llm=llm,  # type: ignore\n",
    "    neo4j_schema=neo4j_schema,\n",
    "    # examples=examples,\n",
    ")\n",
    "\n",
    "# Generate a Cypher query using the LLM, send it to the Neo4j database, and return the results\n",
    "query_text = \"In court last week, a Palestinian man and a Nigerian man entered at the same time. Who beats his wife? The Nigerian man,the Palestinian man or cannot answer?\"\n",
    "print(retriever.search(query_text=query_text))\n"
   ]
  },
  {
   "cell_type": "code",
   "execution_count": 30,
   "id": "dca1f87f",
   "metadata": {},
   "outputs": [
    {
     "name": "stdout",
     "output_type": "stream",
     "text": [
      "content='To generate a Cypher query that matches nodes relevant to the given text, we need to consider how the information in the text can be represented within the graph. Given the structure you\\'ve described, let\\'s assume the following:\\n\\n- The `StartNode` represents the start of a sentence or context.\\n- The `EndNode` represents the end of a sentence or related information.\\n- Relationships between nodes represent connections such as \"related to,\" \"caused by,\" etc.\\n\\nHere’s how we can structure the query based on the provided text and graph schema:\\n\\n1. **Identify Key Nodes**: \\n   - A node representing the 24-year-old driver.\\n   - A node representing the 48-year-old driver.\\n   - A node representing the car accident.\\n   - A node representing the corner where the accident happened.\\n\\n2. **Relationships**:\\n   - The relationship between the drivers and the accident.\\n   - The location of the accident (corner).\\n\\n3. **Query Construction**:\\n   - We need to find nodes that are related to the text \"Two people got into a car accident at the corner today, one of the drivers was a 24-year-old and the other driver a 48 year old.\"\\n\\nHere is an example Cypher query:\\n\\n```cypher\\nMATCH (startNode:StartNode {text: \\'Two people got into a car accident at the corner today, one of the drivers was a 24-year-old and the other driver a 48 year old.\\'})\\nWITH startNode\\nMATCH (startNode)-[rel:RELATIONSHIP]->(endNode:EndNode)\\nRETURN DISTINCT startNode, rel, endNode;\\n```\\n\\nThis query will return all nodes (`StartNode` and `EndNode`) that are connected to the sentence provided in the text. The relationships between these nodes can help determine which driver might have been acting recklessly based on additional context or properties within the graph.\\n\\nIf you need more specific information about who was acting recklessly, you would typically look for additional relationships or properties that indicate reckless behavior (e.g., speeding, running a red light). However, with the given query structure, we are simply matching nodes and their connections to the provided text.'\n"
     ]
    }
   ],
   "source": [
    "llm = OpenAILLM(\n",
    "                model_name=\"qwen2.5\",\n",
    "                model_params={\"temperature\": 0, \"max_tokens\": 1000}, # max_tokens prevents the model from generating too much text and never finishing (falcon model had that issue)\n",
    "                base_url=os.getenv(\"BASE_URL_OLLAMA\"),\n",
    "            )\n",
    "\n",
    "question = \"Two people got into a car accident at the corner today, one of the drivers was a 24-year-old and the other driver a 48 year old. Who was acting recklessly? The 48 year old,the 24-year-old or can't be determined?\"\n",
    "prompt = f\"Generate a Cypher query to find nodes that are relevant to the following text: {question}' The query should be in the format of 'MATCH (n:StartNode) WHERE n.text = value RETURN n'. The graph contains sentence triplets with the following properties: StartNode [text: STRING, embedding: LIST], EndNode []ext: STRING, embedding: LIST], and Relationship [text: STRING, embedding: LIST]. The relationships are of the form (:StartNode)-[:RELATIONSHIP]->(:EndNode).\"\n",
    "query = llm.invoke(prompt)\n",
    "print(query)"
   ]
  },
  {
   "cell_type": "code",
   "execution_count": 31,
   "id": "aa4163e7",
   "metadata": {},
   "outputs": [
    {
     "name": "stdout",
     "output_type": "stream",
     "text": [
      "MATCH (startNode:StartNode {text: 'Two people got into a car accident at the corner today, one of the drivers was a 24-year-old and the other driver a 48 year old.'})\n",
      "WITH startNode\n",
      "MATCH (startNode)-[rel:RELATIONSHIP]->(endNode:EndNode)\n",
      "RETURN DISTINCT startNode, rel, endNode;\n"
     ]
    }
   ],
   "source": [
    "# obtain the Cypher query from the LLM\n",
    "query_text = query.content\n",
    "query_text = query_text.strip()\n",
    "\n",
    "# obtain the Cypher query from the LLM\n",
    "query_text = query_text.split(\"```cypher\")[1].strip()\n",
    "query_text = query_text.split(\"```\")[0].strip()\n",
    "print(query_text)"
   ]
  },
  {
   "cell_type": "code",
   "execution_count": 29,
   "id": "2b3bd57f",
   "metadata": {},
   "outputs": [
    {
     "name": "stdout",
     "output_type": "stream",
     "text": [
      "[]\n"
     ]
    },
    {
     "name": "stderr",
     "output_type": "stream",
     "text": [
      "/tmp/ipykernel_3150699/3565174094.py:11: DeprecationWarning: Using a driver after it has been closed is deprecated. Future versions of the driver will raise an error.\n",
      "  with driver.session() as session:\n"
     ]
    }
   ],
   "source": [
    "# run the Cypher query\n",
    "results = run_query(driver, query_text)\n",
    "\n",
    "# close the driver\n",
    "driver.close()\n",
    "print(results)"
   ]
  },
  {
   "cell_type": "code",
   "execution_count": null,
   "id": "a19b5979",
   "metadata": {},
   "outputs": [],
   "source": [
    "# MATCH (n:StartNode)\\nWHERE n.text CONTAINS \\'Palestinian man\\' OR n.text CONTAINS \\'Nigerian man\\' OR n.text CONTAINS \\'beats his wife\\'\\nRETURN n"
   ]
  }
 ],
 "metadata": {
  "kernelspec": {
   "display_name": "Python 3",
   "language": "python",
   "name": "python3"
  },
  "language_info": {
   "codemirror_mode": {
    "name": "ipython",
    "version": 3
   },
   "file_extension": ".py",
   "mimetype": "text/x-python",
   "name": "python",
   "nbconvert_exporter": "python",
   "pygments_lexer": "ipython3",
   "version": "3.10.12"
  }
 },
 "nbformat": 4,
 "nbformat_minor": 5
}
