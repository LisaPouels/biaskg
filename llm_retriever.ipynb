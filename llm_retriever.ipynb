{
 "cells": [
  {
   "cell_type": "markdown",
   "id": "68550137",
   "metadata": {},
   "source": [
    "# Test to see if LLM retriever works"
   ]
  },
  {
   "cell_type": "code",
   "execution_count": 1,
   "id": "167fc5b4",
   "metadata": {},
   "outputs": [],
   "source": [
    "from neo4j import GraphDatabase\n",
    "import networkx as nx"
   ]
  },
  {
   "cell_type": "code",
   "execution_count": 2,
   "id": "6fdc2dbf",
   "metadata": {},
   "outputs": [
    {
     "name": "stderr",
     "output_type": "stream",
     "text": [
      "/tmp/ipykernel_3034287/1287854897.py:13: DeprecationWarning: `id` is deprecated, use `element_id` instead\n",
      "  G.add_node(node.id, labels=node._labels, properties=node._properties)\n",
      "/tmp/ipykernel_3034287/1287854897.py:17: DeprecationWarning: `id` is deprecated, use `element_id` instead\n",
      "  G.add_edge(rel.start_node.id, rel.end_node.id, key=rel.id, type=rel.type, properties=rel._properties)\n"
     ]
    }
   ],
   "source": [
    "driver = GraphDatabase.driver('bolt://localhost:7687', auth=(\"neo4j\", \"medicalgraphrag\"))\n",
    "\n",
    "query = \"\"\"\n",
    "MATCH (n)-[r]->(c) RETURN *\n",
    "\"\"\"\n",
    "\n",
    "results = driver.session().run(query)\n",
    "\n",
    "G = nx.MultiDiGraph()\n",
    "\n",
    "nodes = list(results.graph()._nodes.values())\n",
    "for node in nodes:\n",
    "    G.add_node(node.id, labels=node._labels, properties=node._properties)\n",
    "\n",
    "rels = list(results.graph()._relationships.values())\n",
    "for rel in rels:\n",
    "    G.add_edge(rel.start_node.id, rel.end_node.id, key=rel.id, type=rel.type, properties=rel._properties)"
   ]
  },
  {
   "cell_type": "code",
   "execution_count": null,
   "id": "d027a920",
   "metadata": {},
   "outputs": [
    {
     "ename": "ModuleNotFoundError",
     "evalue": "No module named 'mlflow'",
     "output_type": "error",
     "traceback": [
      "\u001b[0;31m---------------------------------------------------------------------------\u001b[0m",
      "\u001b[0;31mModuleNotFoundError\u001b[0m                       Traceback (most recent call last)",
      "Cell \u001b[0;32mIn[3], line 1\u001b[0m\n\u001b[0;32m----> 1\u001b[0m \u001b[38;5;28;01mfrom\u001b[39;00m \u001b[38;5;21;01mgraphrag\u001b[39;00m\u001b[38;5;21;01m.\u001b[39;00m\u001b[38;5;21;01mindex\u001b[39;00m\u001b[38;5;21;01m.\u001b[39;00m\u001b[38;5;21;01moperations\u001b[39;00m\u001b[38;5;21;01m.\u001b[39;00m\u001b[38;5;21;01mcluster_graph\u001b[39;00m \u001b[38;5;28;01mimport\u001b[39;00m cluster_graph\n",
      "File \u001b[0;32m~/biaskg/graphrag.py:14\u001b[0m\n\u001b[1;32m     12\u001b[0m \u001b[38;5;28;01mimport\u001b[39;00m \u001b[38;5;21;01mpandas\u001b[39;00m \u001b[38;5;28;01mas\u001b[39;00m \u001b[38;5;21;01mpd\u001b[39;00m\n\u001b[1;32m     13\u001b[0m \u001b[38;5;28;01mfrom\u001b[39;00m \u001b[38;5;21;01mdotenv\u001b[39;00m \u001b[38;5;28;01mimport\u001b[39;00m load_dotenv\n\u001b[0;32m---> 14\u001b[0m \u001b[38;5;28;01mimport\u001b[39;00m \u001b[38;5;21;01mmlflow\u001b[39;00m\n\u001b[1;32m     15\u001b[0m \u001b[38;5;28;01mfrom\u001b[39;00m \u001b[38;5;21;01mmlflow\u001b[39;00m\u001b[38;5;21;01m.\u001b[39;00m\u001b[38;5;21;01mdata\u001b[39;00m\u001b[38;5;21;01m.\u001b[39;00m\u001b[38;5;21;01mpandas_dataset\u001b[39;00m \u001b[38;5;28;01mimport\u001b[39;00m PandasDataset\n\u001b[1;32m     16\u001b[0m \u001b[38;5;28;01mfrom\u001b[39;00m \u001b[38;5;21;01mevaluate_results\u001b[39;00m \u001b[38;5;28;01mimport\u001b[39;00m evaluate_results\n",
      "\u001b[0;31mModuleNotFoundError\u001b[0m: No module named 'mlflow'"
     ]
    }
   ],
   "source": []
  },
  {
   "cell_type": "code",
   "execution_count": null,
   "id": "dca1f87f",
   "metadata": {},
   "outputs": [],
   "source": []
  }
 ],
 "metadata": {
  "kernelspec": {
   "display_name": "Python 3",
   "language": "python",
   "name": "python3"
  },
  "language_info": {
   "codemirror_mode": {
    "name": "ipython",
    "version": 3
   },
   "file_extension": ".py",
   "mimetype": "text/x-python",
   "name": "python",
   "nbconvert_exporter": "python",
   "pygments_lexer": "ipython3",
   "version": "3.10.12"
  }
 },
 "nbformat": 4,
 "nbformat_minor": 5
}
