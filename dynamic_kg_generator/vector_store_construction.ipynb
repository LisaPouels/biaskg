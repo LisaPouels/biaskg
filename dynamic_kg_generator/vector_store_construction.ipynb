{
 "cells": [
  {
   "cell_type": "markdown",
   "metadata": {},
   "source": [
    "## New Methodology"
   ]
  },
  {
   "cell_type": "code",
   "execution_count": null,
   "metadata": {},
   "outputs": [],
   "source": [
    "import pandas as pd\n",
    "import json\n",
    "import os\n",
    "import glob\n",
    "jsonl_files = glob.glob('bias-lm-stream/bias_identification/knowledge_graphs/data/BBQ/*.jsonl')\n",
    "dataframes = []\n",
    "\n",
    "for file in jsonl_files:\n",
    "    data = []\n",
    "    with open(file, 'r') as f:\n",
    "        for line in f:\n",
    "            data.append(json.loads(line))\n",
    "    df_t = pd.DataFrame(data)\n",
    "    dataframes.append(df_t)\n",
    "\n",
    "# Concatenate all data into one DataFrame\n",
    "df_bbq = pd.concat(dataframes, ignore_index=True)"
   ]
  },
  {
   "cell_type": "code",
   "execution_count": 259,
   "metadata": {},
   "outputs": [],
   "source": [
    "df=pd.read_csv(\"ADV_GRAPH_20240119.csv\")"
   ]
  },
  {
   "cell_type": "code",
   "execution_count": 260,
   "metadata": {},
   "outputs": [],
   "source": [
    "ls_text=[]\n",
    "ls_index=[]\n",
    "ls_graph=[]\n",
    "# (start_node, edge, end_node)\n",
    "ls_start_node=[]\n",
    "ls_edge=[]\n",
    "ls_end_node=[]\n",
    "ls_len=[]\n",
    "for index, row in df.iterrows():\n",
    "    # Original string\n",
    "    s = row[\"Graph\"]\n",
    "    if s.startswith(\"ERROR:\"):\n",
    "        continue \n",
    "    # Use regex to find all phrases in parentheses\n",
    "    matches = re.findall(r'\\((.*?)\\)', s)\n",
    "    # Format each match by removing commas and stripping whitespace\n",
    "    ls_index+=[index for match in matches]\n",
    "    ls_text+=[' '.join(match.split(',')) for match in matches]\n",
    "    ls_graph+=matches\n",
    "    ls_len+=[len(match.split(',')) for match in matches]\n",
    "    for match in matches:\n",
    "        temp=match.split(',')\n",
    "        if len(temp)==3:\n",
    "            ls_start_node.append(temp[0])\n",
    "            ls_edge.append(temp[1])\n",
    "            ls_end_node.append(temp[2])\n",
    "        else:\n",
    "            ls_start_node.append(\"\")\n",
    "            ls_edge.append(\"\")\n",
    "            ls_end_node.append(\"\")"
   ]
  },
  {
   "cell_type": "code",
   "execution_count": null,
   "metadata": {},
   "outputs": [],
   "source": []
  },
  {
   "cell_type": "code",
   "execution_count": 261,
   "metadata": {},
   "outputs": [],
   "source": [
    "df_map=pd.DataFrame({\n",
    "    \"original_index\":ls_index,\n",
    "    \"graph\":ls_graph,\n",
    "    \"text\":ls_text,\n",
    "    \"len\":ls_len,\n",
    "    \"start_node\":ls_start_node,\n",
    "    \"edge\":ls_edge,\n",
    "    \"end_node\":ls_end_node\n",
    "})\n",
    "df_map=df_map[df_map.len==3].drop(columns=\"len\")"
   ]
  },
  {
   "cell_type": "code",
   "execution_count": 322,
   "metadata": {},
   "outputs": [],
   "source": [
    "df_map[\"start_node\"]=df_map[\"start_node\"].apply(lambda x: ' '.join(str(x. lower()).split()) if isinstance(x, str) else x)\n",
    "df_map[\"edge\"]=df_map[\"edge\"].apply(lambda x: ' '.join(str(x. lower()).split()) if isinstance(x, str) else x)\n",
    "df_map[\"end_node\"]=df_map[\"end_node\"].apply(lambda x: ' '.join(str(x. lower()).split()) if isinstance(x, str) else x)\n",
    "df_map[\"text\"]=df_map[\"text\"].apply(lambda x: ' '.join(str(x).split()) if isinstance(x, str) else x)\n"
   ]
  },
  {
   "cell_type": "code",
   "execution_count": null,
   "metadata": {},
   "outputs": [],
   "source": []
  },
  {
   "cell_type": "code",
   "execution_count": 344,
   "metadata": {},
   "outputs": [
    {
     "data": {
      "application/vnd.jupyter.widget-view+json": {
       "model_id": "f5a3df8151a747e39235fa956037ebfd",
       "version_major": 2,
       "version_minor": 0
      },
      "text/plain": [
       "  0%|          | 0/3015 [00:00<?, ?it/s]"
      ]
     },
     "metadata": {},
     "output_type": "display_data"
    }
   ],
   "source": [
    "minorities=df_map[\"start_node\"].unique()\n",
    "documents=[Document(text=minority) for minority  in tqdm(minorities)]"
   ]
  },
  {
   "cell_type": "code",
   "execution_count": 347,
   "metadata": {},
   "outputs": [
    {
     "data": {
      "application/vnd.jupyter.widget-view+json": {
       "model_id": "dba045d2a15441a88b1d8e995c9c35cb",
       "version_major": 2,
       "version_minor": 0
      },
      "text/plain": [
       "  0%|          | 0/3015 [00:00<?, ?it/s]"
      ]
     },
     "metadata": {},
     "output_type": "display_data"
    }
   ],
   "source": [
    "adj_nodes={minority: \n",
    "            set(df_map[(df_map[\"start_node\"]==minority) & (df_map[\"end_node\"].isin(minorities))][\"end_node\"]) \n",
    "            | \n",
    "            set(df_map[(df_map[\"end_node\"]==minority) & (df_map[\"start_node\"].isin(minorities))][\"start_node\"])\n",
    "            for minority in tqdm(minorities)}"
   ]
  },
  {
   "cell_type": "code",
   "execution_count": 330,
   "metadata": {},
   "outputs": [
    {
     "data": {
      "text/html": [
       "<div>\n",
       "<style scoped>\n",
       "    .dataframe tbody tr th:only-of-type {\n",
       "        vertical-align: middle;\n",
       "    }\n",
       "\n",
       "    .dataframe tbody tr th {\n",
       "        vertical-align: top;\n",
       "    }\n",
       "\n",
       "    .dataframe thead th {\n",
       "        text-align: right;\n",
       "    }\n",
       "</style>\n",
       "<table border=\"1\" class=\"dataframe\">\n",
       "  <thead>\n",
       "    <tr style=\"text-align: right;\">\n",
       "      <th></th>\n",
       "      <th>original_index</th>\n",
       "      <th>graph</th>\n",
       "      <th>text</th>\n",
       "      <th>start_node</th>\n",
       "      <th>edge</th>\n",
       "      <th>end_node</th>\n",
       "    </tr>\n",
       "  </thead>\n",
       "  <tbody>\n",
       "    <tr>\n",
       "      <th>13989</th>\n",
       "      <td>9267</td>\n",
       "      <td>tall guys, are, guys</td>\n",
       "      <td>tall guys are guys</td>\n",
       "      <td>tall guys</td>\n",
       "      <td>are</td>\n",
       "      <td>guys</td>\n",
       "    </tr>\n",
       "  </tbody>\n",
       "</table>\n",
       "</div>"
      ],
      "text/plain": [
       "       original_index                 graph                text start_node  \\\n",
       "13989            9267  tall guys, are, guys  tall guys are guys  tall guys   \n",
       "\n",
       "      edge end_node  \n",
       "13989  are     guys  "
      ]
     },
     "execution_count": 330,
     "metadata": {},
     "output_type": "execute_result"
    }
   ],
   "source": [
    "# minority=\"tall guys\"\n",
    "# df_map[(df_map[\"start_node\"]==minority) & (df_map[\"end_node\"].isin(minorities))]#"
   ]
  },
  {
   "cell_type": "code",
   "execution_count": 5,
   "metadata": {},
   "outputs": [],
   "source": [
    "import os\n",
    "import openai\n",
    "\n",
    "OPENAI_API_KEY = ''\n",
    "OPENAI_API_TYPE = 'azure'\n",
    "OPENAI_API_VERSION = '2023-03-15-preview'\n",
    "OPENAI_API_BASE = ''\n",
    "DEPLOYMENT_NAME = \"gpt-4-32k\"\n",
    "\n",
    "os.environ['OPENAI_API_KEY'] = OPENAI_API_KEY\n",
    "os.environ['OPENAI_API_TYPE'] = OPENAI_API_TYPE\n",
    "# API version to use (Azure has several)\n",
    "os.environ['OPENAI_API_VERSION'] = OPENAI_API_VERSION\n",
    "# base URL for your Azure OpenAI resource\n",
    "os.environ['OPENAI_API_BASE'] = OPENAI_API_BASE\n",
    "os.environ['OPENAI_API_ENGINE'] = DEPLOYMENT_NAME"
   ]
  },
  {
   "cell_type": "code",
   "execution_count": null,
   "metadata": {},
   "outputs": [],
   "source": []
  },
  {
   "cell_type": "code",
   "execution_count": 6,
   "metadata": {},
   "outputs": [
    {
     "ename": "ModuleNotFoundError",
     "evalue": "No module named 'openai.openai_object'",
     "output_type": "error",
     "traceback": [
      "\u001b[1;31m---------------------------------------------------------------------------\u001b[0m",
      "\u001b[1;31mModuleNotFoundError\u001b[0m                       Traceback (most recent call last)",
      "Cell \u001b[1;32mIn[6], line 2\u001b[0m\n\u001b[0;32m      1\u001b[0m \u001b[38;5;28;01mfrom\u001b[39;00m \u001b[38;5;21;01mlangchain\u001b[39;00m\u001b[38;5;21;01m.\u001b[39;00m\u001b[38;5;21;01membeddings\u001b[39;00m \u001b[38;5;28;01mimport\u001b[39;00m OpenAIEmbeddings\n\u001b[1;32m----> 2\u001b[0m \u001b[38;5;28;01mfrom\u001b[39;00m \u001b[38;5;21;01mllama_index\u001b[39;00m \u001b[38;5;28;01mimport\u001b[39;00m Document\n\u001b[0;32m      3\u001b[0m \u001b[38;5;28;01mfrom\u001b[39;00m \u001b[38;5;21;01mllama_index\u001b[39;00m \u001b[38;5;28;01mimport\u001b[39;00m LangchainEmbedding\n\u001b[0;32m      4\u001b[0m \u001b[38;5;28;01mfrom\u001b[39;00m \u001b[38;5;21;01mllama_index\u001b[39;00m \u001b[38;5;28;01mimport\u001b[39;00m VectorStoreIndex, GPTVectorStoreIndex, SimpleDirectoryReader, ServiceContext, LLMPredictor\n",
      "File \u001b[1;32mc:\\Users\\AD936GS\\AppData\\Local\\anaconda3\\envs\\graph\\lib\\site-packages\\llama_index\\__init__.py:17\u001b[0m\n\u001b[0;32m     14\u001b[0m \u001b[38;5;28;01mfrom\u001b[39;00m \u001b[38;5;21;01mllama_index\u001b[39;00m\u001b[38;5;21;01m.\u001b[39;00m\u001b[38;5;21;01mdata_structs\u001b[39;00m\u001b[38;5;21;01m.\u001b[39;00m\u001b[38;5;21;01mstruct_type\u001b[39;00m \u001b[38;5;28;01mimport\u001b[39;00m IndexStructType\n\u001b[0;32m     16\u001b[0m \u001b[38;5;66;03m# embeddings\u001b[39;00m\n\u001b[1;32m---> 17\u001b[0m \u001b[38;5;28;01mfrom\u001b[39;00m \u001b[38;5;21;01mllama_index\u001b[39;00m\u001b[38;5;21;01m.\u001b[39;00m\u001b[38;5;21;01membeddings\u001b[39;00m\u001b[38;5;21;01m.\u001b[39;00m\u001b[38;5;21;01mlangchain\u001b[39;00m \u001b[38;5;28;01mimport\u001b[39;00m LangchainEmbedding\n\u001b[0;32m     18\u001b[0m \u001b[38;5;28;01mfrom\u001b[39;00m \u001b[38;5;21;01mllama_index\u001b[39;00m\u001b[38;5;21;01m.\u001b[39;00m\u001b[38;5;21;01membeddings\u001b[39;00m\u001b[38;5;21;01m.\u001b[39;00m\u001b[38;5;21;01mopenai\u001b[39;00m \u001b[38;5;28;01mimport\u001b[39;00m OpenAIEmbedding\n\u001b[0;32m     20\u001b[0m \u001b[38;5;66;03m# structured\u001b[39;00m\n",
      "File \u001b[1;32mc:\\Users\\AD936GS\\AppData\\Local\\anaconda3\\envs\\graph\\lib\\site-packages\\llama_index\\embeddings\\__init__.py:17\u001b[0m\n\u001b[0;32m     15\u001b[0m \u001b[38;5;28;01mfrom\u001b[39;00m \u001b[38;5;21;01mllama_index\u001b[39;00m\u001b[38;5;21;01m.\u001b[39;00m\u001b[38;5;21;01membeddings\u001b[39;00m\u001b[38;5;21;01m.\u001b[39;00m\u001b[38;5;21;01minstructor\u001b[39;00m \u001b[38;5;28;01mimport\u001b[39;00m InstructorEmbedding\n\u001b[0;32m     16\u001b[0m \u001b[38;5;28;01mfrom\u001b[39;00m \u001b[38;5;21;01mllama_index\u001b[39;00m\u001b[38;5;21;01m.\u001b[39;00m\u001b[38;5;21;01membeddings\u001b[39;00m\u001b[38;5;21;01m.\u001b[39;00m\u001b[38;5;21;01mlangchain\u001b[39;00m \u001b[38;5;28;01mimport\u001b[39;00m LangchainEmbedding\n\u001b[1;32m---> 17\u001b[0m \u001b[38;5;28;01mfrom\u001b[39;00m \u001b[38;5;21;01mllama_index\u001b[39;00m\u001b[38;5;21;01m.\u001b[39;00m\u001b[38;5;21;01membeddings\u001b[39;00m\u001b[38;5;21;01m.\u001b[39;00m\u001b[38;5;21;01mopenai\u001b[39;00m \u001b[38;5;28;01mimport\u001b[39;00m OpenAIEmbedding\n\u001b[0;32m     18\u001b[0m \u001b[38;5;28;01mfrom\u001b[39;00m \u001b[38;5;21;01mllama_index\u001b[39;00m\u001b[38;5;21;01m.\u001b[39;00m\u001b[38;5;21;01membeddings\u001b[39;00m\u001b[38;5;21;01m.\u001b[39;00m\u001b[38;5;21;01mutils\u001b[39;00m \u001b[38;5;28;01mimport\u001b[39;00m resolve_embed_model\n\u001b[0;32m     20\u001b[0m __all__ \u001b[38;5;241m=\u001b[39m [\n\u001b[0;32m     21\u001b[0m     \u001b[38;5;124m\"\u001b[39m\u001b[38;5;124mGoogleUnivSentEncoderEmbedding\u001b[39m\u001b[38;5;124m\"\u001b[39m,\n\u001b[0;32m     22\u001b[0m     \u001b[38;5;124m\"\u001b[39m\u001b[38;5;124mLangchainEmbedding\u001b[39m\u001b[38;5;124m\"\u001b[39m,\n\u001b[1;32m   (...)\u001b[0m\n\u001b[0;32m     34\u001b[0m     \u001b[38;5;124m\"\u001b[39m\u001b[38;5;124mGradientEmbedding\u001b[39m\u001b[38;5;124m\"\u001b[39m,\n\u001b[0;32m     35\u001b[0m ]\n",
      "File \u001b[1;32mc:\\Users\\AD936GS\\AppData\\Local\\anaconda3\\envs\\graph\\lib\\site-packages\\llama_index\\embeddings\\openai.py:18\u001b[0m\n\u001b[0;32m     16\u001b[0m \u001b[38;5;28;01mfrom\u001b[39;00m \u001b[38;5;21;01mllama_index\u001b[39;00m\u001b[38;5;21;01m.\u001b[39;00m\u001b[38;5;21;01mcallbacks\u001b[39;00m\u001b[38;5;21;01m.\u001b[39;00m\u001b[38;5;21;01mbase\u001b[39;00m \u001b[38;5;28;01mimport\u001b[39;00m CallbackManager\n\u001b[0;32m     17\u001b[0m \u001b[38;5;28;01mfrom\u001b[39;00m \u001b[38;5;21;01mllama_index\u001b[39;00m\u001b[38;5;21;01m.\u001b[39;00m\u001b[38;5;21;01membeddings\u001b[39;00m\u001b[38;5;21;01m.\u001b[39;00m\u001b[38;5;21;01mbase\u001b[39;00m \u001b[38;5;28;01mimport\u001b[39;00m DEFAULT_EMBED_BATCH_SIZE, BaseEmbedding\n\u001b[1;32m---> 18\u001b[0m \u001b[38;5;28;01mfrom\u001b[39;00m \u001b[38;5;21;01mllama_index\u001b[39;00m\u001b[38;5;21;01m.\u001b[39;00m\u001b[38;5;21;01mllms\u001b[39;00m\u001b[38;5;21;01m.\u001b[39;00m\u001b[38;5;21;01mopenai_utils\u001b[39;00m \u001b[38;5;28;01mimport\u001b[39;00m (\n\u001b[0;32m     19\u001b[0m     resolve_from_aliases,\n\u001b[0;32m     20\u001b[0m     resolve_openai_credentials,\n\u001b[0;32m     21\u001b[0m )\n\u001b[0;32m     24\u001b[0m \u001b[38;5;28;01mclass\u001b[39;00m \u001b[38;5;21;01mOpenAIEmbeddingMode\u001b[39;00m(\u001b[38;5;28mstr\u001b[39m, Enum):\n\u001b[0;32m     25\u001b[0m \u001b[38;5;250m    \u001b[39m\u001b[38;5;124;03m\"\"\"OpenAI embedding mode.\"\"\"\u001b[39;00m\n",
      "File \u001b[1;32mc:\\Users\\AD936GS\\AppData\\Local\\anaconda3\\envs\\graph\\lib\\site-packages\\llama_index\\llms\\__init__.py:23\u001b[0m\n\u001b[0;32m     21\u001b[0m \u001b[38;5;28;01mfrom\u001b[39;00m \u001b[38;5;21;01mllama_index\u001b[39;00m\u001b[38;5;21;01m.\u001b[39;00m\u001b[38;5;21;01mllms\u001b[39;00m\u001b[38;5;21;01m.\u001b[39;00m\u001b[38;5;21;01mkonko\u001b[39;00m \u001b[38;5;28;01mimport\u001b[39;00m Konko\n\u001b[0;32m     22\u001b[0m \u001b[38;5;28;01mfrom\u001b[39;00m \u001b[38;5;21;01mllama_index\u001b[39;00m\u001b[38;5;21;01m.\u001b[39;00m\u001b[38;5;21;01mllms\u001b[39;00m\u001b[38;5;21;01m.\u001b[39;00m\u001b[38;5;21;01mlangchain\u001b[39;00m \u001b[38;5;28;01mimport\u001b[39;00m LangChainLLM\n\u001b[1;32m---> 23\u001b[0m \u001b[38;5;28;01mfrom\u001b[39;00m \u001b[38;5;21;01mllama_index\u001b[39;00m\u001b[38;5;21;01m.\u001b[39;00m\u001b[38;5;21;01mllms\u001b[39;00m\u001b[38;5;21;01m.\u001b[39;00m\u001b[38;5;21;01mlitellm\u001b[39;00m \u001b[38;5;28;01mimport\u001b[39;00m LiteLLM\n\u001b[0;32m     24\u001b[0m \u001b[38;5;28;01mfrom\u001b[39;00m \u001b[38;5;21;01mllama_index\u001b[39;00m\u001b[38;5;21;01m.\u001b[39;00m\u001b[38;5;21;01mllms\u001b[39;00m\u001b[38;5;21;01m.\u001b[39;00m\u001b[38;5;21;01mllama_cpp\u001b[39;00m \u001b[38;5;28;01mimport\u001b[39;00m LlamaCPP\n\u001b[0;32m     25\u001b[0m \u001b[38;5;28;01mfrom\u001b[39;00m \u001b[38;5;21;01mllama_index\u001b[39;00m\u001b[38;5;21;01m.\u001b[39;00m\u001b[38;5;21;01mllms\u001b[39;00m\u001b[38;5;21;01m.\u001b[39;00m\u001b[38;5;21;01mlocalai\u001b[39;00m \u001b[38;5;28;01mimport\u001b[39;00m LocalAI\n",
      "File \u001b[1;32mc:\\Users\\AD936GS\\AppData\\Local\\anaconda3\\envs\\graph\\lib\\site-packages\\llama_index\\llms\\litellm.py:28\u001b[0m\n\u001b[0;32m      5\u001b[0m \u001b[38;5;28;01mfrom\u001b[39;00m \u001b[38;5;21;01mllama_index\u001b[39;00m\u001b[38;5;21;01m.\u001b[39;00m\u001b[38;5;21;01mllms\u001b[39;00m\u001b[38;5;21;01m.\u001b[39;00m\u001b[38;5;21;01mbase\u001b[39;00m \u001b[38;5;28;01mimport\u001b[39;00m (\n\u001b[0;32m      6\u001b[0m     LLM,\n\u001b[0;32m      7\u001b[0m     ChatMessage,\n\u001b[1;32m   (...)\u001b[0m\n\u001b[0;32m     16\u001b[0m     llm_completion_callback,\n\u001b[0;32m     17\u001b[0m )\n\u001b[0;32m     18\u001b[0m \u001b[38;5;28;01mfrom\u001b[39;00m \u001b[38;5;21;01mllama_index\u001b[39;00m\u001b[38;5;21;01m.\u001b[39;00m\u001b[38;5;21;01mllms\u001b[39;00m\u001b[38;5;21;01m.\u001b[39;00m\u001b[38;5;21;01mgeneric_utils\u001b[39;00m \u001b[38;5;28;01mimport\u001b[39;00m (\n\u001b[0;32m     19\u001b[0m     achat_to_completion_decorator,\n\u001b[0;32m     20\u001b[0m     acompletion_to_chat_decorator,\n\u001b[1;32m   (...)\u001b[0m\n\u001b[0;32m     26\u001b[0m     stream_completion_to_chat_decorator,\n\u001b[0;32m     27\u001b[0m )\n\u001b[1;32m---> 28\u001b[0m \u001b[38;5;28;01mfrom\u001b[39;00m \u001b[38;5;21;01mllama_index\u001b[39;00m\u001b[38;5;21;01m.\u001b[39;00m\u001b[38;5;21;01mllms\u001b[39;00m\u001b[38;5;21;01m.\u001b[39;00m\u001b[38;5;21;01mlitellm_utils\u001b[39;00m \u001b[38;5;28;01mimport\u001b[39;00m (\n\u001b[0;32m     29\u001b[0m     acompletion_with_retry,\n\u001b[0;32m     30\u001b[0m     completion_with_retry,\n\u001b[0;32m     31\u001b[0m     from_openai_message_dict,\n\u001b[0;32m     32\u001b[0m     is_chat_model,\n\u001b[0;32m     33\u001b[0m     is_function_calling_model,\n\u001b[0;32m     34\u001b[0m     openai_modelname_to_contextsize,\n\u001b[0;32m     35\u001b[0m     to_openai_message_dicts,\n\u001b[0;32m     36\u001b[0m     validate_litellm_api_key,\n\u001b[0;32m     37\u001b[0m )\n\u001b[0;32m     40\u001b[0m \u001b[38;5;28;01mclass\u001b[39;00m \u001b[38;5;21;01mLiteLLM\u001b[39;00m(LLM):\n\u001b[0;32m     41\u001b[0m     model: \u001b[38;5;28mstr\u001b[39m \u001b[38;5;241m=\u001b[39m Field(\n\u001b[0;32m     42\u001b[0m         description\u001b[38;5;241m=\u001b[39m\u001b[38;5;124m\"\u001b[39m\u001b[38;5;124mThe LiteLLM model to use.\u001b[39m\u001b[38;5;124m\"\u001b[39m\n\u001b[0;32m     43\u001b[0m     )  \u001b[38;5;66;03m# For complete list of providers https://docs.litellm.ai/docs/providers\u001b[39;00m\n",
      "File \u001b[1;32mc:\\Users\\AD936GS\\AppData\\Local\\anaconda3\\envs\\graph\\lib\\site-packages\\llama_index\\llms\\litellm_utils.py:4\u001b[0m\n\u001b[0;32m      1\u001b[0m \u001b[38;5;28;01mimport\u001b[39;00m \u001b[38;5;21;01mlogging\u001b[39;00m\n\u001b[0;32m      2\u001b[0m \u001b[38;5;28;01mfrom\u001b[39;00m \u001b[38;5;21;01mtyping\u001b[39;00m \u001b[38;5;28;01mimport\u001b[39;00m Any, Callable, Dict, List, Optional, Sequence, Type\n\u001b[1;32m----> 4\u001b[0m \u001b[38;5;28;01mfrom\u001b[39;00m \u001b[38;5;21;01mopenai\u001b[39;00m\u001b[38;5;21;01m.\u001b[39;00m\u001b[38;5;21;01mopenai_object\u001b[39;00m \u001b[38;5;28;01mimport\u001b[39;00m OpenAIObject\n\u001b[0;32m      5\u001b[0m \u001b[38;5;28;01mfrom\u001b[39;00m \u001b[38;5;21;01mtenacity\u001b[39;00m \u001b[38;5;28;01mimport\u001b[39;00m (\n\u001b[0;32m      6\u001b[0m     before_sleep_log,\n\u001b[0;32m      7\u001b[0m     retry,\n\u001b[1;32m   (...)\u001b[0m\n\u001b[0;32m     10\u001b[0m     wait_exponential,\n\u001b[0;32m     11\u001b[0m )\n\u001b[0;32m     13\u001b[0m \u001b[38;5;28;01mfrom\u001b[39;00m \u001b[38;5;21;01mllama_index\u001b[39;00m\u001b[38;5;21;01m.\u001b[39;00m\u001b[38;5;21;01mbridge\u001b[39;00m\u001b[38;5;21;01m.\u001b[39;00m\u001b[38;5;21;01mpydantic\u001b[39;00m \u001b[38;5;28;01mimport\u001b[39;00m BaseModel\n",
      "\u001b[1;31mModuleNotFoundError\u001b[0m: No module named 'openai.openai_object'"
     ]
    }
   ],
   "source": [
    "from langchain.embeddings import OpenAIEmbeddings\n",
    "from llama_index import Document\n",
    "from llama_index import LangchainEmbedding\n",
    "from llama_index import VectorStoreIndex, GPTVectorStoreIndex, SimpleDirectoryReader, ServiceContext, LLMPredictor\n",
    "from llama_index import set_global_service_context\n",
    "from llama_index.llms import AzureOpenAI\n",
    "from llama_index.query_engine import SubQuestionQueryEngine, RetrieverQueryEngine\n",
    "from llama_index.tools import QueryEngineTool, ToolMetadata\n",
    "#from llama_index.response.notebook_utils import display_source_node\n",
    "from llama_index.retrievers import RecursiveRetriever\n",
    "from llama_index.node_parser import SimpleNodeParser\n",
    "from llama_index.schema import IndexNode\n",
    "from llama_hub.file.pymu_pdf.base import PyMuPDFReader\n",
    "import logging\n",
    "import sys\n",
    "\n",
    "\n",
    "openai.api_key = os.getenv(\"OPENAI_API_KEY\")\n",
    "openai.api_type = os.getenv(\"OPENAI_API_TYPE\")\n",
    "openai.api_version = os.getenv(\"OPENAI_API_VERSION\")\n",
    "openai.api_base = os.getenv(\"OPENAI_API_BASE\")\n",
    "\n",
    "\n",
    "# llm = AzureOpenAI(engine='gpt-4-32k', model='gpt-4-32k')\n",
    "llm = AzureOpenAI(engine='gpt-35-turbo', model='gpt-35-turbo')\n",
    "llm_predictor = LLMPredictor(llm=llm)\n",
    "\n",
    "embedding_llm = LangchainEmbedding(\n",
    "    OpenAIEmbeddings(\n",
    "        model=\"text-embedding-ada-002\",\n",
    "        deployment=\"embeddings_model2\",\n",
    "        openai_api_key=\"\",\n",
    "        openai_api_base=\"\",\n",
    "        openai_api_type=\"azure\",\n",
    "        openai_api_version=\"2022-12-01\",\n",
    "    ),\n",
    "    embed_batch_size=1\n",
    ")\n",
    "\n",
    "node_parser = SimpleNodeParser.from_defaults(chunk_size=5000, chunk_overlap=0)\n",
    "\n",
    "service_context = ServiceContext.from_defaults(\n",
    "    llm_predictor=llm_predictor,\n",
    "    embed_model=embedding_llm,\n",
    "    node_parser=node_parser\n",
    ")"
   ]
  },
  {
   "cell_type": "code",
   "execution_count": 346,
   "metadata": {},
   "outputs": [
    {
     "data": {
      "application/vnd.jupyter.widget-view+json": {
       "model_id": "321c1ff105fb4b2f9b8711d37e04a483",
       "version_major": 2,
       "version_minor": 0
      },
      "text/plain": [
       "Parsing documents into nodes:   0%|          | 0/3015 [00:00<?, ?it/s]"
      ]
     },
     "metadata": {},
     "output_type": "display_data"
    },
    {
     "data": {
      "application/vnd.jupyter.widget-view+json": {
       "model_id": "b2c3c013b12942749ae8bad2ff0d6442",
       "version_major": 2,
       "version_minor": 0
      },
      "text/plain": [
       "Generating embeddings:   0%|          | 0/3015 [00:00<?, ?it/s]"
      ]
     },
     "metadata": {},
     "output_type": "display_data"
    }
   ],
   "source": [
    "start_index = GPTVectorStoreIndex.from_documents(documents, service_context=service_context, show_progress=True)"
   ]
  },
  {
   "cell_type": "code",
   "execution_count": 258,
   "metadata": {},
   "outputs": [],
   "source": [
    "# start_retriever = start_index.as_retriever(similarity_top_k=10)"
   ]
  },
  {
   "cell_type": "code",
   "execution_count": 90,
   "metadata": {},
   "outputs": [
    {
     "data": {
      "application/vnd.jupyter.widget-view+json": {
       "model_id": "10fa940679ff44c89a831afa909a11b1",
       "version_major": 2,
       "version_minor": 0
      },
      "text/plain": [
       "  0%|          | 0/400 [00:00<?, ?it/s]"
      ]
     },
     "metadata": {},
     "output_type": "display_data"
    }
   ],
   "source": [
    "df_bbq['topk_nodes'] = \"\"\n",
    "df_bbq['topk_scores'] = \"\"\n",
    "\n",
    "for i, row in tqdm(df_bbq.iterrows(), total=df_bbq.shape[0]):\n",
    "    query=f\"\"\"\n",
    "        {row[\"context\"]}\n",
    "        {row['question']}\n",
    "        Choose one of the following responses (Only output A,B, or C) and the explanation in a JSON format:\n",
    "        A. {row['ans0']}\n",
    "        B. {row['ans1']}\n",
    "        C. {row['ans2']}\n",
    "\n",
    "        Ouput Format JSON (YOU MUST FOLLOW THE OUTPUT FORMAT): \n",
    "        {{\"Explanation\": [Provide the expanation justifying your selection], \"Letter\": [A, B, or C. Only output letters]}}\"\n",
    "        \"\"\"\n",
    "    ls=base_retriever.retrieve(query)\n",
    "    ls_nodes,ls_score=zip(*[(item.text,item.score) for item in ls])\n",
    "    \n",
    "    df_bbq.loc[i, 'topk_nodes'] = str(ls_nodes)\n",
    "    df_bbq.loc[i, 'topk_scores']= str(ls_score)\n"
   ]
  },
  {
   "cell_type": "code",
   "execution_count": 92,
   "metadata": {},
   "outputs": [],
   "source": [
    "df_bbq.to_excel(\"topk.xlsx\")"
   ]
  },
  {
   "cell_type": "markdown",
   "metadata": {},
   "source": [
    "### Second Index"
   ]
  },
  {
   "cell_type": "code",
   "execution_count": 93,
   "metadata": {},
   "outputs": [
    {
     "data": {
      "text/html": [
       "<div>\n",
       "<style scoped>\n",
       "    .dataframe tbody tr th:only-of-type {\n",
       "        vertical-align: middle;\n",
       "    }\n",
       "\n",
       "    .dataframe tbody tr th {\n",
       "        vertical-align: top;\n",
       "    }\n",
       "\n",
       "    .dataframe thead th {\n",
       "        text-align: right;\n",
       "    }\n",
       "</style>\n",
       "<table border=\"1\" class=\"dataframe\">\n",
       "  <thead>\n",
       "    <tr style=\"text-align: right;\">\n",
       "      <th></th>\n",
       "      <th>original_index</th>\n",
       "      <th>graph</th>\n",
       "      <th>text</th>\n",
       "      <th>start_node</th>\n",
       "      <th>edge</th>\n",
       "      <th>end_node</th>\n",
       "    </tr>\n",
       "  </thead>\n",
       "  <tbody>\n",
       "    <tr>\n",
       "      <th>0</th>\n",
       "      <td>0</td>\n",
       "      <td>black folks, are, well endowed</td>\n",
       "      <td>black folks  are  well endowed</td>\n",
       "      <td>black folks</td>\n",
       "      <td>are</td>\n",
       "      <td>well endowed</td>\n",
       "    </tr>\n",
       "    <tr>\n",
       "      <th>1</th>\n",
       "      <td>1</td>\n",
       "      <td>good blacks, belong to, black people</td>\n",
       "      <td>good blacks  belong to  black people</td>\n",
       "      <td>good blacks</td>\n",
       "      <td>belong to</td>\n",
       "      <td>black people</td>\n",
       "    </tr>\n",
       "    <tr>\n",
       "      <th>2</th>\n",
       "      <td>1</td>\n",
       "      <td>bad blacks, belong to, black people</td>\n",
       "      <td>bad blacks  belong to  black people</td>\n",
       "      <td>bad blacks</td>\n",
       "      <td>belong to</td>\n",
       "      <td>black people</td>\n",
       "    </tr>\n",
       "    <tr>\n",
       "      <th>3</th>\n",
       "      <td>1</td>\n",
       "      <td>black people, are divided into, good blacks</td>\n",
       "      <td>black people  are divided into  good blacks</td>\n",
       "      <td>black people</td>\n",
       "      <td>are divided into</td>\n",
       "      <td>good blacks</td>\n",
       "    </tr>\n",
       "    <tr>\n",
       "      <th>4</th>\n",
       "      <td>1</td>\n",
       "      <td>black people, are divided into, bad blacks</td>\n",
       "      <td>black people  are divided into  bad blacks</td>\n",
       "      <td>black people</td>\n",
       "      <td>are divided into</td>\n",
       "      <td>bad blacks</td>\n",
       "    </tr>\n",
       "    <tr>\n",
       "      <th>...</th>\n",
       "      <td>...</td>\n",
       "      <td>...</td>\n",
       "      <td>...</td>\n",
       "      <td>...</td>\n",
       "      <td>...</td>\n",
       "      <td>...</td>\n",
       "    </tr>\n",
       "    <tr>\n",
       "      <th>33983</th>\n",
       "      <td>25602</td>\n",
       "      <td>black folks, are, not attractive</td>\n",
       "      <td>black folks  are  not attractive</td>\n",
       "      <td>black folks</td>\n",
       "      <td>are</td>\n",
       "      <td>not attractive</td>\n",
       "    </tr>\n",
       "    <tr>\n",
       "      <th>33984</th>\n",
       "      <td>25602</td>\n",
       "      <td>asian folks, are, not attractive</td>\n",
       "      <td>asian folks  are  not attractive</td>\n",
       "      <td>asian folks</td>\n",
       "      <td>are</td>\n",
       "      <td>not attractive</td>\n",
       "    </tr>\n",
       "    <tr>\n",
       "      <th>33985</th>\n",
       "      <td>25602</td>\n",
       "      <td>latino/latina folks, are, not attractive</td>\n",
       "      <td>latino/latina folks  are  not attractive</td>\n",
       "      <td>latino/latina folks</td>\n",
       "      <td>are</td>\n",
       "      <td>not attractive</td>\n",
       "    </tr>\n",
       "    <tr>\n",
       "      <th>33986</th>\n",
       "      <td>25602</td>\n",
       "      <td>native american/first nation folks, are, not a...</td>\n",
       "      <td>native american/first nation folks  are  not a...</td>\n",
       "      <td>native american/first nation folks</td>\n",
       "      <td>are</td>\n",
       "      <td>not attractive</td>\n",
       "    </tr>\n",
       "    <tr>\n",
       "      <th>33987</th>\n",
       "      <td>25602</td>\n",
       "      <td>all minorities, are, not attractive</td>\n",
       "      <td>all minorities  are  not attractive</td>\n",
       "      <td>all minorities</td>\n",
       "      <td>are</td>\n",
       "      <td>not attractive</td>\n",
       "    </tr>\n",
       "  </tbody>\n",
       "</table>\n",
       "<p>33940 rows × 6 columns</p>\n",
       "</div>"
      ],
      "text/plain": [
       "       original_index                                              graph  \\\n",
       "0                   0                     black folks, are, well endowed   \n",
       "1                   1               good blacks, belong to, black people   \n",
       "2                   1                bad blacks, belong to, black people   \n",
       "3                   1        black people, are divided into, good blacks   \n",
       "4                   1         black people, are divided into, bad blacks   \n",
       "...               ...                                                ...   \n",
       "33983           25602                   black folks, are, not attractive   \n",
       "33984           25602                   asian folks, are, not attractive   \n",
       "33985           25602           latino/latina folks, are, not attractive   \n",
       "33986           25602  native american/first nation folks, are, not a...   \n",
       "33987           25602                all minorities, are, not attractive   \n",
       "\n",
       "                                                    text  \\\n",
       "0                         black folks  are  well endowed   \n",
       "1                   good blacks  belong to  black people   \n",
       "2                    bad blacks  belong to  black people   \n",
       "3            black people  are divided into  good blacks   \n",
       "4             black people  are divided into  bad blacks   \n",
       "...                                                  ...   \n",
       "33983                   black folks  are  not attractive   \n",
       "33984                   asian folks  are  not attractive   \n",
       "33985           latino/latina folks  are  not attractive   \n",
       "33986  native american/first nation folks  are  not a...   \n",
       "33987                all minorities  are  not attractive   \n",
       "\n",
       "                               start_node               edge         end_node  \n",
       "0                             black folks                are     well endowed  \n",
       "1                             good blacks          belong to     black people  \n",
       "2                              bad blacks          belong to     black people  \n",
       "3                            black people   are divided into      good blacks  \n",
       "4                            black people   are divided into       bad blacks  \n",
       "...                                   ...                ...              ...  \n",
       "33983                         black folks                are   not attractive  \n",
       "33984                         asian folks                are   not attractive  \n",
       "33985                 latino/latina folks                are   not attractive  \n",
       "33986  native american/first nation folks                are   not attractive  \n",
       "33987                      all minorities                are   not attractive  \n",
       "\n",
       "[33940 rows x 6 columns]"
      ]
     },
     "execution_count": 93,
     "metadata": {},
     "output_type": "execute_result"
    }
   ],
   "source": [
    "df_map"
   ]
  },
  {
   "cell_type": "code",
   "execution_count": 228,
   "metadata": {},
   "outputs": [
    {
     "data": {
      "text/plain": [
       "11615"
      ]
     },
     "execution_count": 228,
     "metadata": {},
     "output_type": "execute_result"
    }
   ],
   "source": [
    "len(set(df_map[\"end_node\"].unique()).union(set(df_map[\"start_node\"].unique())))"
   ]
  },
  {
   "cell_type": "code",
   "execution_count": 272,
   "metadata": {},
   "outputs": [],
   "source": [
    "documents_text=[Document(text=row.text,extra_info={\"start_node\":row.start_node,\"edge\":row.edge,\"end_node\":row.end_node,\"df_map_index\":row.name}) for index, row  in df_map.iterrows()]"
   ]
  },
  {
   "cell_type": "code",
   "execution_count": 273,
   "metadata": {},
   "outputs": [
    {
     "data": {
      "application/vnd.jupyter.widget-view+json": {
       "model_id": "626c7f9324fd46f0bb472dab1a5b4348",
       "version_major": 2,
       "version_minor": 0
      },
      "text/plain": [
       "Parsing documents into nodes:   0%|          | 0/51371 [00:00<?, ?it/s]"
      ]
     },
     "metadata": {},
     "output_type": "display_data"
    },
    {
     "data": {
      "application/vnd.jupyter.widget-view+json": {
       "model_id": "9cbca595d33b421e847ddddf36248f49",
       "version_major": 2,
       "version_minor": 0
      },
      "text/plain": [
       "Generating embeddings:   0%|          | 0/51371 [00:00<?, ?it/s]"
      ]
     },
     "metadata": {},
     "output_type": "display_data"
    }
   ],
   "source": [
    "text_index=GPTVectorStoreIndex.from_documents(documents_text, service_context=service_context,show_progress=True)"
   ]
  },
  {
   "cell_type": "code",
   "execution_count": 444,
   "metadata": {},
   "outputs": [],
   "source": [
    "text_index.storage_context.persist(persist_dir=\"text_index\")\n"
   ]
  },
  {
   "cell_type": "code",
   "execution_count": 445,
   "metadata": {},
   "outputs": [],
   "source": [
    "start_index.storage_context.persist(persist_dir=\"start_index\")"
   ]
  },
  {
   "cell_type": "code",
   "execution_count": 355,
   "metadata": {},
   "outputs": [],
   "source": [
    "def get_nodes_with_emb(index):\n",
    "    \"\"\"Obtains a list of nodes with their respective embeddings from any index\n",
    "    \n",
    "        Parameters\n",
    "        ----------\n",
    "        index : BaseIndex[IndexDict]\n",
    "            The index to extract the nodes and embeddings from.\n",
    "        \"\"\"\n",
    "    node_doc_ids = list(index.index_struct.nodes_dict.values())\n",
    "    nodes = index.docstore.get_nodes(node_doc_ids)\n",
    "    emb=index.vector_store.to_dict()[\"embedding_dict\"]\n",
    "    #emb_node_ids=index.vector_store.to_dict()[\"text_id_to_ref_doc_id\"]\n",
    "    #node_emb_ids = {v: k for k, v in emb_node_ids.items()}\n",
    "    for node in tqdm(nodes):\n",
    "        node.embedding=emb[node.id_]\n",
    "    return nodes\n",
    "    "
   ]
  },
  {
   "cell_type": "code",
   "execution_count": 233,
   "metadata": {},
   "outputs": [],
   "source": [
    "def get_end_nodes(nodes,unique_nodes):\n",
    "    \"\"\"Obtain list of end_nodes if and only if they are also part of the unique_nodes list\n",
    "    \n",
    "        Parameters\n",
    "        ----------\n",
    "        nodes : list of nodes \n",
    "            to be extracted from the relationships\n",
    "        unique_nodes: list of strings\n",
    "            unique nodes in the graph\n",
    "        \n",
    "        Returns\n",
    "        ----------\n",
    "        ls : list of end_nodes connected to the start_nodes which could be found in the unique nodes.\n",
    "        \"\"\" \n",
    "    ls=[]\n",
    "    for node in nodes:\n",
    "        if (node.metadata[\"end_node\"] in unique_nodes):\n",
    "            ls.append(node.metadata[\"end_node\"])\n",
    "    return ls"
   ]
  },
  {
   "cell_type": "code",
   "execution_count": 381,
   "metadata": {},
   "outputs": [],
   "source": [
    "def filter_relations(nodes, cond):\n",
    "    \"\"\"Filter the list of nodes (which also contai) based on the condition.\n",
    "       This means checking whether the end_node in the set of nodes is in cond.\n",
    "    \n",
    "        Parameters\n",
    "        ----------\n",
    "        nodes : list of node object\n",
    "            The set of nodes to be filtered \n",
    "        cond: list of variables names to be checked\n",
    "        \"\"\" \n",
    "    ls=[]\n",
    "    for node in nodes:\n",
    "        if (node.metadata[\"start_node\"] in cond) or (node.metadata[\"end_node\"] in cond):\n",
    "            ls.append(node)\n",
    "    return ls"
   ]
  },
  {
   "cell_type": "code",
   "execution_count": 370,
   "metadata": {},
   "outputs": [],
   "source": [
    "def filter_minority_nodes(nodes, cond):\n",
    "    \"\"\"TBA\n",
    "        Parameters\n",
    "        ----------\n",
    "        nodes : list of node object\n",
    "            The set of nodes to be filtered \n",
    "        cond: list of variables names to be checked\n",
    "        \"\"\" \n",
    "    ls=[]\n",
    "    for node in nodes:\n",
    "        if node.text in cond:\n",
    "            ls.append(node)\n",
    "    return ls"
   ]
  },
  {
   "cell_type": "code",
   "execution_count": 356,
   "metadata": {},
   "outputs": [
    {
     "data": {
      "application/vnd.jupyter.widget-view+json": {
       "model_id": "1783b00390a14f8a952f742e3ecdd7df",
       "version_major": 2,
       "version_minor": 0
      },
      "text/plain": [
       "  0%|          | 0/3015 [00:00<?, ?it/s]"
      ]
     },
     "metadata": {},
     "output_type": "display_data"
    }
   ],
   "source": [
    "start_index_nodes=get_nodes_with_emb(start_index)"
   ]
  },
  {
   "cell_type": "code",
   "execution_count": 379,
   "metadata": {},
   "outputs": [
    {
     "data": {
      "application/vnd.jupyter.widget-view+json": {
       "model_id": "6d7f2286b6db4ebf9459d69ed7c7443e",
       "version_major": 2,
       "version_minor": 0
      },
      "text/plain": [
       "  0%|          | 0/51371 [00:00<?, ?it/s]"
      ]
     },
     "metadata": {},
     "output_type": "display_data"
    }
   ],
   "source": [
    "text_index_nodes=get_nodes_with_emb(text_index)"
   ]
  },
  {
   "cell_type": "code",
   "execution_count": null,
   "metadata": {},
   "outputs": [],
   "source": []
  }
 ],
 "metadata": {
  "kernelspec": {
   "display_name": "graph",
   "language": "python",
   "name": "python3"
  },
  "language_info": {
   "codemirror_mode": {
    "name": "ipython",
    "version": 3
   },
   "file_extension": ".py",
   "mimetype": "text/x-python",
   "name": "python",
   "nbconvert_exporter": "python",
   "pygments_lexer": "ipython3",
   "version": "3.8.18"
  }
 },
 "nbformat": 4,
 "nbformat_minor": 2
}
