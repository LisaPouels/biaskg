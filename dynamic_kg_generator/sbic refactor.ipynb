{
 "cells": [
  {
   "cell_type": "code",
   "execution_count": null,
   "id": "cef1dfc4",
   "metadata": {},
   "outputs": [],
   "source": [
    "import datasets\n",
    "from openai import OpenAI\n",
    "from tqdm.notebook import tqdm"
   ]
  },
  {
   "cell_type": "code",
   "execution_count": null,
   "id": "4c15aa7d",
   "metadata": {},
   "outputs": [],
   "source": [
    "data = datasets.load_dataset('social_bias_frames')"
   ]
  },
  {
   "cell_type": "code",
   "execution_count": null,
   "id": "b303f0bd",
   "metadata": {},
   "outputs": [],
   "source": [
    "import os\n",
    "\n",
    "os.environ['OPENAI_API_KEY'] = 'sk-xxx'\n",
    "\n",
    "client = OpenAI()"
   ]
  },
  {
   "cell_type": "code",
   "execution_count": null,
   "id": "2b9b3d33",
   "metadata": {},
   "outputs": [],
   "source": [
    "to_convert = {}\n",
    "\n",
    "for x in data['train']:\n",
    "    \n",
    "    if x['targetMinority'] in to_convert:\n",
    "        to_convert[x['targetMinority']].add(x['targetStereotype'])\n",
    "    else:\n",
    "        to_convert[x['targetMinority']] = set([x['targetStereotype']])"
   ]
  },
  {
   "cell_type": "code",
   "execution_count": null,
   "id": "698fbc11",
   "metadata": {},
   "outputs": [],
   "source": [
    "\n",
    "i = 0\n",
    "for k, v in tqdm(to_convert.items()):\n",
    "\n",
    "    for s in tqdm(list(v)[:50]):\n",
    "        print('Target minority: {0}\\nStereotype: {1}\\n\\n'.format(k, s))\n",
    "        i +=1 \n",
    "        if i > 500:\n",
    "            break\n",
    "    if i > 500:\n",
    "        break"
   ]
  },
  {
   "cell_type": "code",
   "execution_count": null,
   "id": "f47b0f22",
   "metadata": {},
   "outputs": [],
   "source": [
    "system_prompt = \"You are a helpful assistant tasked with converting social stereotypes into a dynamic knowledge graph.\" + \\\n",
    "    \"This is for a research project analyzing common social biases.\\n\\n\" + \\\n",
    "    \"Please present the graph in triplets in the format `(start_node, edge, end_node)` where nodes are subjects and an edge is the relationship between them.\" + \\\n",
    "    \"Please have the start_node be a target group where possible. Also, please decompose compound target groups.\\n\\n\" + \\\n",
    "    \"The input will be in the format\\n\" + \\\n",
    "    \"Target minority: <the target group>\\n\" + \\\n",
    "    \"Stereotype: <the social stereotype, that may or may not also contain target groups>\\n\" + \\\n",
    "    \"----------\\n\" + \\\n",
    "    \"Examples:\\n\" + \\\n",
    "    \"Target minority: black folks\\n\" + \\\n",
    "    \"Stereotype: black women are basic\\n\\n\" + \\\n",
    "    \"Graph:\\n\" + \\\n",
    "    \"`(black women, are, basic)`\\n\" + \\\n",
    "    \"`(black women, belong to, black people)`\\n\" + \\\n",
    "    \"`(black women, belong to, women)`\""
   ]
  },
  {
   "cell_type": "code",
   "execution_count": null,
   "id": "29d9c178",
   "metadata": {},
   "outputs": [],
   "source": [
    "\n",
    "# This code is for v1 of the openai package: pypi.org/project/openai\n",
    "\n",
    "stereotypes = []\n",
    "for k, v in tqdm(to_convert.items()):\n",
    "\n",
    "    for s in tqdm(list(v)[:50]):\n",
    "        if len(s) > 0:\n",
    "            response = client.chat.completions.create(\n",
    "                  model=\"gpt-4\",\n",
    "                  messages=[\n",
    "                    {\n",
    "                      \"role\": \"system\",\n",
    "                      \"content\": system_prompt\n",
    "                    },\n",
    "                    {\n",
    "                      \"role\": \"user\",\n",
    "                      \"content\": 'Target minority: {0}\\nStereotype: {1}'.format(k, s)\n",
    "                    }\n",
    "                  ],\n",
    "                  temperature=1,\n",
    "                  max_tokens=256,\n",
    "                  top_p=1,\n",
    "                  frequency_penalty=0,\n",
    "                  presence_penalty=0\n",
    "                )\n",
    "#             if \n",
    "            stereotypes.append(response)"
   ]
  },
  {
   "cell_type": "code",
   "execution_count": null,
   "id": "ee155ed1",
   "metadata": {},
   "outputs": [],
   "source": [
    "import re\n",
    "\n",
    "st_cleaned = []\n",
    "\n",
    "for s in stereotypes:\n",
    "    if type(s) is tuple:\n",
    "        temp = s[0].choices[0].message.content\n",
    "    else:\n",
    "        temp = s.choices[0].message.content\n",
    "#     print(temp)\n",
    "    st_cleaned.append(re.findall('`(.*)`', temp.split(':')[-1]))\n",
    "    \n",
    "st_cleaned = set([tuple(x.replace('(', '').replace(')', '').split(', ')) for y in st_cleaned for x in y if len(x) > 0])"
   ]
  },
  {
   "cell_type": "code",
   "execution_count": null,
   "id": "2ccfbbb6",
   "metadata": {},
   "outputs": [],
   "source": [
    "import pickle as pkl\n",
    "\n",
    "with open('triplet_dump.pkl', 'wb') as f:\n",
    "    pkl.dump(st_cleaned, f)"
   ]
  },
  {
   "cell_type": "code",
   "execution_count": null,
   "id": "a5685b85",
   "metadata": {},
   "outputs": [],
   "source": [
    "edge_types = [x[1] for x in st_cleaned if len(x) == 3]"
   ]
  },
  {
   "cell_type": "code",
   "execution_count": null,
   "id": "e654d989",
   "metadata": {},
   "outputs": [],
   "source": [
    "import dgl\n",
    "\n",
    "kg = {}\n",
    "\n",
    "for e in edge_types:\n",
    "    kg[('node', e, 'node')] = []"
   ]
  },
  {
   "cell_type": "code",
   "execution_count": null,
   "id": "ba7db8c6",
   "metadata": {},
   "outputs": [],
   "source": [
    "import re\n",
    "\n",
    "nodes_all = []\n",
    "prefix_all = []\n",
    "\n",
    "to_ignore = ['people']\n",
    "\n",
    "for x in tqdm(st_cleaned):\n",
    "#     print(x[0])\n",
    "    if len(x) == 3:\n",
    "        if len(re.sub(r'[^a-zA-Z]', '', x[0])) == 0 or len(re.sub(r'[^a-zA-Z]', '', x[2])) == 0:\n",
    "            continue\n",
    "        elif x[0] in to_ignore or x[2] in to_ignore:\n",
    "            continue\n",
    "        else:\n",
    "        \n",
    "            temp = x[0].replace('folks', 'people').replace('race', 'people')\n",
    "            try:\n",
    "                start_node = nodes_all.index(temp)\n",
    "            except ValueError as e:\n",
    "                start_node = len(nodes_all)\n",
    "                nodes_all.append(temp)\n",
    "\n",
    "            temp = x[2].replace('folks', 'people').replace('race', 'people')\n",
    "            try:\n",
    "                end_node = nodes_all.index(temp)\n",
    "            except ValueError as e:\n",
    "                end_node = len(nodes_all)\n",
    "                nodes_all.append(temp)\n",
    "\n",
    "            kg[('node', x[1], 'node')].append([start_node, end_node])"
   ]
  },
  {
   "cell_type": "code",
   "execution_count": null,
   "id": "e5773115",
   "metadata": {},
   "outputs": [],
   "source": [
    "\n",
    "from dgl import heterograph\n",
    "\n",
    "sbic_kg = heterograph(kg)"
   ]
  },
  {
   "cell_type": "code",
   "execution_count": null,
   "id": "78e0f6bf",
   "metadata": {},
   "outputs": [],
   "source": [
    "def subgraph(event, kg, query_e=edge_types):\n",
    "    if type(event) is not int:\n",
    "        i = nodes_all.index(event)\n",
    "    else:\n",
    "        i = event\n",
    "\n",
    "    sub = dgl.in_subgraph(kg, nodes={'node': [i]})\n",
    "    r = set()\n",
    "    for e in query_e:\n",
    "        edges = sub.edges(etype=('node', e, 'node'))\n",
    "\n",
    "        for i in range(len(edges[0])):\n",
    "#             print(nodes_all[edges[0][i]], e, nodes_all[edges[1][i]])\n",
    "            r.add((nodes_all[edges[0][i]], e, nodes_all[edges[1][i]]))\n",
    "\n",
    "    return r"
   ]
  },
  {
   "cell_type": "code",
   "execution_count": null,
   "id": "42001e78",
   "metadata": {},
   "outputs": [],
   "source": [
    "nodes_all"
   ]
  },
  {
   "cell_type": "code",
   "execution_count": null,
   "id": "af08961d",
   "metadata": {},
   "outputs": [],
   "source": [
    "temp = subgraph('r word people', sbic_kg)"
   ]
  },
  {
   "cell_type": "code",
   "execution_count": null,
   "id": "c7cdd7f3",
   "metadata": {},
   "outputs": [],
   "source": [
    "temp"
   ]
  },
  {
   "cell_type": "code",
   "execution_count": null,
   "id": "4db8ac56",
   "metadata": {
    "scrolled": true
   },
   "outputs": [],
   "source": [
    "sbic_kg"
   ]
  },
  {
   "cell_type": "code",
   "execution_count": null,
   "id": "076b177f",
   "metadata": {},
   "outputs": [],
   "source": []
  }
 ],
 "metadata": {
  "kernelspec": {
   "display_name": "Python 3 (ipykernel)",
   "language": "python",
   "name": "python3"
  },
  "language_info": {
   "codemirror_mode": {
    "name": "ipython",
    "version": 3
   },
   "file_extension": ".py",
   "mimetype": "text/x-python",
   "name": "python",
   "nbconvert_exporter": "python",
   "pygments_lexer": "ipython3",
   "version": "3.9.12"
  }
 },
 "nbformat": 4,
 "nbformat_minor": 5
}
