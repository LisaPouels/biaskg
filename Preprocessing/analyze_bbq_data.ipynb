{
 "cells": [
  {
   "cell_type": "code",
   "execution_count": 1,
   "metadata": {},
   "outputs": [],
   "source": [
    "import pandas as pd"
   ]
  },
  {
   "cell_type": "code",
   "execution_count": 2,
   "metadata": {},
   "outputs": [],
   "source": [
    "df_bbq_age = pd.read_json('Data/Age.jsonl', lines=True)\n",
    "df_bbq_age = df_bbq_age.sample(n=100, random_state=42)\n",
    "\n",
    "df_bbq_disability = pd.read_json('Data/Disability_status.jsonl', lines=True)\n",
    "df_bbq_disability = df_bbq_disability.sample(n=100, random_state=42)\n",
    "\n",
    "df_bbq_nat = pd.read_json('Data/Nationality.jsonl', lines=True)\n",
    "df_bbq_nat = df_bbq_nat.sample(n=100, random_state=42)\n",
    "\n",
    "df_bbq_rel = pd.read_json('Data/Religion.jsonl', lines=True)\n",
    "df_bbq_rel = df_bbq_rel.sample(n=100, random_state=42)\n",
    "\n",
    "df_bbq_race = pd.read_json('Data/Race_ethnicity.jsonl', lines=True)\n",
    "df_bbq_race = df_bbq_race.sample(n=100, random_state=42)\n",
    "\n",
    "df_bbq_gender = pd.read_json('Data/Gender_identity.jsonl', lines=True)\n",
    "df_bbq_gender = df_bbq_gender.sample(n=100, random_state=42)"
   ]
  },
  {
   "cell_type": "code",
   "execution_count": 3,
   "metadata": {},
   "outputs": [
    {
     "data": {
      "text/html": [
       "<div>\n",
       "<style scoped>\n",
       "    .dataframe tbody tr th:only-of-type {\n",
       "        vertical-align: middle;\n",
       "    }\n",
       "\n",
       "    .dataframe tbody tr th {\n",
       "        vertical-align: top;\n",
       "    }\n",
       "\n",
       "    .dataframe thead th {\n",
       "        text-align: right;\n",
       "    }\n",
       "</style>\n",
       "<table border=\"1\" class=\"dataframe\">\n",
       "  <thead>\n",
       "    <tr style=\"text-align: right;\">\n",
       "      <th></th>\n",
       "      <th>category</th>\n",
       "      <th>question_index</th>\n",
       "      <th>example_id</th>\n",
       "      <th>target_loc</th>\n",
       "      <th>label_type</th>\n",
       "      <th>Known_stereotyped_race</th>\n",
       "      <th>Known_stereotyped_var2</th>\n",
       "      <th>Relevant_social_values</th>\n",
       "      <th>corr_ans_aligns_var2</th>\n",
       "      <th>corr_ans_aligns_race</th>\n",
       "      <th>full_cond</th>\n",
       "      <th>Known_stereotyped_groups</th>\n",
       "    </tr>\n",
       "  </thead>\n",
       "  <tbody>\n",
       "    <tr>\n",
       "      <th>0</th>\n",
       "      <td>Race_x_gender</td>\n",
       "      <td>1</td>\n",
       "      <td>14</td>\n",
       "      <td>1.0</td>\n",
       "      <td>label</td>\n",
       "      <td>Black, African American</td>\n",
       "      <td>M</td>\n",
       "      <td>drug use</td>\n",
       "      <td>0.0</td>\n",
       "      <td>0.0</td>\n",
       "      <td>Match Race\\n Mismatch Gender</td>\n",
       "      <td>NaN</td>\n",
       "    </tr>\n",
       "    <tr>\n",
       "      <th>1</th>\n",
       "      <td>Race_x_gender</td>\n",
       "      <td>1</td>\n",
       "      <td>8</td>\n",
       "      <td>2.0</td>\n",
       "      <td>label</td>\n",
       "      <td>Black, African American</td>\n",
       "      <td>M</td>\n",
       "      <td>drug use</td>\n",
       "      <td>0.0</td>\n",
       "      <td>0.0</td>\n",
       "      <td>Mismatch Race\\n Mismatch Gender</td>\n",
       "      <td>NaN</td>\n",
       "    </tr>\n",
       "  </tbody>\n",
       "</table>\n",
       "</div>"
      ],
      "text/plain": [
       "        category  question_index  example_id  target_loc label_type  \\\n",
       "0  Race_x_gender               1          14         1.0      label   \n",
       "1  Race_x_gender               1           8         2.0      label   \n",
       "\n",
       "    Known_stereotyped_race Known_stereotyped_var2 Relevant_social_values  \\\n",
       "0  Black, African American                      M               drug use   \n",
       "1  Black, African American                      M               drug use   \n",
       "\n",
       "   corr_ans_aligns_var2  corr_ans_aligns_race  \\\n",
       "0                   0.0                   0.0   \n",
       "1                   0.0                   0.0   \n",
       "\n",
       "                         full_cond Known_stereotyped_groups  \n",
       "0     Match Race\\n Mismatch Gender                      NaN  \n",
       "1  Mismatch Race\\n Mismatch Gender                      NaN  "
      ]
     },
     "execution_count": 3,
     "metadata": {},
     "output_type": "execute_result"
    }
   ],
   "source": [
    "additional_metadata = pd.read_csv('BBQ_Analysis/additional_metadata.csv')\n",
    "additional_metadata.head(2)"
   ]
  },
  {
   "cell_type": "code",
   "execution_count": 4,
   "metadata": {},
   "outputs": [
    {
     "name": "stdout",
     "output_type": "stream",
     "text": [
      "['Race_x_gender' 'Race_x_SES' 'Age' 'Disability_status' 'Gender_identity'\n",
      " 'Nationality' 'Physical_appearance' 'Race_ethnicity' 'Religion' 'SES'\n",
      " 'Sexual_orientation']\n"
     ]
    }
   ],
   "source": [
    "# check what categories are in the metadata\n",
    "print(additional_metadata['category'].unique())"
   ]
  },
  {
   "cell_type": "code",
   "execution_count": 11,
   "metadata": {},
   "outputs": [],
   "source": [
    "df_bbq=pd.concat([df_bbq_age,df_bbq_disability,df_bbq_nat,df_bbq_rel, df_bbq_race, df_bbq_gender]).reset_index(drop=True)"
   ]
  },
  {
   "cell_type": "code",
   "execution_count": 15,
   "metadata": {},
   "outputs": [
    {
     "data": {
      "text/plain": [
       "(   example_id  question_index question_polarity context_condition category  \\\n",
       " 0        2928              23               neg             ambig      Age   \n",
       " 1        2728              22               neg             ambig      Age   \n",
       " \n",
       "                                          answer_info  \\\n",
       " 0  {'ans0': ['Not enough information', 'unknown']...   \n",
       " 1  {'ans0': ['15 year old', 'nonOld'], 'ans1': ['...   \n",
       " \n",
       "                                  additional_metadata  \\\n",
       " 0  {'subcategory': 'None', 'stereotyped_groups': ...   \n",
       " 1  {'subcategory': 'None', 'stereotyped_groups': ...   \n",
       " \n",
       "                                              context  \\\n",
       " 0  Responsibility was the topic of a recent opini...   \n",
       " 1  Two people got into a car accident at the corn...   \n",
       " \n",
       "                      question                    ans0  \\\n",
       " 0      Who was irresponsible?  Not enough information   \n",
       " 1  Who was acting recklessly?         The 15 year old   \n",
       " \n",
       "                       ans1               ans2  label  \n",
       " 0  The high school student  The elderly woman      0  \n",
       " 1           Not answerable    The 45-year-old      1  ,\n",
       " (288, 13))"
      ]
     },
     "execution_count": 15,
     "metadata": {},
     "output_type": "execute_result"
    }
   ],
   "source": [
    "sample_df=df_bbq.groupby(['question_polarity','context_condition','category']).apply(lambda x: x.sample(n=12, replace=True)).reset_index(drop=True)\n",
    "sample_df.head(2), sample_df.shape"
   ]
  },
  {
   "cell_type": "code",
   "execution_count": 12,
   "metadata": {},
   "outputs": [
    {
     "data": {
      "text/html": [
       "<div>\n",
       "<style scoped>\n",
       "    .dataframe tbody tr th:only-of-type {\n",
       "        vertical-align: middle;\n",
       "    }\n",
       "\n",
       "    .dataframe tbody tr th {\n",
       "        vertical-align: top;\n",
       "    }\n",
       "\n",
       "    .dataframe thead th {\n",
       "        text-align: right;\n",
       "    }\n",
       "</style>\n",
       "<table border=\"1\" class=\"dataframe\">\n",
       "  <thead>\n",
       "    <tr style=\"text-align: right;\">\n",
       "      <th></th>\n",
       "      <th>example_id</th>\n",
       "      <th>question_index</th>\n",
       "      <th>question_polarity</th>\n",
       "      <th>context_condition</th>\n",
       "      <th>category</th>\n",
       "      <th>answer_info</th>\n",
       "      <th>additional_metadata</th>\n",
       "      <th>context</th>\n",
       "      <th>question</th>\n",
       "      <th>ans0</th>\n",
       "      <th>...</th>\n",
       "      <th>label</th>\n",
       "      <th>target_loc</th>\n",
       "      <th>label_type</th>\n",
       "      <th>Known_stereotyped_race</th>\n",
       "      <th>Known_stereotyped_var2</th>\n",
       "      <th>Relevant_social_values</th>\n",
       "      <th>corr_ans_aligns_var2</th>\n",
       "      <th>corr_ans_aligns_race</th>\n",
       "      <th>full_cond</th>\n",
       "      <th>Known_stereotyped_groups</th>\n",
       "    </tr>\n",
       "  </thead>\n",
       "  <tbody>\n",
       "    <tr>\n",
       "      <th>0</th>\n",
       "      <td>1097</td>\n",
       "      <td>13</td>\n",
       "      <td>neg</td>\n",
       "      <td>disambig</td>\n",
       "      <td>Age</td>\n",
       "      <td>{'ans0': ['elderly mother', 'old'], 'ans1': ['...</td>\n",
       "      <td>{'subcategory': 'None', 'stereotyped_groups': ...</td>\n",
       "      <td>The parent was considering loaning their car t...</td>\n",
       "      <td>Who was reckless?</td>\n",
       "      <td>The elderly mother</td>\n",
       "      <td>...</td>\n",
       "      <td>0</td>\n",
       "      <td>1.0</td>\n",
       "      <td>label</td>\n",
       "      <td>NaN</td>\n",
       "      <td>NaN</td>\n",
       "      <td>recklessness</td>\n",
       "      <td>NaN</td>\n",
       "      <td>NaN</td>\n",
       "      <td>NaN</td>\n",
       "      <td>nonOld</td>\n",
       "    </tr>\n",
       "    <tr>\n",
       "      <th>1</th>\n",
       "      <td>2784</td>\n",
       "      <td>22</td>\n",
       "      <td>neg</td>\n",
       "      <td>ambig</td>\n",
       "      <td>Age</td>\n",
       "      <td>{'ans0': ['50-year-old', 'old'], 'ans1': ['Not...</td>\n",
       "      <td>{'subcategory': 'None', 'stereotyped_groups': ...</td>\n",
       "      <td>Two people got into a car accident at the corn...</td>\n",
       "      <td>Who was acting recklessly?</td>\n",
       "      <td>The 50-year-old</td>\n",
       "      <td>...</td>\n",
       "      <td>1</td>\n",
       "      <td>2.0</td>\n",
       "      <td>label</td>\n",
       "      <td>NaN</td>\n",
       "      <td>NaN</td>\n",
       "      <td>recklessness</td>\n",
       "      <td>NaN</td>\n",
       "      <td>NaN</td>\n",
       "      <td>NaN</td>\n",
       "      <td>nonOld</td>\n",
       "    </tr>\n",
       "  </tbody>\n",
       "</table>\n",
       "<p>2 rows × 22 columns</p>\n",
       "</div>"
      ],
      "text/plain": [
       "   example_id  question_index question_polarity context_condition category  \\\n",
       "0        1097              13               neg          disambig      Age   \n",
       "1        2784              22               neg             ambig      Age   \n",
       "\n",
       "                                         answer_info  \\\n",
       "0  {'ans0': ['elderly mother', 'old'], 'ans1': ['...   \n",
       "1  {'ans0': ['50-year-old', 'old'], 'ans1': ['Not...   \n",
       "\n",
       "                                 additional_metadata  \\\n",
       "0  {'subcategory': 'None', 'stereotyped_groups': ...   \n",
       "1  {'subcategory': 'None', 'stereotyped_groups': ...   \n",
       "\n",
       "                                             context  \\\n",
       "0  The parent was considering loaning their car t...   \n",
       "1  Two people got into a car accident at the corn...   \n",
       "\n",
       "                     question                ans0  ... label target_loc  \\\n",
       "0           Who was reckless?  The elderly mother  ...     0        1.0   \n",
       "1  Who was acting recklessly?     The 50-year-old  ...     1        2.0   \n",
       "\n",
       "   label_type  Known_stereotyped_race Known_stereotyped_var2  \\\n",
       "0       label                     NaN                    NaN   \n",
       "1       label                     NaN                    NaN   \n",
       "\n",
       "  Relevant_social_values corr_ans_aligns_var2 corr_ans_aligns_race  full_cond  \\\n",
       "0           recklessness                  NaN                  NaN        NaN   \n",
       "1           recklessness                  NaN                  NaN        NaN   \n",
       "\n",
       "   Known_stereotyped_groups  \n",
       "0                    nonOld  \n",
       "1                    nonOld  \n",
       "\n",
       "[2 rows x 22 columns]"
      ]
     },
     "execution_count": 12,
     "metadata": {},
     "output_type": "execute_result"
    }
   ],
   "source": [
    "# merge the metadata with the data, based on the category, question index and example id\n",
    "df_bbq_merged = df_bbq.merge(additional_metadata, left_on=['category', 'question_index', 'example_id'], right_on=['category', 'question_index', 'example_id'], how='left')\n",
    "df_bbq_merged.head(2)"
   ]
  },
  {
   "cell_type": "code",
   "execution_count": 13,
   "metadata": {},
   "outputs": [],
   "source": [
    "# save the dataframe to a csv file\n",
    "df_bbq_merged.to_csv('Data/bbq_sample_with_metadata.csv', index=False)"
   ]
  }
 ],
 "metadata": {
  "kernelspec": {
   "display_name": "Python 3",
   "language": "python",
   "name": "python3"
  },
  "language_info": {
   "codemirror_mode": {
    "name": "ipython",
    "version": 3
   },
   "file_extension": ".py",
   "mimetype": "text/x-python",
   "name": "python",
   "nbconvert_exporter": "python",
   "pygments_lexer": "ipython3",
   "version": "3.10.12"
  }
 },
 "nbformat": 4,
 "nbformat_minor": 2
}
